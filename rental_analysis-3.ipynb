{
 "cells": [
  {
   "cell_type": "markdown",
   "metadata": {},
   "source": [
    "# Toronto Dwellings Analysis\n",
    "\n",
    "In this assignment, you will perform fundamental analysis for the Toronto dwellings market to allow potential real estate investors to choose rental investment properties."
   ]
  },
  {
   "cell_type": "code",
   "execution_count": 48,
   "metadata": {},
   "outputs": [],
   "source": [
    "# imports\n",
    "import panel as pn\n",
    "pn.extension('plotly')\n",
    "import plotly.express as px\n",
    "import pandas as pd\n",
    "import hvplot.pandas\n",
    "import matplotlib.pyplot as plt\n",
    "import os\n",
    "from pathlib import Path\n",
    "from dotenv import load_dotenv"
   ]
  },
  {
   "cell_type": "code",
   "execution_count": 49,
   "metadata": {},
   "outputs": [],
   "source": [
    "# Read the Mapbox API key\n",
    "load_dotenv()\n",
    "map_box_api = os.getenv(\"mapbox\")"
   ]
  },
  {
   "cell_type": "markdown",
   "metadata": {},
   "source": [
    "\n",
    "## Load Data"
   ]
  },
  {
   "cell_type": "code",
   "execution_count": 50,
   "metadata": {},
   "outputs": [
    {
     "data": {
      "text/html": [
       "<div>\n",
       "<style scoped>\n",
       "    .dataframe tbody tr th:only-of-type {\n",
       "        vertical-align: middle;\n",
       "    }\n",
       "\n",
       "    .dataframe tbody tr th {\n",
       "        vertical-align: top;\n",
       "    }\n",
       "\n",
       "    .dataframe thead th {\n",
       "        text-align: right;\n",
       "    }\n",
       "</style>\n",
       "<table border=\"1\" class=\"dataframe\">\n",
       "  <thead>\n",
       "    <tr style=\"text-align: right;\">\n",
       "      <th></th>\n",
       "      <th>neighbourhood</th>\n",
       "      <th>single_detached_house</th>\n",
       "      <th>apartment_five_storeys_plus</th>\n",
       "      <th>movable_dwelling</th>\n",
       "      <th>semi_detached_house</th>\n",
       "      <th>row_house</th>\n",
       "      <th>duplex</th>\n",
       "      <th>apartment_five_storeys_less</th>\n",
       "      <th>other_house</th>\n",
       "      <th>average_house_value</th>\n",
       "      <th>shelter_costs_owned</th>\n",
       "      <th>shelter_costs_rented</th>\n",
       "    </tr>\n",
       "    <tr>\n",
       "      <th>year</th>\n",
       "      <th></th>\n",
       "      <th></th>\n",
       "      <th></th>\n",
       "      <th></th>\n",
       "      <th></th>\n",
       "      <th></th>\n",
       "      <th></th>\n",
       "      <th></th>\n",
       "      <th></th>\n",
       "      <th></th>\n",
       "      <th></th>\n",
       "      <th></th>\n",
       "    </tr>\n",
       "  </thead>\n",
       "  <tbody>\n",
       "    <tr>\n",
       "      <th>2001</th>\n",
       "      <td>Agincourt North</td>\n",
       "      <td>3715</td>\n",
       "      <td>1480</td>\n",
       "      <td>0</td>\n",
       "      <td>1055</td>\n",
       "      <td>1295</td>\n",
       "      <td>195</td>\n",
       "      <td>185</td>\n",
       "      <td>5</td>\n",
       "      <td>200388</td>\n",
       "      <td>810</td>\n",
       "      <td>870</td>\n",
       "    </tr>\n",
       "    <tr>\n",
       "      <th>2001</th>\n",
       "      <td>Agincourt South-Malvern West</td>\n",
       "      <td>3250</td>\n",
       "      <td>1835</td>\n",
       "      <td>0</td>\n",
       "      <td>545</td>\n",
       "      <td>455</td>\n",
       "      <td>105</td>\n",
       "      <td>425</td>\n",
       "      <td>0</td>\n",
       "      <td>203047</td>\n",
       "      <td>806</td>\n",
       "      <td>892</td>\n",
       "    </tr>\n",
       "    <tr>\n",
       "      <th>2001</th>\n",
       "      <td>Alderwood</td>\n",
       "      <td>3175</td>\n",
       "      <td>315</td>\n",
       "      <td>0</td>\n",
       "      <td>470</td>\n",
       "      <td>50</td>\n",
       "      <td>185</td>\n",
       "      <td>370</td>\n",
       "      <td>0</td>\n",
       "      <td>259998</td>\n",
       "      <td>817</td>\n",
       "      <td>924</td>\n",
       "    </tr>\n",
       "    <tr>\n",
       "      <th>2001</th>\n",
       "      <td>Annex</td>\n",
       "      <td>1060</td>\n",
       "      <td>6090</td>\n",
       "      <td>5</td>\n",
       "      <td>1980</td>\n",
       "      <td>605</td>\n",
       "      <td>275</td>\n",
       "      <td>3710</td>\n",
       "      <td>165</td>\n",
       "      <td>453850</td>\n",
       "      <td>1027</td>\n",
       "      <td>1378</td>\n",
       "    </tr>\n",
       "    <tr>\n",
       "      <th>2001</th>\n",
       "      <td>Banbury-Don Mills</td>\n",
       "      <td>3615</td>\n",
       "      <td>4465</td>\n",
       "      <td>0</td>\n",
       "      <td>240</td>\n",
       "      <td>380</td>\n",
       "      <td>15</td>\n",
       "      <td>1360</td>\n",
       "      <td>0</td>\n",
       "      <td>371864</td>\n",
       "      <td>1007</td>\n",
       "      <td>1163</td>\n",
       "    </tr>\n",
       "  </tbody>\n",
       "</table>\n",
       "</div>"
      ],
      "text/plain": [
       "                     neighbourhood  single_detached_house  \\\n",
       "year                                                        \n",
       "2001               Agincourt North                   3715   \n",
       "2001  Agincourt South-Malvern West                   3250   \n",
       "2001                     Alderwood                   3175   \n",
       "2001                         Annex                   1060   \n",
       "2001             Banbury-Don Mills                   3615   \n",
       "\n",
       "      apartment_five_storeys_plus  movable_dwelling  semi_detached_house  \\\n",
       "year                                                                       \n",
       "2001                         1480                 0                 1055   \n",
       "2001                         1835                 0                  545   \n",
       "2001                          315                 0                  470   \n",
       "2001                         6090                 5                 1980   \n",
       "2001                         4465                 0                  240   \n",
       "\n",
       "      row_house  duplex  apartment_five_storeys_less  other_house  \\\n",
       "year                                                                \n",
       "2001       1295     195                          185            5   \n",
       "2001        455     105                          425            0   \n",
       "2001         50     185                          370            0   \n",
       "2001        605     275                         3710          165   \n",
       "2001        380      15                         1360            0   \n",
       "\n",
       "      average_house_value  shelter_costs_owned  shelter_costs_rented  \n",
       "year                                                                  \n",
       "2001               200388                  810                   870  \n",
       "2001               203047                  806                   892  \n",
       "2001               259998                  817                   924  \n",
       "2001               453850                 1027                  1378  \n",
       "2001               371864                 1007                  1163  "
      ]
     },
     "execution_count": 50,
     "metadata": {},
     "output_type": "execute_result"
    }
   ],
   "source": [
    "# Read the census data into a Pandas DataFrame\n",
    "file_path = Path(\"toronto_neighbourhoods_census_data.csv\")\n",
    "to_data = pd.read_csv(file_path, index_col=\"year\")\n",
    "to_data.head()"
   ]
  },
  {
   "cell_type": "code",
   "execution_count": 51,
   "metadata": {},
   "outputs": [
    {
     "data": {
      "text/html": [
       "<div>\n",
       "<style scoped>\n",
       "    .dataframe tbody tr th:only-of-type {\n",
       "        vertical-align: middle;\n",
       "    }\n",
       "\n",
       "    .dataframe tbody tr th {\n",
       "        vertical-align: top;\n",
       "    }\n",
       "\n",
       "    .dataframe thead th {\n",
       "        text-align: right;\n",
       "    }\n",
       "</style>\n",
       "<table border=\"1\" class=\"dataframe\">\n",
       "  <thead>\n",
       "    <tr style=\"text-align: right;\">\n",
       "      <th></th>\n",
       "      <th>average_house_value</th>\n",
       "      <th>shelter_costs_rented</th>\n",
       "      <th>shelter_costs_owned</th>\n",
       "    </tr>\n",
       "    <tr>\n",
       "      <th>year</th>\n",
       "      <th></th>\n",
       "      <th></th>\n",
       "      <th></th>\n",
       "    </tr>\n",
       "  </thead>\n",
       "  <tbody>\n",
       "    <tr>\n",
       "      <th>2001</th>\n",
       "      <td>289882.885714</td>\n",
       "      <td>1085.935714</td>\n",
       "      <td>846.878571</td>\n",
       "    </tr>\n",
       "    <tr>\n",
       "      <th>2006</th>\n",
       "      <td>424059.664286</td>\n",
       "      <td>925.414286</td>\n",
       "      <td>1316.800000</td>\n",
       "    </tr>\n",
       "    <tr>\n",
       "      <th>2011</th>\n",
       "      <td>530424.721429</td>\n",
       "      <td>1019.792857</td>\n",
       "      <td>1448.214286</td>\n",
       "    </tr>\n",
       "    <tr>\n",
       "      <th>2016</th>\n",
       "      <td>664068.328571</td>\n",
       "      <td>1256.321429</td>\n",
       "      <td>1761.314286</td>\n",
       "    </tr>\n",
       "  </tbody>\n",
       "</table>\n",
       "</div>"
      ],
      "text/plain": [
       "      average_house_value  shelter_costs_rented  shelter_costs_owned\n",
       "year                                                                \n",
       "2001        289882.885714           1085.935714           846.878571\n",
       "2006        424059.664286            925.414286          1316.800000\n",
       "2011        530424.721429           1019.792857          1448.214286\n",
       "2016        664068.328571           1256.321429          1761.314286"
      ]
     },
     "execution_count": 51,
     "metadata": {},
     "output_type": "execute_result"
    }
   ],
   "source": [
    "average_data = (to_data[[\"average_house_value\", \"shelter_costs_rented\", \"shelter_costs_owned\"]].groupby(to_data.index).mean())\n",
    "average_data"
   ]
  },
  {
   "cell_type": "markdown",
   "metadata": {},
   "source": [
    "- - - "
   ]
  },
  {
   "cell_type": "code",
   "execution_count": null,
   "metadata": {},
   "outputs": [],
   "source": []
  },
  {
   "cell_type": "markdown",
   "metadata": {},
   "source": [
    "## Dwelling Types Per Year\n",
    "\n",
    "In this section, you will calculate the number of dwelling types per year. Visualize the results using bar charts and the Pandas plot function. \n",
    "\n",
    "**Hint:** Use the Pandas `groupby` function.\n",
    "\n",
    "**Optional challenge:** Plot each bar chart in a different color."
   ]
  },
  {
   "cell_type": "code",
   "execution_count": 52,
   "metadata": {},
   "outputs": [
    {
     "data": {
      "text/html": [
       "<div>\n",
       "<style scoped>\n",
       "    .dataframe tbody tr th:only-of-type {\n",
       "        vertical-align: middle;\n",
       "    }\n",
       "\n",
       "    .dataframe tbody tr th {\n",
       "        vertical-align: top;\n",
       "    }\n",
       "\n",
       "    .dataframe thead th {\n",
       "        text-align: right;\n",
       "    }\n",
       "</style>\n",
       "<table border=\"1\" class=\"dataframe\">\n",
       "  <thead>\n",
       "    <tr style=\"text-align: right;\">\n",
       "      <th></th>\n",
       "      <th>single_detached_house</th>\n",
       "      <th>apartment_five_storeys_plus</th>\n",
       "      <th>movable_dwelling</th>\n",
       "      <th>semi_detached_house</th>\n",
       "      <th>row_house</th>\n",
       "      <th>duplex</th>\n",
       "      <th>apartment_five_storeys_less</th>\n",
       "      <th>other_house</th>\n",
       "      <th>average_house_value</th>\n",
       "      <th>shelter_costs_owned</th>\n",
       "      <th>shelter_costs_rented</th>\n",
       "    </tr>\n",
       "    <tr>\n",
       "      <th>year</th>\n",
       "      <th></th>\n",
       "      <th></th>\n",
       "      <th></th>\n",
       "      <th></th>\n",
       "      <th></th>\n",
       "      <th></th>\n",
       "      <th></th>\n",
       "      <th></th>\n",
       "      <th></th>\n",
       "      <th></th>\n",
       "      <th></th>\n",
       "    </tr>\n",
       "  </thead>\n",
       "  <tbody>\n",
       "    <tr>\n",
       "      <th>2001</th>\n",
       "      <td>300930</td>\n",
       "      <td>355015</td>\n",
       "      <td>75</td>\n",
       "      <td>90995</td>\n",
       "      <td>52355</td>\n",
       "      <td>23785</td>\n",
       "      <td>116900</td>\n",
       "      <td>3040</td>\n",
       "      <td>40583604</td>\n",
       "      <td>118563</td>\n",
       "      <td>152031</td>\n",
       "    </tr>\n",
       "    <tr>\n",
       "      <th>2006</th>\n",
       "      <td>266860</td>\n",
       "      <td>379400</td>\n",
       "      <td>165</td>\n",
       "      <td>69430</td>\n",
       "      <td>54690</td>\n",
       "      <td>44095</td>\n",
       "      <td>162850</td>\n",
       "      <td>1335</td>\n",
       "      <td>59368353</td>\n",
       "      <td>184352</td>\n",
       "      <td>129558</td>\n",
       "    </tr>\n",
       "    <tr>\n",
       "      <th>2011</th>\n",
       "      <td>274940</td>\n",
       "      <td>429220</td>\n",
       "      <td>100</td>\n",
       "      <td>72480</td>\n",
       "      <td>60355</td>\n",
       "      <td>44750</td>\n",
       "      <td>163895</td>\n",
       "      <td>2165</td>\n",
       "      <td>74259461</td>\n",
       "      <td>202750</td>\n",
       "      <td>142771</td>\n",
       "    </tr>\n",
       "    <tr>\n",
       "      <th>2016</th>\n",
       "      <td>269680</td>\n",
       "      <td>493270</td>\n",
       "      <td>95</td>\n",
       "      <td>71200</td>\n",
       "      <td>61565</td>\n",
       "      <td>48585</td>\n",
       "      <td>165575</td>\n",
       "      <td>2845</td>\n",
       "      <td>92969566</td>\n",
       "      <td>246584</td>\n",
       "      <td>175885</td>\n",
       "    </tr>\n",
       "  </tbody>\n",
       "</table>\n",
       "</div>"
      ],
      "text/plain": [
       "      single_detached_house  apartment_five_storeys_plus  movable_dwelling  \\\n",
       "year                                                                         \n",
       "2001                 300930                       355015                75   \n",
       "2006                 266860                       379400               165   \n",
       "2011                 274940                       429220               100   \n",
       "2016                 269680                       493270                95   \n",
       "\n",
       "      semi_detached_house  row_house  duplex  apartment_five_storeys_less  \\\n",
       "year                                                                        \n",
       "2001                90995      52355   23785                       116900   \n",
       "2006                69430      54690   44095                       162850   \n",
       "2011                72480      60355   44750                       163895   \n",
       "2016                71200      61565   48585                       165575   \n",
       "\n",
       "      other_house  average_house_value  shelter_costs_owned  \\\n",
       "year                                                          \n",
       "2001         3040             40583604               118563   \n",
       "2006         1335             59368353               184352   \n",
       "2011         2165             74259461               202750   \n",
       "2016         2845             92969566               246584   \n",
       "\n",
       "      shelter_costs_rented  \n",
       "year                        \n",
       "2001                152031  \n",
       "2006                129558  \n",
       "2011                142771  \n",
       "2016                175885  "
      ]
     },
     "execution_count": 52,
     "metadata": {},
     "output_type": "execute_result"
    }
   ],
   "source": [
    "# Calculate the sum number of dwelling types units per year (hint: use groupby)\n",
    "to_data1 = to_data.groupby('year').sum()\n",
    "to_data1"
   ]
  },
  {
   "cell_type": "code",
   "execution_count": 53,
   "metadata": {},
   "outputs": [
    {
     "data": {
      "text/plain": [
       "4"
      ]
     },
     "execution_count": 53,
     "metadata": {},
     "output_type": "execute_result"
    }
   ],
   "source": [
    "\n",
    "len(to_data1)"
   ]
  },
  {
   "cell_type": "code",
   "execution_count": 54,
   "metadata": {},
   "outputs": [],
   "source": [
    "#save the dataframe as a csvfile\n",
    "df= to_data1\n",
    "df.to_csv(\"df.csv\")"
   ]
  },
  {
   "cell_type": "code",
   "execution_count": 55,
   "metadata": {},
   "outputs": [
    {
     "data": {
      "text/html": [
       "<div>\n",
       "<style scoped>\n",
       "    .dataframe tbody tr th:only-of-type {\n",
       "        vertical-align: middle;\n",
       "    }\n",
       "\n",
       "    .dataframe tbody tr th {\n",
       "        vertical-align: top;\n",
       "    }\n",
       "\n",
       "    .dataframe thead th {\n",
       "        text-align: right;\n",
       "    }\n",
       "</style>\n",
       "<table border=\"1\" class=\"dataframe\">\n",
       "  <thead>\n",
       "    <tr style=\"text-align: right;\">\n",
       "      <th></th>\n",
       "      <th>single_detached_house</th>\n",
       "      <th>apartment_five_storeys_plus</th>\n",
       "      <th>movable_dwelling</th>\n",
       "      <th>semi_detached_house</th>\n",
       "      <th>row_house</th>\n",
       "      <th>duplex</th>\n",
       "      <th>apartment_five_storeys_less</th>\n",
       "      <th>other_house</th>\n",
       "    </tr>\n",
       "    <tr>\n",
       "      <th>year</th>\n",
       "      <th></th>\n",
       "      <th></th>\n",
       "      <th></th>\n",
       "      <th></th>\n",
       "      <th></th>\n",
       "      <th></th>\n",
       "      <th></th>\n",
       "      <th></th>\n",
       "    </tr>\n",
       "  </thead>\n",
       "  <tbody>\n",
       "    <tr>\n",
       "      <th>2001</th>\n",
       "      <td>300930</td>\n",
       "      <td>355015</td>\n",
       "      <td>75</td>\n",
       "      <td>90995</td>\n",
       "      <td>52355</td>\n",
       "      <td>23785</td>\n",
       "      <td>116900</td>\n",
       "      <td>3040</td>\n",
       "    </tr>\n",
       "    <tr>\n",
       "      <th>2006</th>\n",
       "      <td>266860</td>\n",
       "      <td>379400</td>\n",
       "      <td>165</td>\n",
       "      <td>69430</td>\n",
       "      <td>54690</td>\n",
       "      <td>44095</td>\n",
       "      <td>162850</td>\n",
       "      <td>1335</td>\n",
       "    </tr>\n",
       "    <tr>\n",
       "      <th>2011</th>\n",
       "      <td>274940</td>\n",
       "      <td>429220</td>\n",
       "      <td>100</td>\n",
       "      <td>72480</td>\n",
       "      <td>60355</td>\n",
       "      <td>44750</td>\n",
       "      <td>163895</td>\n",
       "      <td>2165</td>\n",
       "    </tr>\n",
       "    <tr>\n",
       "      <th>2016</th>\n",
       "      <td>269680</td>\n",
       "      <td>493270</td>\n",
       "      <td>95</td>\n",
       "      <td>71200</td>\n",
       "      <td>61565</td>\n",
       "      <td>48585</td>\n",
       "      <td>165575</td>\n",
       "      <td>2845</td>\n",
       "    </tr>\n",
       "  </tbody>\n",
       "</table>\n",
       "</div>"
      ],
      "text/plain": [
       "      single_detached_house  apartment_five_storeys_plus  movable_dwelling  \\\n",
       "year                                                                         \n",
       "2001                 300930                       355015                75   \n",
       "2006                 266860                       379400               165   \n",
       "2011                 274940                       429220               100   \n",
       "2016                 269680                       493270                95   \n",
       "\n",
       "      semi_detached_house  row_house  duplex  apartment_five_storeys_less  \\\n",
       "year                                                                        \n",
       "2001                90995      52355   23785                       116900   \n",
       "2006                69430      54690   44095                       162850   \n",
       "2011                72480      60355   44750                       163895   \n",
       "2016                71200      61565   48585                       165575   \n",
       "\n",
       "      other_house  \n",
       "year               \n",
       "2001         3040  \n",
       "2006         1335  \n",
       "2011         2165  \n",
       "2016         2845  "
      ]
     },
     "execution_count": 55,
     "metadata": {},
     "output_type": "execute_result"
    }
   ],
   "source": [
    "to_data1.drop(columns=['average_house_value', 'shelter_costs_owned', 'shelter_costs_rented'], inplace=True)\n",
    "to_data1"
   ]
  },
  {
   "cell_type": "code",
   "execution_count": 56,
   "metadata": {},
   "outputs": [
    {
     "data": {
      "text/plain": [
       "<matplotlib.axes._subplots.AxesSubplot at 0x7ff2d1eb8b90>"
      ]
     },
     "execution_count": 56,
     "metadata": {},
     "output_type": "execute_result"
    },
    {
     "data": {
      "image/png": "[encoded data removed]",
      "text/plain": [
       "<Figure size 432x288 with 1 Axes>"
      ]
     },
     "metadata": {
      "needs_background": "light"
     },
     "output_type": "display_data"
    }
   ],
   "source": [
    "# Helper create_bar_chart function\n",
    "# Create a bar chart per year to show the number of dwelling types\n",
    "\n",
    "# Bar chart for 2001\n",
    "# YOUR CODE HERE!\n",
    "\n",
    "# Bar chart for 2006\n",
    "# YOUR CODE HERE!\n",
    "\n",
    "# Bar chart for 2011\n",
    "# YOUR CODE HERE!\n",
    "\n",
    "# Bar chart for 2016\n",
    "# YOUR CODE HERE!\n",
    "def create_bar_chart(data,title, xlabel, ylabel, color):\n",
    "    to_data1.plot(kind=\"bar\")\n",
    "to_data1.plot(kind=\"bar\")\n",
    "\n"
   ]
  },
  {
   "cell_type": "code",
   "execution_count": null,
   "metadata": {},
   "outputs": [],
   "source": []
  },
  {
   "cell_type": "code",
   "execution_count": 57,
   "metadata": {},
   "outputs": [],
   "source": [
    "# Create a bar chart per year to show the number of dwelling types\n",
    "\n",
    "# Bar chart for 2001\n",
    "# YOUR CODE HERE!\n",
    "\n",
    "# Bar chart for 2006\n",
    "# YOUR CODE HERE!\n",
    "\n",
    "# Bar chart for 2011\n",
    "# YOUR CODE HERE!\n",
    "\n",
    "# Bar chart for 2016\n",
    "# YOUR CODE HERE!"
   ]
  },
  {
   "cell_type": "markdown",
   "metadata": {},
   "source": [
    "- - - "
   ]
  },
  {
   "cell_type": "markdown",
   "metadata": {},
   "source": [
    "## Average Monthly Shelter Costs in Toronto Per Year\n",
    "\n",
    "In this section, you will calculate the average monthly shelter costs for owned and rented dwellings and the average house value for each year. Plot the results as a line chart.\n",
    "\n",
    "**Optional challenge:** Plot each line chart in a different color."
   ]
  },
  {
   "cell_type": "code",
   "execution_count": 58,
   "metadata": {},
   "outputs": [
    {
     "data": {
      "text/html": [
       "<div>\n",
       "<style scoped>\n",
       "    .dataframe tbody tr th:only-of-type {\n",
       "        vertical-align: middle;\n",
       "    }\n",
       "\n",
       "    .dataframe tbody tr th {\n",
       "        vertical-align: top;\n",
       "    }\n",
       "\n",
       "    .dataframe thead th {\n",
       "        text-align: right;\n",
       "    }\n",
       "</style>\n",
       "<table border=\"1\" class=\"dataframe\">\n",
       "  <thead>\n",
       "    <tr style=\"text-align: right;\">\n",
       "      <th></th>\n",
       "      <th>average_house_value</th>\n",
       "      <th>shelter_costs_rented</th>\n",
       "      <th>shelter_costs_owned</th>\n",
       "    </tr>\n",
       "    <tr>\n",
       "      <th>year</th>\n",
       "      <th></th>\n",
       "      <th></th>\n",
       "      <th></th>\n",
       "    </tr>\n",
       "  </thead>\n",
       "  <tbody>\n",
       "    <tr>\n",
       "      <th>2001</th>\n",
       "      <td>289882.885714</td>\n",
       "      <td>1085.935714</td>\n",
       "      <td>846.878571</td>\n",
       "    </tr>\n",
       "    <tr>\n",
       "      <th>2006</th>\n",
       "      <td>424059.664286</td>\n",
       "      <td>925.414286</td>\n",
       "      <td>1316.800000</td>\n",
       "    </tr>\n",
       "    <tr>\n",
       "      <th>2011</th>\n",
       "      <td>530424.721429</td>\n",
       "      <td>1019.792857</td>\n",
       "      <td>1448.214286</td>\n",
       "    </tr>\n",
       "    <tr>\n",
       "      <th>2016</th>\n",
       "      <td>664068.328571</td>\n",
       "      <td>1256.321429</td>\n",
       "      <td>1761.314286</td>\n",
       "    </tr>\n",
       "  </tbody>\n",
       "</table>\n",
       "</div>"
      ],
      "text/plain": [
       "      average_house_value  shelter_costs_rented  shelter_costs_owned\n",
       "year                                                                \n",
       "2001        289882.885714           1085.935714           846.878571\n",
       "2006        424059.664286            925.414286          1316.800000\n",
       "2011        530424.721429           1019.792857          1448.214286\n",
       "2016        664068.328571           1256.321429          1761.314286"
      ]
     },
     "execution_count": 58,
     "metadata": {},
     "output_type": "execute_result"
    }
   ],
   "source": [
    "# Calculate the average monthly shelter costs for owned and rented dwellings and the average house value\n",
    "# Slice the data\n",
    "\n",
    "average_data = (to_data[[\"average_house_value\", \"shelter_costs_rented\", \"shelter_costs_owned\"]].groupby(to_data.index).mean())\n",
    "average_data\n"
   ]
  },
  {
   "cell_type": "code",
   "execution_count": 59,
   "metadata": {},
   "outputs": [],
   "source": [
    "# Helper create_line_chart function\n",
    "def create_line_chart(data, title, xlabel, ylabel, color):\n",
    "    \"\"\"\n",
    "    Create a line chart based in the data argument.\n",
    "    \"\"\""
   ]
  },
  {
   "cell_type": "code",
   "execution_count": 60,
   "metadata": {},
   "outputs": [
    {
     "data": {
      "text/html": [
       "<div>\n",
       "<style scoped>\n",
       "    .dataframe tbody tr th:only-of-type {\n",
       "        vertical-align: middle;\n",
       "    }\n",
       "\n",
       "    .dataframe tbody tr th {\n",
       "        vertical-align: top;\n",
       "    }\n",
       "\n",
       "    .dataframe thead th {\n",
       "        text-align: right;\n",
       "    }\n",
       "</style>\n",
       "<table border=\"1\" class=\"dataframe\">\n",
       "  <thead>\n",
       "    <tr style=\"text-align: right;\">\n",
       "      <th></th>\n",
       "      <th>shelter_costs_owned</th>\n",
       "    </tr>\n",
       "    <tr>\n",
       "      <th>year</th>\n",
       "      <th></th>\n",
       "    </tr>\n",
       "  </thead>\n",
       "  <tbody>\n",
       "    <tr>\n",
       "      <th>2001</th>\n",
       "      <td>846.878571</td>\n",
       "    </tr>\n",
       "    <tr>\n",
       "      <th>2006</th>\n",
       "      <td>1316.800000</td>\n",
       "    </tr>\n",
       "    <tr>\n",
       "      <th>2011</th>\n",
       "      <td>1448.214286</td>\n",
       "    </tr>\n",
       "    <tr>\n",
       "      <th>2016</th>\n",
       "      <td>1761.314286</td>\n",
       "    </tr>\n",
       "  </tbody>\n",
       "</table>\n",
       "</div>"
      ],
      "text/plain": [
       "      shelter_costs_owned\n",
       "year                     \n",
       "2001           846.878571\n",
       "2006          1316.800000\n",
       "2011          1448.214286\n",
       "2016          1761.314286"
      ]
     },
     "execution_count": 60,
     "metadata": {},
     "output_type": "execute_result"
    }
   ],
   "source": [
    "# Create two line charts, one to plot the monthly shelter costs for owned dwelleing and other for rented dwellings per year\n",
    "\n",
    "# Line chart for owned dwellings\n",
    "average_data.drop(columns=['average_house_value', 'shelter_costs_rented'], inplace=True)\n",
    "average_data\n",
    "\n",
    "# Line chart for rented dwellings\n",
    "# YOUR CODE HERE!"
   ]
  },
  {
   "cell_type": "code",
   "execution_count": 61,
   "metadata": {},
   "outputs": [
    {
     "data": {
      "text/plain": [
       "<matplotlib.axes._subplots.AxesSubplot at 0x7ff290147750>"
      ]
     },
     "execution_count": 61,
     "metadata": {},
     "output_type": "execute_result"
    },
    {
     "data": {
      "image/png": "[encoded data removed]",
      "text/plain": [
       "<Figure size 432x288 with 1 Axes>"
      ]
     },
     "metadata": {
      "needs_background": "light"
     },
     "output_type": "display_data"
    }
   ],
   "source": [
    "average_data.plot(kind=\"line\")"
   ]
  },
  {
   "cell_type": "code",
   "execution_count": 62,
   "metadata": {},
   "outputs": [
    {
     "data": {
      "text/html": [
       "<div>\n",
       "<style scoped>\n",
       "    .dataframe tbody tr th:only-of-type {\n",
       "        vertical-align: middle;\n",
       "    }\n",
       "\n",
       "    .dataframe tbody tr th {\n",
       "        vertical-align: top;\n",
       "    }\n",
       "\n",
       "    .dataframe thead th {\n",
       "        text-align: right;\n",
       "    }\n",
       "</style>\n",
       "<table border=\"1\" class=\"dataframe\">\n",
       "  <thead>\n",
       "    <tr style=\"text-align: right;\">\n",
       "      <th></th>\n",
       "      <th>shelter_costs_rented</th>\n",
       "    </tr>\n",
       "    <tr>\n",
       "      <th>year</th>\n",
       "      <th></th>\n",
       "    </tr>\n",
       "  </thead>\n",
       "  <tbody>\n",
       "    <tr>\n",
       "      <th>2001</th>\n",
       "      <td>1085.935714</td>\n",
       "    </tr>\n",
       "    <tr>\n",
       "      <th>2006</th>\n",
       "      <td>925.414286</td>\n",
       "    </tr>\n",
       "    <tr>\n",
       "      <th>2011</th>\n",
       "      <td>1019.792857</td>\n",
       "    </tr>\n",
       "    <tr>\n",
       "      <th>2016</th>\n",
       "      <td>1256.321429</td>\n",
       "    </tr>\n",
       "  </tbody>\n",
       "</table>\n",
       "</div>"
      ],
      "text/plain": [
       "      shelter_costs_rented\n",
       "year                      \n",
       "2001           1085.935714\n",
       "2006            925.414286\n",
       "2011           1019.792857\n",
       "2016           1256.321429"
      ]
     },
     "execution_count": 62,
     "metadata": {},
     "output_type": "execute_result"
    }
   ],
   "source": [
    "# Line chart for rented dwellings\n",
    "average_rented = (to_data[[ \"shelter_costs_rented\"]].groupby(to_data.index).mean())\n",
    "average_rented"
   ]
  },
  {
   "cell_type": "code",
   "execution_count": 63,
   "metadata": {},
   "outputs": [
    {
     "data": {
      "text/plain": [
       "<matplotlib.axes._subplots.AxesSubplot at 0x7ff2d2596490>"
      ]
     },
     "execution_count": 63,
     "metadata": {},
     "output_type": "execute_result"
    },
    {
     "data": {
      "image/png": "[encoded data removed]",
      "text/plain": [
       "<Figure size 432x288 with 1 Axes>"
      ]
     },
     "metadata": {
      "needs_background": "light"
     },
     "output_type": "display_data"
    }
   ],
   "source": [
    "average_rented.plot(kind=\"line\")"
   ]
  },
  {
   "cell_type": "code",
   "execution_count": null,
   "metadata": {},
   "outputs": [],
   "source": []
  },
  {
   "cell_type": "markdown",
   "metadata": {},
   "source": [
    "## Average House Value per Year\n",
    "\n",
    "In this section, you want to determine the average house value per year. An investor may want to understand better the sales price of the rental property over time. For example, a customer will want to know if they should expect an increase or decrease in the property value over time so they can determine how long to hold the rental property. You will visualize the `average_house_value` per year as a bar chart."
   ]
  },
  {
   "cell_type": "code",
   "execution_count": 64,
   "metadata": {},
   "outputs": [
    {
     "data": {
      "text/html": [
       "<div>\n",
       "<style scoped>\n",
       "    .dataframe tbody tr th:only-of-type {\n",
       "        vertical-align: middle;\n",
       "    }\n",
       "\n",
       "    .dataframe tbody tr th {\n",
       "        vertical-align: top;\n",
       "    }\n",
       "\n",
       "    .dataframe thead th {\n",
       "        text-align: right;\n",
       "    }\n",
       "</style>\n",
       "<table border=\"1\" class=\"dataframe\">\n",
       "  <thead>\n",
       "    <tr style=\"text-align: right;\">\n",
       "      <th></th>\n",
       "      <th>average_house_value</th>\n",
       "    </tr>\n",
       "    <tr>\n",
       "      <th>year</th>\n",
       "      <th></th>\n",
       "    </tr>\n",
       "  </thead>\n",
       "  <tbody>\n",
       "    <tr>\n",
       "      <th>2001</th>\n",
       "      <td>289882.885714</td>\n",
       "    </tr>\n",
       "    <tr>\n",
       "      <th>2006</th>\n",
       "      <td>424059.664286</td>\n",
       "    </tr>\n",
       "    <tr>\n",
       "      <th>2011</th>\n",
       "      <td>530424.721429</td>\n",
       "    </tr>\n",
       "    <tr>\n",
       "      <th>2016</th>\n",
       "      <td>664068.328571</td>\n",
       "    </tr>\n",
       "  </tbody>\n",
       "</table>\n",
       "</div>"
      ],
      "text/plain": [
       "      average_house_value\n",
       "year                     \n",
       "2001        289882.885714\n",
       "2006        424059.664286\n",
       "2011        530424.721429\n",
       "2016        664068.328571"
      ]
     },
     "execution_count": 64,
     "metadata": {},
     "output_type": "execute_result"
    }
   ],
   "source": [
    "# Calculate the average house value per year\n",
    "average_house_v = (to_data[[ \"average_house_value\"]].groupby(to_data.index).mean())\n",
    "average_house_v"
   ]
  },
  {
   "cell_type": "code",
   "execution_count": 65,
   "metadata": {},
   "outputs": [
    {
     "data": {
      "text/plain": [
       "<matplotlib.axes._subplots.AxesSubplot at 0x7ff2d25b2990>"
      ]
     },
     "execution_count": 65,
     "metadata": {},
     "output_type": "execute_result"
    },
    {
     "data": {
      "image/png": "[encoded data removed]",
      "text/plain": [
       "<Figure size 432x288 with 1 Axes>"
      ]
     },
     "metadata": {
      "needs_background": "light"
     },
     "output_type": "display_data"
    }
   ],
   "source": [
    "average_house_v.plot(kind=\"bar\")\n"
   ]
  },
  {
   "cell_type": "code",
   "execution_count": 66,
   "metadata": {},
   "outputs": [
    {
     "data": {
      "text/plain": [
       "<matplotlib.axes._subplots.AxesSubplot at 0x7ff2e6aca490>"
      ]
     },
     "execution_count": 66,
     "metadata": {},
     "output_type": "execute_result"
    },
    {
     "data": {
      "image/png": "[encoded data removed]",
      "text/plain": [
       "<Figure size 432x288 with 1 Axes>"
      ]
     },
     "metadata": {
      "needs_background": "light"
     },
     "output_type": "display_data"
    }
   ],
   "source": [
    "#Average_house value line plot\n",
    "average_house_v.plot(kind=\"line\")"
   ]
  },
  {
   "cell_type": "markdown",
   "metadata": {},
   "source": [
    "- - - "
   ]
  },
  {
   "cell_type": "markdown",
   "metadata": {},
   "source": [
    "## Average House Value by Neighbourhood\n",
    "\n",
    "In this section, you will use `hvplot` to create an interactive visualization of the average house value with a dropdown selector for the neighbourhood.\n",
    "\n",
    "**Hint:** It will be easier to create a new DataFrame from grouping the data and calculating the mean house values for each year and neighbourhood."
   ]
  },
  {
   "cell_type": "code",
   "execution_count": 67,
   "metadata": {},
   "outputs": [
    {
     "data": {
      "text/html": [
       "<div>\n",
       "<style scoped>\n",
       "    .dataframe tbody tr th:only-of-type {\n",
       "        vertical-align: middle;\n",
       "    }\n",
       "\n",
       "    .dataframe tbody tr th {\n",
       "        vertical-align: top;\n",
       "    }\n",
       "\n",
       "    .dataframe thead th {\n",
       "        text-align: right;\n",
       "    }\n",
       "</style>\n",
       "<table border=\"1\" class=\"dataframe\">\n",
       "  <thead>\n",
       "    <tr style=\"text-align: right;\">\n",
       "      <th></th>\n",
       "      <th>neighbourhood</th>\n",
       "      <th>single_detached_house</th>\n",
       "      <th>apartment_five_storeys_plus</th>\n",
       "      <th>movable_dwelling</th>\n",
       "      <th>semi_detached_house</th>\n",
       "      <th>row_house</th>\n",
       "      <th>duplex</th>\n",
       "      <th>apartment_five_storeys_less</th>\n",
       "      <th>other_house</th>\n",
       "      <th>average_house_value</th>\n",
       "      <th>shelter_costs_owned</th>\n",
       "      <th>shelter_costs_rented</th>\n",
       "    </tr>\n",
       "    <tr>\n",
       "      <th>year</th>\n",
       "      <th></th>\n",
       "      <th></th>\n",
       "      <th></th>\n",
       "      <th></th>\n",
       "      <th></th>\n",
       "      <th></th>\n",
       "      <th></th>\n",
       "      <th></th>\n",
       "      <th></th>\n",
       "      <th></th>\n",
       "      <th></th>\n",
       "      <th></th>\n",
       "    </tr>\n",
       "  </thead>\n",
       "  <tbody>\n",
       "    <tr>\n",
       "      <th>2001</th>\n",
       "      <td>Agincourt North</td>\n",
       "      <td>3715</td>\n",
       "      <td>1480</td>\n",
       "      <td>0</td>\n",
       "      <td>1055</td>\n",
       "      <td>1295</td>\n",
       "      <td>195</td>\n",
       "      <td>185</td>\n",
       "      <td>5</td>\n",
       "      <td>200388</td>\n",
       "      <td>810</td>\n",
       "      <td>870</td>\n",
       "    </tr>\n",
       "    <tr>\n",
       "      <th>2001</th>\n",
       "      <td>Agincourt South-Malvern West</td>\n",
       "      <td>3250</td>\n",
       "      <td>1835</td>\n",
       "      <td>0</td>\n",
       "      <td>545</td>\n",
       "      <td>455</td>\n",
       "      <td>105</td>\n",
       "      <td>425</td>\n",
       "      <td>0</td>\n",
       "      <td>203047</td>\n",
       "      <td>806</td>\n",
       "      <td>892</td>\n",
       "    </tr>\n",
       "    <tr>\n",
       "      <th>2001</th>\n",
       "      <td>Alderwood</td>\n",
       "      <td>3175</td>\n",
       "      <td>315</td>\n",
       "      <td>0</td>\n",
       "      <td>470</td>\n",
       "      <td>50</td>\n",
       "      <td>185</td>\n",
       "      <td>370</td>\n",
       "      <td>0</td>\n",
       "      <td>259998</td>\n",
       "      <td>817</td>\n",
       "      <td>924</td>\n",
       "    </tr>\n",
       "    <tr>\n",
       "      <th>2001</th>\n",
       "      <td>Annex</td>\n",
       "      <td>1060</td>\n",
       "      <td>6090</td>\n",
       "      <td>5</td>\n",
       "      <td>1980</td>\n",
       "      <td>605</td>\n",
       "      <td>275</td>\n",
       "      <td>3710</td>\n",
       "      <td>165</td>\n",
       "      <td>453850</td>\n",
       "      <td>1027</td>\n",
       "      <td>1378</td>\n",
       "    </tr>\n",
       "    <tr>\n",
       "      <th>2001</th>\n",
       "      <td>Banbury-Don Mills</td>\n",
       "      <td>3615</td>\n",
       "      <td>4465</td>\n",
       "      <td>0</td>\n",
       "      <td>240</td>\n",
       "      <td>380</td>\n",
       "      <td>15</td>\n",
       "      <td>1360</td>\n",
       "      <td>0</td>\n",
       "      <td>371864</td>\n",
       "      <td>1007</td>\n",
       "      <td>1163</td>\n",
       "    </tr>\n",
       "  </tbody>\n",
       "</table>\n",
       "</div>"
      ],
      "text/plain": [
       "                     neighbourhood  single_detached_house  \\\n",
       "year                                                        \n",
       "2001               Agincourt North                   3715   \n",
       "2001  Agincourt South-Malvern West                   3250   \n",
       "2001                     Alderwood                   3175   \n",
       "2001                         Annex                   1060   \n",
       "2001             Banbury-Don Mills                   3615   \n",
       "\n",
       "      apartment_five_storeys_plus  movable_dwelling  semi_detached_house  \\\n",
       "year                                                                       \n",
       "2001                         1480                 0                 1055   \n",
       "2001                         1835                 0                  545   \n",
       "2001                          315                 0                  470   \n",
       "2001                         6090                 5                 1980   \n",
       "2001                         4465                 0                  240   \n",
       "\n",
       "      row_house  duplex  apartment_five_storeys_less  other_house  \\\n",
       "year                                                                \n",
       "2001       1295     195                          185            5   \n",
       "2001        455     105                          425            0   \n",
       "2001         50     185                          370            0   \n",
       "2001        605     275                         3710          165   \n",
       "2001        380      15                         1360            0   \n",
       "\n",
       "      average_house_value  shelter_costs_owned  shelter_costs_rented  \n",
       "year                                                                  \n",
       "2001               200388                  810                   870  \n",
       "2001               203047                  806                   892  \n",
       "2001               259998                  817                   924  \n",
       "2001               453850                 1027                  1378  \n",
       "2001               371864                 1007                  1163  "
      ]
     },
     "execution_count": 67,
     "metadata": {},
     "output_type": "execute_result"
    }
   ],
   "source": [
    "# Create a new DataFrame with the mean house values by neighbourhood per year\n",
    "file_path = Path(\"toronto_neighbourhoods_census_data.csv\")\n",
    "Av_b_n = pd.read_csv(file_path, index_col=\"year\")\n",
    "Av_b_n.head()"
   ]
  },
  {
   "cell_type": "code",
   "execution_count": 68,
   "metadata": {},
   "outputs": [
    {
     "data": {
      "text/html": [
       "<div>\n",
       "<style scoped>\n",
       "    .dataframe tbody tr th:only-of-type {\n",
       "        vertical-align: middle;\n",
       "    }\n",
       "\n",
       "    .dataframe tbody tr th {\n",
       "        vertical-align: top;\n",
       "    }\n",
       "\n",
       "    .dataframe thead th {\n",
       "        text-align: right;\n",
       "    }\n",
       "</style>\n",
       "<table border=\"1\" class=\"dataframe\">\n",
       "  <thead>\n",
       "    <tr style=\"text-align: right;\">\n",
       "      <th></th>\n",
       "      <th>neighbourhood</th>\n",
       "      <th>average_house_value</th>\n",
       "    </tr>\n",
       "    <tr>\n",
       "      <th>year</th>\n",
       "      <th></th>\n",
       "      <th></th>\n",
       "    </tr>\n",
       "  </thead>\n",
       "  <tbody>\n",
       "    <tr>\n",
       "      <th>2001</th>\n",
       "      <td>Agincourt North</td>\n",
       "      <td>200388</td>\n",
       "    </tr>\n",
       "    <tr>\n",
       "      <th>2001</th>\n",
       "      <td>Agincourt South-Malvern West</td>\n",
       "      <td>203047</td>\n",
       "    </tr>\n",
       "    <tr>\n",
       "      <th>2001</th>\n",
       "      <td>Alderwood</td>\n",
       "      <td>259998</td>\n",
       "    </tr>\n",
       "    <tr>\n",
       "      <th>2001</th>\n",
       "      <td>Annex</td>\n",
       "      <td>453850</td>\n",
       "    </tr>\n",
       "    <tr>\n",
       "      <th>2001</th>\n",
       "      <td>Banbury-Don Mills</td>\n",
       "      <td>371864</td>\n",
       "    </tr>\n",
       "    <tr>\n",
       "      <th>...</th>\n",
       "      <td>...</td>\n",
       "      <td>...</td>\n",
       "    </tr>\n",
       "    <tr>\n",
       "      <th>2016</th>\n",
       "      <td>Wychwood</td>\n",
       "      <td>787760</td>\n",
       "    </tr>\n",
       "    <tr>\n",
       "      <th>2016</th>\n",
       "      <td>Yonge-Eglinton</td>\n",
       "      <td>1127052</td>\n",
       "    </tr>\n",
       "    <tr>\n",
       "      <th>2016</th>\n",
       "      <td>Yonge-St.Clair</td>\n",
       "      <td>1131888</td>\n",
       "    </tr>\n",
       "    <tr>\n",
       "      <th>2016</th>\n",
       "      <td>York University Heights</td>\n",
       "      <td>425769</td>\n",
       "    </tr>\n",
       "    <tr>\n",
       "      <th>2016</th>\n",
       "      <td>Yorkdale-Glen Park</td>\n",
       "      <td>599698</td>\n",
       "    </tr>\n",
       "  </tbody>\n",
       "</table>\n",
       "<p>560 rows × 2 columns</p>\n",
       "</div>"
      ],
      "text/plain": [
       "                     neighbourhood  average_house_value\n",
       "year                                                   \n",
       "2001               Agincourt North               200388\n",
       "2001  Agincourt South-Malvern West               203047\n",
       "2001                     Alderwood               259998\n",
       "2001                         Annex               453850\n",
       "2001             Banbury-Don Mills               371864\n",
       "...                            ...                  ...\n",
       "2016                      Wychwood               787760\n",
       "2016                Yonge-Eglinton              1127052\n",
       "2016                Yonge-St.Clair              1131888\n",
       "2016       York University Heights               425769\n",
       "2016            Yorkdale-Glen Park               599698\n",
       "\n",
       "[560 rows x 2 columns]"
      ]
     },
     "execution_count": 68,
     "metadata": {},
     "output_type": "execute_result"
    }
   ],
   "source": [
    "Av_b_n1 = (to_data[[\"neighbourhood\",\"average_house_value\"]])\n",
    "Av_b_n1\n",
    "\n",
    "\n"
   ]
  },
  {
   "cell_type": "code",
   "execution_count": 69,
   "metadata": {},
   "outputs": [],
   "source": [
    "#hint: It will be easier to create a new DataFrame from grouping the data and calculating the \n",
    "   # mean house values for each year and neighbourhood.\n",
    "#Av_b_n1.groupby(to_data.index).sum()\n"
   ]
  },
  {
   "cell_type": "code",
   "execution_count": 70,
   "metadata": {},
   "outputs": [
    {
     "data": {},
     "metadata": {},
     "output_type": "display_data"
    },
    {
     "data": {
      "application/vnd.holoviews_exec.v0+json": "",
      "text/html": [
       "<div id='1449'>\n",
       "\n",
       "\n",
       "\n",
       "\n",
       "\n",
       "  <div class=\"bk-root\" id=\"4daa281c-dc99-4c5e-b6a8-d6a470d2f83e\" data-root-id=\"1449\"></div>\n",
       "</div>\n",
       "<script type=\"application/javascript\">(function(root) {\n",
       "  function embed_document(root) {\n",
       "    var docs_json = {\"a66c2d57-0b70-4300-9d0b-5e405a26144e\":{\"defs\":[{\"extends\":null,\"module\":null,\"name\":\"ReactiveHTML1\",\"overrides\":[],\"properties\":[]},{\"extends\":null,\"module\":null,\"name\":\"FlexBox1\",\"overrides\":[],\"properties\":[{\"default\":\"flex-start\",\"kind\":null,\"name\":\"align_content\"},{\"default\":\"flex-start\",\"kind\":null,\"name\":\"align_items\"},{\"default\":\"row\",\"kind\":null,\"name\":\"flex_direction\"},{\"default\":\"wrap\",\"kind\":null,\"name\":\"flex_wrap\"},{\"default\":\"flex-start\",\"kind\":null,\"name\":\"justify_content\"}]},{\"extends\":null,\"module\":null,\"name\":\"TemplateActions1\",\"overrides\":[],\"properties\":[{\"default\":0,\"kind\":null,\"name\":\"open_modal\"},{\"default\":0,\"kind\":null,\"name\":\"close_modal\"}]},{\"extends\":null,\"module\":null,\"name\":\"MaterialTemplateActions1\",\"overrides\":[],\"properties\":[{\"default\":0,\"kind\":null,\"name\":\"open_modal\"},{\"default\":0,\"kind\":null,\"name\":\"close_modal\"}]}],\"roots\":{\"references\":[{\"attributes\":{\"axis\":{\"id\":\"1467\"},\"coordinates\":null,\"dimension\":1,\"grid_line_color\":null,\"group\":null,\"ticker\":null},\"id\":\"1470\",\"type\":\"Grid\"},{\"attributes\":{\"margin\":[5,5,5,5],\"name\":\"VSpacer02485\",\"sizing_mode\":\"stretch_height\"},\"id\":\"1530\",\"type\":\"Spacer\"},{\"attributes\":{\"end\":484917.3,\"reset_end\":484917.3,\"reset_start\":174521.7,\"start\":174521.7,\"tags\":[[[\"average_house_value\",\"average_house_value\",null]]]},\"id\":\"1452\",\"type\":\"Range1d\"},{\"attributes\":{\"client_comm_id\":\"d58e925f28914abcbb992b99cfa139b4\",\"comm_id\":\"4bd8ab89368a4961b89dd4faf149e09b\",\"plot_id\":\"1449\"},\"id\":\"1561\",\"type\":\"panel.models.comm_manager.CommManager\"},{\"attributes\":{\"end\":2016.0,\"reset_end\":2016.0,\"reset_start\":2001.0,\"start\":2001.0,\"tags\":[[[\"year\",\"year\",null]]]},\"id\":\"1451\",\"type\":\"Range1d\"},{\"attributes\":{\"margin\":[20,20,20,20],\"min_width\":250,\"options\":[\"Agincourt North\",\"Agincourt South-Malvern West\",\"Alderwood\",\"Annex\",\"Banbury-Don Mills\",\"Bathurst Manor\",\"Bay Street Corridor\",\"Bayview Village\",\"Bayview Woods-Steeles\",\"Bedford Park-Nortown\",\"Beechborough-Greenbrook\",\"Bendale\",\"Birchcliffe-Cliffside\",\"Black Creek\",\"Blake-Jones\",\"Briar Hill-Belgravia\",\"Bridle Path-Sunnybrook-York Mills\",\"Broadview North\",\"Brookhaven-Amesbury\",\"Cabbagetown-South St.James Town\",\"Caledonia-Fairbank\",\"Casa Loma\",\"Centennial Scarborough\",\"Church-Yonge Corridor\",\"Clairlea-Birchmount\",\"Clanton Park\",\"Cliffcrest\",\"Corso Italia-Davenport\",\"Danforth\",\"Danforth-East York\",\"Don Valley Village\",\"Dorset Park\",\"Dovercourt-Wallace Emerson-Juncti\",\"Downsview-Roding-CFB\",\"Dufferin Grove\",\"East End-Danforth\",\"Edenbridge-Humber Valley\",\"Eglinton East\",\"Elms-Old Rexdale\",\"Englemount-Lawrence\",\"Eringate-Centennial-West Deane\",\"Etobicoke West Mall\",\"Flemingdon Park\",\"Forest Hill North\",\"Forest Hill South\",\"Glenfield-Jane Heights\",\"Greenwood-Coxwell\",\"Guildwood\",\"Henry Farm\",\"High Park North\",\"High Park-Swansea\",\"Highland Creek\",\"Hillcrest Village\",\"Humber Heights-Westmount\",\"Humber Summit\",\"Humbermede\",\"Humewood-Cedarvale\",\"Ionview\",\"Islington-City Centre West\",\"Junction Area\",\"Keelesdale-Eglinton West\",\"Kennedy Park\",\"Kensington-Chinatown\",\"Kingsview Village-The Westway\",\"Kingsway South\",\"L'Amoreaux\",\"Lambton Baby Point\",\"Lansing-Westgate\",\"Lawrence Park North\",\"Lawrence Park South\",\"Leaside-Bennington\",\"Little Portugal\",\"Long Branch\",\"Malvern\",\"Maple Leaf\",\"Markland Wood\",\"Milliken\",\"Mimico\",\"Morningside\",\"Moss Park\",\"Mount Dennis\",\"Mount Olive-Silverstone-Jamestown\",\"Mount Pleasant East\",\"Mount Pleasant West\",\"New Toronto\",\"Newtonbrook East\",\"Newtonbrook West\",\"Niagara\",\"North Riverdale\",\"North St.James Town\",\"O'Connor-Parkview\",\"Oakridge\",\"Oakwood Village\",\"Old East York\",\"Palmerston-Little Italy\",\"Parkwoods-Donalda\",\"Pelmo Park-Humberlea\",\"Playter Estates-Danforth\",\"Pleasant View\",\"Princess-Rosethorn\",\"Regent Park\",\"Rexdale-Kipling\",\"Rockcliffe-Smythe\",\"Roncesvalles\",\"Rosedale-Moore Park\",\"Rouge\",\"Runnymede-Bloor West Village\",\"Rustic\",\"Scarborough Village\",\"South Parkdale\",\"South Riverdale\",\"St.Andrew-Windfields\",\"Steeles\",\"Stonegate-Queensway\",\"Tam O'Shanter-Sullivan\",\"Taylor-Massey\",\"The Beaches\",\"Thistletown-Beaumond Heights\",\"Thorncliffe Park\",\"Trinity-Bellwoods\",\"University\",\"Victoria Village\",\"Waterfront Communities-The Island\",\"West Hill\",\"West Humber-Clairville\",\"Westminster-Branson\",\"Weston\",\"Weston-Pellam Park\",\"Wexford/Maryvale\",\"Willowdale East\",\"Willowdale West\",\"Willowridge-Martingrove-Richview\",\"Woburn\",\"Woodbine Corridor\",\"Woodbine-Lumsden\",\"Wychwood\",\"Yonge-Eglinton\",\"Yonge-St.Clair\",\"York University Heights\",\"Yorkdale-Glen Park\"],\"title\":\"neighbourhood\",\"value\":\"Agincourt North\",\"width\":250},\"id\":\"1529\",\"type\":\"Select\"},{\"attributes\":{\"children\":[{\"id\":\"1529\"}],\"css_classes\":[\"panel-widget-box\"],\"margin\":[5,5,5,5],\"name\":\"WidgetBox02479\"},\"id\":\"1528\",\"type\":\"Column\"},{\"attributes\":{\"data\":{\"average_house_value\":[200388,293140,366667,459051],\"year\":[2001,2006,2011,2016]},\"selected\":{\"id\":\"1485\"},\"selection_policy\":{\"id\":\"1512\"}},\"id\":\"1484\",\"type\":\"ColumnDataSource\"},{\"attributes\":{},\"id\":\"1459\",\"type\":\"LinearScale\"},{\"attributes\":{},\"id\":\"1497\",\"type\":\"BasicTickFormatter\"},{\"attributes\":{},\"id\":\"1498\",\"type\":\"AllLabels\"},{\"attributes\":{},\"id\":\"1495\",\"type\":\"AllLabels\"},{\"attributes\":{\"below\":[{\"id\":\"1463\"}],\"center\":[{\"id\":\"1466\"},{\"id\":\"1470\"}],\"height\":300,\"left\":[{\"id\":\"1467\"}],\"margin\":[5,5,5,5],\"min_border_bottom\":10,\"min_border_left\":10,\"min_border_right\":10,\"min_border_top\":10,\"renderers\":[{\"id\":\"1490\"}],\"sizing_mode\":\"fixed\",\"title\":{\"id\":\"1455\"},\"toolbar\":{\"id\":\"1477\"},\"width\":700,\"x_range\":{\"id\":\"1451\"},\"x_scale\":{\"id\":\"1459\"},\"y_range\":{\"id\":\"1452\"},\"y_scale\":{\"id\":\"1461\"}},\"id\":\"1454\",\"subtype\":\"Figure\",\"type\":\"Plot\"},{\"attributes\":{},\"id\":\"1471\",\"type\":\"SaveTool\"},{\"attributes\":{},\"id\":\"1472\",\"type\":\"PanTool\"},{\"attributes\":{\"margin\":[5,5,5,5],\"name\":\"VSpacer02484\",\"sizing_mode\":\"stretch_height\"},\"id\":\"1527\",\"type\":\"Spacer\"},{\"attributes\":{\"line_color\":\"#30a2da\",\"line_width\":2,\"x\":{\"field\":\"year\"},\"y\":{\"field\":\"average_house_value\"}},\"id\":\"1492\",\"type\":\"Line\"},{\"attributes\":{},\"id\":\"1473\",\"type\":\"WheelZoomTool\"},{\"attributes\":{},\"id\":\"1494\",\"type\":\"BasicTickFormatter\"},{\"attributes\":{\"tools\":[{\"id\":\"1453\"},{\"id\":\"1471\"},{\"id\":\"1472\"},{\"id\":\"1473\"},{\"id\":\"1474\"},{\"id\":\"1475\"}]},\"id\":\"1477\",\"type\":\"Toolbar\"},{\"attributes\":{\"overlay\":{\"id\":\"1476\"}},\"id\":\"1474\",\"type\":\"BoxZoomTool\"},{\"attributes\":{},\"id\":\"1464\",\"type\":\"BasicTicker\"},{\"attributes\":{\"axis_label\":\"year\",\"coordinates\":null,\"formatter\":{\"id\":\"1494\"},\"group\":null,\"major_label_policy\":{\"id\":\"1495\"},\"ticker\":{\"id\":\"1464\"}},\"id\":\"1463\",\"type\":\"LinearAxis\"},{\"attributes\":{\"axis_label\":\"average_house_value\",\"coordinates\":null,\"formatter\":{\"id\":\"1497\"},\"group\":null,\"major_label_policy\":{\"id\":\"1498\"},\"ticker\":{\"id\":\"1468\"}},\"id\":\"1467\",\"type\":\"LinearAxis\"},{\"attributes\":{\"margin\":[5,5,5,5],\"name\":\"HSpacer02488\",\"sizing_mode\":\"stretch_width\"},\"id\":\"1525\",\"type\":\"Spacer\"},{\"attributes\":{\"margin\":[5,5,5,5],\"name\":\"HSpacer02487\",\"sizing_mode\":\"stretch_width\"},\"id\":\"1450\",\"type\":\"Spacer\"},{\"attributes\":{\"callback\":null,\"renderers\":[{\"id\":\"1490\"}],\"tags\":[\"hv_created\"],\"tooltips\":[[\"year\",\"@{year}\"],[\"average_house_value\",\"@{average_house_value}\"]]},\"id\":\"1453\",\"type\":\"HoverTool\"},{\"attributes\":{},\"id\":\"1475\",\"type\":\"ResetTool\"},{\"attributes\":{\"line_alpha\":0.2,\"line_color\":\"#30a2da\",\"line_width\":2,\"x\":{\"field\":\"year\"},\"y\":{\"field\":\"average_house_value\"}},\"id\":\"1489\",\"type\":\"Line\"},{\"attributes\":{},\"id\":\"1461\",\"type\":\"LinearScale\"},{\"attributes\":{\"bottom_units\":\"screen\",\"coordinates\":null,\"fill_alpha\":0.5,\"fill_color\":\"lightgrey\",\"group\":null,\"left_units\":\"screen\",\"level\":\"overlay\",\"line_alpha\":1.0,\"line_color\":\"black\",\"line_dash\":[4,4],\"line_width\":2,\"right_units\":\"screen\",\"syncable\":false,\"top_units\":\"screen\"},\"id\":\"1476\",\"type\":\"BoxAnnotation\"},{\"attributes\":{\"children\":[{\"id\":\"1527\"},{\"id\":\"1528\"},{\"id\":\"1530\"}],\"margin\":[0,0,0,0],\"name\":\"Column02486\"},\"id\":\"1526\",\"type\":\"Column\"},{\"attributes\":{},\"id\":\"1485\",\"type\":\"Selection\"},{\"attributes\":{\"coordinates\":null,\"data_source\":{\"id\":\"1484\"},\"glyph\":{\"id\":\"1487\"},\"group\":null,\"hover_glyph\":null,\"muted_glyph\":{\"id\":\"1489\"},\"nonselection_glyph\":{\"id\":\"1488\"},\"selection_glyph\":{\"id\":\"1492\"},\"view\":{\"id\":\"1491\"}},\"id\":\"1490\",\"type\":\"GlyphRenderer\"},{\"attributes\":{},\"id\":\"1468\",\"type\":\"BasicTicker\"},{\"attributes\":{\"coordinates\":null,\"group\":null,\"text\":\"Average house value per neighbourhood\",\"text_color\":\"black\",\"text_font_size\":\"12pt\"},\"id\":\"1455\",\"type\":\"Title\"},{\"attributes\":{\"line_color\":\"#30a2da\",\"line_width\":2,\"x\":{\"field\":\"year\"},\"y\":{\"field\":\"average_house_value\"}},\"id\":\"1487\",\"type\":\"Line\"},{\"attributes\":{},\"id\":\"1512\",\"type\":\"UnionRenderers\"},{\"attributes\":{\"children\":[{\"id\":\"1450\"},{\"id\":\"1454\"},{\"id\":\"1525\"},{\"id\":\"1526\"}],\"margin\":[0,0,0,0],\"name\":\"Row02478\"},\"id\":\"1449\",\"type\":\"Row\"},{\"attributes\":{\"axis\":{\"id\":\"1463\"},\"coordinates\":null,\"grid_line_color\":null,\"group\":null,\"ticker\":null},\"id\":\"1466\",\"type\":\"Grid\"},{\"attributes\":{\"line_alpha\":0.1,\"line_color\":\"#30a2da\",\"line_width\":2,\"x\":{\"field\":\"year\"},\"y\":{\"field\":\"average_house_value\"}},\"id\":\"1488\",\"type\":\"Line\"},{\"attributes\":{\"source\":{\"id\":\"1484\"}},\"id\":\"1491\",\"type\":\"CDSView\"}],\"root_ids\":[\"1449\",\"1561\"]},\"title\":\"Bokeh Application\",\"version\":\"2.4.2\"}};\n",
       "    var render_items = [{\"docid\":\"a66c2d57-0b70-4300-9d0b-5e405a26144e\",\"root_ids\":[\"1449\"],\"roots\":{\"1449\":\"4daa281c-dc99-4c5e-b6a8-d6a470d2f83e\"}}];\n",
       "    root.Bokeh.embed.embed_items_notebook(docs_json, render_items);\n",
       "  }\n",
       "  if (root.Bokeh !== undefined && root.Bokeh.Panel !== undefined && ( root['Plotly'] !== undefined)) {\n",
       "    embed_document(root);\n",
       "  } else {\n",
       "    var attempts = 0;\n",
       "    var timer = setInterval(function(root) {\n",
       "      if (root.Bokeh !== undefined && root.Bokeh.Panel !== undefined && (root['Plotly'] !== undefined)) {\n",
       "        clearInterval(timer);\n",
       "        embed_document(root);\n",
       "      } else if (document.readyState == \"complete\") {\n",
       "        attempts++;\n",
       "        if (attempts > 200) {\n",
       "          clearInterval(timer);\n",
       "          console.log(\"Bokeh: ERROR: Unable to run BokehJS code because BokehJS library is missing\");\n",
       "        }\n",
       "      }\n",
       "    }, 25, root)\n",
       "  }\n",
       "})(window);</script>"
      ],
      "text/plain": [
       ":DynamicMap   [neighbourhood]\n",
       "   :Curve   [year]   (average_house_value)"
      ]
     },
     "execution_count": 70,
     "metadata": {
      "application/vnd.holoviews_exec.v0+json": {
       "id": "1449"
      }
     },
     "output_type": "execute_result"
    }
   ],
   "source": [
    "# Use hvplot to create an interactive line chart of the average house value per neighbourhood\n",
    "# The plot should have a dropdown selector for the neighbourhood\n",
    "Av_b_n1.hvplot.line(title='Average house value per neighbourhood',groupby='neighbourhood')\n"
   ]
  },
  {
   "cell_type": "markdown",
   "metadata": {},
   "source": [
    "## Number of Dwelling Types per Year\n",
    "\n",
    "In this section, you will use `hvplot` to create an interactive visualization of the average number of dwelling types per year with a dropdown selector for the neighbourhood."
   ]
  },
  {
   "cell_type": "code",
   "execution_count": 71,
   "metadata": {},
   "outputs": [
    {
     "data": {
      "text/html": [
       "<div>\n",
       "<style scoped>\n",
       "    .dataframe tbody tr th:only-of-type {\n",
       "        vertical-align: middle;\n",
       "    }\n",
       "\n",
       "    .dataframe tbody tr th {\n",
       "        vertical-align: top;\n",
       "    }\n",
       "\n",
       "    .dataframe thead th {\n",
       "        text-align: right;\n",
       "    }\n",
       "</style>\n",
       "<table border=\"1\" class=\"dataframe\">\n",
       "  <thead>\n",
       "    <tr style=\"text-align: right;\">\n",
       "      <th></th>\n",
       "      <th>neighbourhood</th>\n",
       "      <th>single_detached_house</th>\n",
       "      <th>apartment_five_storeys_plus</th>\n",
       "      <th>movable_dwelling</th>\n",
       "      <th>semi_detached_house</th>\n",
       "      <th>row_house</th>\n",
       "      <th>duplex</th>\n",
       "      <th>apartment_five_storeys_less</th>\n",
       "      <th>other_house</th>\n",
       "    </tr>\n",
       "  </thead>\n",
       "  <tbody>\n",
       "    <tr>\n",
       "      <th>0</th>\n",
       "      <td>Agincourt North</td>\n",
       "      <td>3435.00</td>\n",
       "      <td>1947.50</td>\n",
       "      <td>2.50</td>\n",
       "      <td>863.75</td>\n",
       "      <td>1406.25</td>\n",
       "      <td>512.50</td>\n",
       "      <td>547.50</td>\n",
       "      <td>10.00</td>\n",
       "    </tr>\n",
       "    <tr>\n",
       "      <th>1</th>\n",
       "      <td>Agincourt South-Malvern West</td>\n",
       "      <td>2897.50</td>\n",
       "      <td>2180.00</td>\n",
       "      <td>1.25</td>\n",
       "      <td>375.00</td>\n",
       "      <td>456.25</td>\n",
       "      <td>523.75</td>\n",
       "      <td>628.75</td>\n",
       "      <td>32.50</td>\n",
       "    </tr>\n",
       "    <tr>\n",
       "      <th>2</th>\n",
       "      <td>Alderwood</td>\n",
       "      <td>2903.75</td>\n",
       "      <td>302.50</td>\n",
       "      <td>1.25</td>\n",
       "      <td>503.75</td>\n",
       "      <td>76.25</td>\n",
       "      <td>302.50</td>\n",
       "      <td>502.50</td>\n",
       "      <td>1.25</td>\n",
       "    </tr>\n",
       "    <tr>\n",
       "      <th>3</th>\n",
       "      <td>Annex</td>\n",
       "      <td>751.25</td>\n",
       "      <td>7235.00</td>\n",
       "      <td>1.25</td>\n",
       "      <td>1375.00</td>\n",
       "      <td>613.75</td>\n",
       "      <td>355.00</td>\n",
       "      <td>4605.00</td>\n",
       "      <td>83.75</td>\n",
       "    </tr>\n",
       "    <tr>\n",
       "      <th>4</th>\n",
       "      <td>Banbury-Don Mills</td>\n",
       "      <td>3572.50</td>\n",
       "      <td>5388.75</td>\n",
       "      <td>1.25</td>\n",
       "      <td>273.75</td>\n",
       "      <td>626.25</td>\n",
       "      <td>32.50</td>\n",
       "      <td>1340.00</td>\n",
       "      <td>0.00</td>\n",
       "    </tr>\n",
       "    <tr>\n",
       "      <th>...</th>\n",
       "      <td>...</td>\n",
       "      <td>...</td>\n",
       "      <td>...</td>\n",
       "      <td>...</td>\n",
       "      <td>...</td>\n",
       "      <td>...</td>\n",
       "      <td>...</td>\n",
       "      <td>...</td>\n",
       "      <td>...</td>\n",
       "    </tr>\n",
       "    <tr>\n",
       "      <th>135</th>\n",
       "      <td>Wychwood</td>\n",
       "      <td>1056.25</td>\n",
       "      <td>1236.25</td>\n",
       "      <td>0.00</td>\n",
       "      <td>992.50</td>\n",
       "      <td>298.75</td>\n",
       "      <td>325.00</td>\n",
       "      <td>1878.75</td>\n",
       "      <td>17.50</td>\n",
       "    </tr>\n",
       "    <tr>\n",
       "      <th>136</th>\n",
       "      <td>Yonge-Eglinton</td>\n",
       "      <td>1468.75</td>\n",
       "      <td>1638.75</td>\n",
       "      <td>0.00</td>\n",
       "      <td>470.00</td>\n",
       "      <td>33.75</td>\n",
       "      <td>328.75</td>\n",
       "      <td>1385.00</td>\n",
       "      <td>6.25</td>\n",
       "    </tr>\n",
       "    <tr>\n",
       "      <th>137</th>\n",
       "      <td>Yonge-St.Clair</td>\n",
       "      <td>565.00</td>\n",
       "      <td>3948.75</td>\n",
       "      <td>0.00</td>\n",
       "      <td>425.00</td>\n",
       "      <td>212.50</td>\n",
       "      <td>172.50</td>\n",
       "      <td>1308.75</td>\n",
       "      <td>6.25</td>\n",
       "    </tr>\n",
       "    <tr>\n",
       "      <th>138</th>\n",
       "      <td>York University Heights</td>\n",
       "      <td>1355.00</td>\n",
       "      <td>5165.00</td>\n",
       "      <td>1.25</td>\n",
       "      <td>1316.25</td>\n",
       "      <td>662.50</td>\n",
       "      <td>188.75</td>\n",
       "      <td>1085.00</td>\n",
       "      <td>33.75</td>\n",
       "    </tr>\n",
       "    <tr>\n",
       "      <th>139</th>\n",
       "      <td>Yorkdale-Glen Park</td>\n",
       "      <td>2286.25</td>\n",
       "      <td>1347.50</td>\n",
       "      <td>0.00</td>\n",
       "      <td>73.75</td>\n",
       "      <td>450.00</td>\n",
       "      <td>377.50</td>\n",
       "      <td>722.50</td>\n",
       "      <td>7.50</td>\n",
       "    </tr>\n",
       "  </tbody>\n",
       "</table>\n",
       "<p>140 rows × 9 columns</p>\n",
       "</div>"
      ],
      "text/plain": [
       "                    neighbourhood  single_detached_house  \\\n",
       "0                 Agincourt North                3435.00   \n",
       "1    Agincourt South-Malvern West                2897.50   \n",
       "2                       Alderwood                2903.75   \n",
       "3                           Annex                 751.25   \n",
       "4               Banbury-Don Mills                3572.50   \n",
       "..                            ...                    ...   \n",
       "135                      Wychwood                1056.25   \n",
       "136                Yonge-Eglinton                1468.75   \n",
       "137                Yonge-St.Clair                 565.00   \n",
       "138       York University Heights                1355.00   \n",
       "139            Yorkdale-Glen Park                2286.25   \n",
       "\n",
       "     apartment_five_storeys_plus  movable_dwelling  semi_detached_house  \\\n",
       "0                        1947.50              2.50               863.75   \n",
       "1                        2180.00              1.25               375.00   \n",
       "2                         302.50              1.25               503.75   \n",
       "3                        7235.00              1.25              1375.00   \n",
       "4                        5388.75              1.25               273.75   \n",
       "..                           ...               ...                  ...   \n",
       "135                      1236.25              0.00               992.50   \n",
       "136                      1638.75              0.00               470.00   \n",
       "137                      3948.75              0.00               425.00   \n",
       "138                      5165.00              1.25              1316.25   \n",
       "139                      1347.50              0.00                73.75   \n",
       "\n",
       "     row_house  duplex  apartment_five_storeys_less  other_house  \n",
       "0      1406.25  512.50                       547.50        10.00  \n",
       "1       456.25  523.75                       628.75        32.50  \n",
       "2        76.25  302.50                       502.50         1.25  \n",
       "3       613.75  355.00                      4605.00        83.75  \n",
       "4       626.25   32.50                      1340.00         0.00  \n",
       "..         ...     ...                          ...          ...  \n",
       "135     298.75  325.00                      1878.75        17.50  \n",
       "136      33.75  328.75                      1385.00         6.25  \n",
       "137     212.50  172.50                      1308.75         6.25  \n",
       "138     662.50  188.75                      1085.00        33.75  \n",
       "139     450.00  377.50                       722.50         7.50  \n",
       "\n",
       "[140 rows x 9 columns]"
      ]
     },
     "execution_count": 71,
     "metadata": {},
     "output_type": "execute_result"
    }
   ],
   "source": [
    "# Fetch the data of all dwelling types per year\n",
    "file_path = Path(\"toronto_neighbourhoods_census_data.csv\")\n",
    "Av_b_n = pd.read_csv(file_path, index_col=\"year\")\n",
    "Av_b_n.head()"
   ]
  },
  {
   "cell_type": "code",
   "execution_count": null,
   "metadata": {},
   "outputs": [],
   "source": []
  },
  {
   "cell_type": "code",
   "execution_count": 72,
   "metadata": {},
   "outputs": [],
   "source": [
    "# Use hvplot to create an interactive bar chart of the number of dwelling types per neighbourhood\n",
    "# The plot should have a dropdown selector for the neighbourhood\n",
    "\n"
   ]
  },
  {
   "cell_type": "code",
   "execution_count": 73,
   "metadata": {},
   "outputs": [
    {
     "data": {},
     "metadata": {},
     "output_type": "display_data"
    },
    {
     "data": {
      "application/vnd.holoviews_exec.v0+json": "",
      "text/html": [
       "<div id='1612'>\n",
       "\n",
       "\n",
       "\n",
       "\n",
       "\n",
       "  <div class=\"bk-root\" id=\"07011043-350f-415f-b06b-d8bc3053b07d\" data-root-id=\"1612\"></div>\n",
       "</div>\n",
       "<script type=\"application/javascript\">(function(root) {\n",
       "  function embed_document(root) {\n",
       "    var docs_json = {\"00f12cef-0ac5-4d0b-a917-242c5feb6ef1\":{\"defs\":[{\"extends\":null,\"module\":null,\"name\":\"ReactiveHTML1\",\"overrides\":[],\"properties\":[]},{\"extends\":null,\"module\":null,\"name\":\"FlexBox1\",\"overrides\":[],\"properties\":[{\"default\":\"flex-start\",\"kind\":null,\"name\":\"align_content\"},{\"default\":\"flex-start\",\"kind\":null,\"name\":\"align_items\"},{\"default\":\"row\",\"kind\":null,\"name\":\"flex_direction\"},{\"default\":\"wrap\",\"kind\":null,\"name\":\"flex_wrap\"},{\"default\":\"flex-start\",\"kind\":null,\"name\":\"justify_content\"}]},{\"extends\":null,\"module\":null,\"name\":\"TemplateActions1\",\"overrides\":[],\"properties\":[{\"default\":0,\"kind\":null,\"name\":\"open_modal\"},{\"default\":0,\"kind\":null,\"name\":\"close_modal\"}]},{\"extends\":null,\"module\":null,\"name\":\"MaterialTemplateActions1\",\"overrides\":[],\"properties\":[{\"default\":0,\"kind\":null,\"name\":\"open_modal\"},{\"default\":0,\"kind\":null,\"name\":\"close_modal\"}]}],\"roots\":{\"references\":[{\"attributes\":{\"axis_label\":\"year, Variable\",\"coordinates\":null,\"formatter\":{\"id\":\"1657\"},\"group\":null,\"major_label_orientation\":1.5707963267948966,\"major_label_policy\":{\"id\":\"1658\"},\"ticker\":{\"id\":\"1627\"}},\"id\":\"1626\",\"type\":\"CategoricalAxis\"},{\"attributes\":{},\"id\":\"1635\",\"type\":\"WheelZoomTool\"},{\"attributes\":{\"tools\":[{\"id\":\"1616\"},{\"id\":\"1633\"},{\"id\":\"1634\"},{\"id\":\"1635\"},{\"id\":\"1636\"},{\"id\":\"1637\"}]},\"id\":\"1639\",\"type\":\"Toolbar\"},{\"attributes\":{\"callback\":null,\"renderers\":[{\"id\":\"1653\"}],\"tags\":[\"hv_created\"],\"tooltips\":[[\"year\",\"@{year}\"],[\"Variable\",\"@{Variable}\"],[\"value\",\"@{value}\"]]},\"id\":\"1616\",\"type\":\"HoverTool\"},{\"attributes\":{},\"id\":\"1627\",\"type\":\"CategoricalTicker\"},{\"attributes\":{\"overlay\":{\"id\":\"1638\"}},\"id\":\"1636\",\"type\":\"BoxZoomTool\"},{\"attributes\":{\"below\":[{\"id\":\"1626\"}],\"center\":[{\"id\":\"1628\"},{\"id\":\"1632\"}],\"height\":400,\"left\":[{\"id\":\"1629\"}],\"margin\":[5,5,5,5],\"min_border_bottom\":10,\"min_border_left\":10,\"min_border_right\":10,\"min_border_top\":10,\"renderers\":[{\"id\":\"1653\"}],\"sizing_mode\":\"fixed\",\"title\":{\"id\":\"1618\"},\"toolbar\":{\"id\":\"1639\"},\"width\":700,\"x_range\":{\"id\":\"1614\"},\"x_scale\":{\"id\":\"1622\"},\"y_range\":{\"id\":\"1615\"},\"y_scale\":{\"id\":\"1624\"}},\"id\":\"1617\",\"subtype\":\"Figure\",\"type\":\"Plot\"},{\"attributes\":{},\"id\":\"1661\",\"type\":\"AllLabels\"},{\"attributes\":{\"coordinates\":null,\"group\":null,\"text\":\"neighbourhood: Agincourt North\",\"text_color\":\"black\",\"text_font_size\":\"12pt\"},\"id\":\"1618\",\"type\":\"Title\"},{\"attributes\":{\"children\":[{\"id\":\"1692\"}],\"css_classes\":[\"panel-widget-box\"],\"margin\":[5,5,5,5],\"name\":\"WidgetBox02744\"},\"id\":\"1691\",\"type\":\"Column\"},{\"attributes\":{\"fill_color\":{\"field\":\"Variable\",\"transform\":{\"id\":\"1646\"}},\"hatch_color\":{\"field\":\"Variable\",\"transform\":{\"id\":\"1646\"}},\"top\":{\"field\":\"value\"},\"width\":{\"value\":0.8},\"x\":{\"field\":\"xoffsets\"}},\"id\":\"1650\",\"type\":\"VBar\"},{\"attributes\":{},\"id\":\"1637\",\"type\":\"ResetTool\"},{\"attributes\":{\"margin\":[5,5,5,5],\"name\":\"HSpacer02752\",\"sizing_mode\":\"stretch_width\"},\"id\":\"1613\",\"type\":\"Spacer\"},{\"attributes\":{\"margin\":[5,5,5,5],\"name\":\"HSpacer02753\",\"sizing_mode\":\"stretch_width\"},\"id\":\"1688\",\"type\":\"Spacer\"},{\"attributes\":{\"bottom\":{\"value\":0},\"fill_alpha\":{\"value\":1.0},\"fill_color\":{\"field\":\"Variable\",\"transform\":{\"id\":\"1646\"}},\"hatch_alpha\":{\"value\":1.0},\"hatch_color\":{\"field\":\"Variable\",\"transform\":{\"id\":\"1646\"}},\"hatch_scale\":{\"value\":12.0},\"hatch_weight\":{\"value\":1.0},\"line_alpha\":{\"value\":1.0},\"line_cap\":{\"value\":\"butt\"},\"line_color\":{\"value\":\"black\"},\"line_dash\":{\"value\":[]},\"line_dash_offset\":{\"value\":0},\"line_join\":{\"value\":\"bevel\"},\"line_width\":{\"value\":1},\"top\":{\"field\":\"value\"},\"width\":{\"value\":0.8},\"x\":{\"field\":\"xoffsets\"}},\"id\":\"1655\",\"type\":\"VBar\"},{\"attributes\":{},\"id\":\"1624\",\"type\":\"LinearScale\"},{\"attributes\":{\"factors\":[\"single_detached_house\",\"apartment_five_storeys_plus\",\"movable_dwelling\",\"semi_detached_house\",\"row_house\",\"duplex\",\"apartment_five_storeys_less\",\"other_house\"],\"palette\":[\"#30a2da\",\"#fc4f30\",\"#e5ae38\",\"#6d904f\",\"#8b8b8b\",\"#17becf\",\"#9467bd\",\"#d62728\"]},\"id\":\"1646\",\"type\":\"CategoricalColorMapper\"},{\"attributes\":{\"bottom_units\":\"screen\",\"coordinates\":null,\"fill_alpha\":0.5,\"fill_color\":\"lightgrey\",\"group\":null,\"left_units\":\"screen\",\"level\":\"overlay\",\"line_alpha\":1.0,\"line_color\":\"black\",\"line_dash\":[4,4],\"line_width\":2,\"right_units\":\"screen\",\"syncable\":false,\"top_units\":\"screen\"},\"id\":\"1638\",\"type\":\"BoxAnnotation\"},{\"attributes\":{\"fill_alpha\":{\"value\":0.2},\"fill_color\":{\"field\":\"Variable\",\"transform\":{\"id\":\"1646\"}},\"hatch_alpha\":{\"value\":0.2},\"hatch_color\":{\"field\":\"Variable\",\"transform\":{\"id\":\"1646\"}},\"line_alpha\":{\"value\":0.2},\"top\":{\"field\":\"value\"},\"width\":{\"value\":0.8},\"x\":{\"field\":\"xoffsets\"}},\"id\":\"1652\",\"type\":\"VBar\"},{\"attributes\":{},\"id\":\"1657\",\"type\":\"CategoricalTickFormatter\"},{\"attributes\":{\"axis\":{\"id\":\"1629\"},\"coordinates\":null,\"dimension\":1,\"grid_line_color\":null,\"group\":null,\"ticker\":null},\"id\":\"1632\",\"type\":\"Grid\"},{\"attributes\":{},\"id\":\"1648\",\"type\":\"Selection\"},{\"attributes\":{\"axis\":{\"id\":\"1626\"},\"coordinates\":null,\"grid_line_color\":null,\"group\":null,\"ticker\":null},\"id\":\"1628\",\"type\":\"Grid\"},{\"attributes\":{\"fill_alpha\":{\"value\":0.1},\"fill_color\":{\"field\":\"Variable\",\"transform\":{\"id\":\"1646\"}},\"hatch_alpha\":{\"value\":0.1},\"hatch_color\":{\"field\":\"Variable\",\"transform\":{\"id\":\"1646\"}},\"line_alpha\":{\"value\":0.1},\"top\":{\"field\":\"value\"},\"width\":{\"value\":0.8},\"x\":{\"field\":\"xoffsets\"}},\"id\":\"1651\",\"type\":\"VBar\"},{\"attributes\":{},\"id\":\"1630\",\"type\":\"BasicTicker\"},{\"attributes\":{\"axis_label\":\"\",\"coordinates\":null,\"formatter\":{\"id\":\"1660\"},\"group\":null,\"major_label_policy\":{\"id\":\"1661\"},\"ticker\":{\"id\":\"1630\"}},\"id\":\"1629\",\"type\":\"LinearAxis\"},{\"attributes\":{\"client_comm_id\":\"9f8f40c482ae4223bdf83e9ec9944fb6\",\"comm_id\":\"f64187b24bb045f7b247f79b63cff15a\",\"plot_id\":\"1612\"},\"id\":\"1724\",\"type\":\"panel.models.comm_manager.CommManager\"},{\"attributes\":{\"margin\":[20,20,20,20],\"min_width\":250,\"options\":[\"Agincourt North\",\"Agincourt South-Malvern West\",\"Alderwood\",\"Annex\",\"Banbury-Don Mills\",\"Bathurst Manor\",\"Bay Street Corridor\",\"Bayview Village\",\"Bayview Woods-Steeles\",\"Bedford Park-Nortown\",\"Beechborough-Greenbrook\",\"Bendale\",\"Birchcliffe-Cliffside\",\"Black Creek\",\"Blake-Jones\",\"Briar Hill-Belgravia\",\"Bridle Path-Sunnybrook-York Mills\",\"Broadview North\",\"Brookhaven-Amesbury\",\"Cabbagetown-South St.James Town\",\"Caledonia-Fairbank\",\"Casa Loma\",\"Centennial Scarborough\",\"Church-Yonge Corridor\",\"Clairlea-Birchmount\",\"Clanton Park\",\"Cliffcrest\",\"Corso Italia-Davenport\",\"Danforth\",\"Danforth-East York\",\"Don Valley Village\",\"Dorset Park\",\"Dovercourt-Wallace Emerson-Juncti\",\"Downsview-Roding-CFB\",\"Dufferin Grove\",\"East End-Danforth\",\"Edenbridge-Humber Valley\",\"Eglinton East\",\"Elms-Old Rexdale\",\"Englemount-Lawrence\",\"Eringate-Centennial-West Deane\",\"Etobicoke West Mall\",\"Flemingdon Park\",\"Forest Hill North\",\"Forest Hill South\",\"Glenfield-Jane Heights\",\"Greenwood-Coxwell\",\"Guildwood\",\"Henry Farm\",\"High Park North\",\"High Park-Swansea\",\"Highland Creek\",\"Hillcrest Village\",\"Humber Heights-Westmount\",\"Humber Summit\",\"Humbermede\",\"Humewood-Cedarvale\",\"Ionview\",\"Islington-City Centre West\",\"Junction Area\",\"Keelesdale-Eglinton West\",\"Kennedy Park\",\"Kensington-Chinatown\",\"Kingsview Village-The Westway\",\"Kingsway South\",\"L'Amoreaux\",\"Lambton Baby Point\",\"Lansing-Westgate\",\"Lawrence Park North\",\"Lawrence Park South\",\"Leaside-Bennington\",\"Little Portugal\",\"Long Branch\",\"Malvern\",\"Maple Leaf\",\"Markland Wood\",\"Milliken\",\"Mimico\",\"Morningside\",\"Moss Park\",\"Mount Dennis\",\"Mount Olive-Silverstone-Jamestown\",\"Mount Pleasant East\",\"Mount Pleasant West\",\"New Toronto\",\"Newtonbrook East\",\"Newtonbrook West\",\"Niagara\",\"North Riverdale\",\"North St.James Town\",\"O'Connor-Parkview\",\"Oakridge\",\"Oakwood Village\",\"Old East York\",\"Palmerston-Little Italy\",\"Parkwoods-Donalda\",\"Pelmo Park-Humberlea\",\"Playter Estates-Danforth\",\"Pleasant View\",\"Princess-Rosethorn\",\"Regent Park\",\"Rexdale-Kipling\",\"Rockcliffe-Smythe\",\"Roncesvalles\",\"Rosedale-Moore Park\",\"Rouge\",\"Runnymede-Bloor West Village\",\"Rustic\",\"Scarborough Village\",\"South Parkdale\",\"South Riverdale\",\"St.Andrew-Windfields\",\"Steeles\",\"Stonegate-Queensway\",\"Tam O'Shanter-Sullivan\",\"Taylor-Massey\",\"The Beaches\",\"Thistletown-Beaumond Heights\",\"Thorncliffe Park\",\"Trinity-Bellwoods\",\"University\",\"Victoria Village\",\"Waterfront Communities-The Island\",\"West Hill\",\"West Humber-Clairville\",\"Westminster-Branson\",\"Weston\",\"Weston-Pellam Park\",\"Wexford/Maryvale\",\"Willowdale East\",\"Willowdale West\",\"Willowridge-Martingrove-Richview\",\"Woburn\",\"Woodbine Corridor\",\"Woodbine-Lumsden\",\"Wychwood\",\"Yonge-Eglinton\",\"Yonge-St.Clair\",\"York University Heights\",\"Yorkdale-Glen Park\"],\"title\":\"neighbourhood\",\"value\":\"Agincourt North\",\"width\":250},\"id\":\"1692\",\"type\":\"Select\"},{\"attributes\":{},\"id\":\"1660\",\"type\":\"BasicTickFormatter\"},{\"attributes\":{\"coordinates\":null,\"data_source\":{\"id\":\"1647\"},\"glyph\":{\"id\":\"1650\"},\"group\":null,\"hover_glyph\":null,\"muted_glyph\":{\"id\":\"1652\"},\"nonselection_glyph\":{\"id\":\"1651\"},\"selection_glyph\":{\"id\":\"1655\"},\"view\":{\"id\":\"1654\"}},\"id\":\"1653\",\"type\":\"GlyphRenderer\"},{\"attributes\":{\"data\":{\"Variable\":[\"single_detached_house\",\"single_detached_house\",\"single_detached_house\",\"single_detached_house\",\"apartment_five_storeys_plus\",\"apartment_five_storeys_plus\",\"apartment_five_storeys_plus\",\"apartment_five_storeys_plus\",\"movable_dwelling\",\"movable_dwelling\",\"movable_dwelling\",\"movable_dwelling\",\"semi_detached_house\",\"semi_detached_house\",\"semi_detached_house\",\"semi_detached_house\",\"row_house\",\"row_house\",\"row_house\",\"row_house\",\"duplex\",\"duplex\",\"duplex\",\"duplex\",\"apartment_five_storeys_less\",\"apartment_five_storeys_less\",\"apartment_five_storeys_less\",\"apartment_five_storeys_less\",\"other_house\",\"other_house\",\"other_house\",\"other_house\"],\"value\":{\"__ndarray__\":\"AAAAAAAGrUAAAAAAAL6pQAAAAAAAcqpAAAAAAAAiqkAAAAAAACCXQAAAAAAAGKBAAAAAAACkoEAAAAAAAJCgQAAAAAAAAAAAAAAAAAAAAAAAAAAAAAAUQAAAAAAAABRAAAAAAAB8kEAAAAAAADiIQAAAAAAAoIlAAAAAAAAoiUAAAAAAADyUQAAAAAAARJZAAAAAAADklkAAAAAAAICWQAAAAAAAYGhAAAAAAADAgkAAAAAAABCDQAAAAAAAKIRAAAAAAAAgZ0AAAAAAAKiBQAAAAAAACIZAAAAAAAD4hkAAAAAAAAAUQAAAAAAAAAAAAAAAAAAANEAAAAAAAAAuQA==\",\"dtype\":\"float64\",\"order\":\"little\",\"shape\":[32]},\"xoffsets\":[[\"2001\",\"single_detached_house\"],[\"2006\",\"single_detached_house\"],[\"2011\",\"single_detached_house\"],[\"2016\",\"single_detached_house\"],[\"2001\",\"apartment_five_storeys_plus\"],[\"2006\",\"apartment_five_storeys_plus\"],[\"2011\",\"apartment_five_storeys_plus\"],[\"2016\",\"apartment_five_storeys_plus\"],[\"2001\",\"movable_dwelling\"],[\"2006\",\"movable_dwelling\"],[\"2011\",\"movable_dwelling\"],[\"2016\",\"movable_dwelling\"],[\"2001\",\"semi_detached_house\"],[\"2006\",\"semi_detached_house\"],[\"2011\",\"semi_detached_house\"],[\"2016\",\"semi_detached_house\"],[\"2001\",\"row_house\"],[\"2006\",\"row_house\"],[\"2011\",\"row_house\"],[\"2016\",\"row_house\"],[\"2001\",\"duplex\"],[\"2006\",\"duplex\"],[\"2011\",\"duplex\"],[\"2016\",\"duplex\"],[\"2001\",\"apartment_five_storeys_less\"],[\"2006\",\"apartment_five_storeys_less\"],[\"2011\",\"apartment_five_storeys_less\"],[\"2016\",\"apartment_five_storeys_less\"],[\"2001\",\"other_house\"],[\"2006\",\"other_house\"],[\"2011\",\"other_house\"],[\"2016\",\"other_house\"]],\"year\":[\"2001\",\"2006\",\"2011\",\"2016\",\"2001\",\"2006\",\"2011\",\"2016\",\"2001\",\"2006\",\"2011\",\"2016\",\"2001\",\"2006\",\"2011\",\"2016\",\"2001\",\"2006\",\"2011\",\"2016\",\"2001\",\"2006\",\"2011\",\"2016\",\"2001\",\"2006\",\"2011\",\"2016\",\"2001\",\"2006\",\"2011\",\"2016\"]},\"selected\":{\"id\":\"1648\"},\"selection_policy\":{\"id\":\"1675\"}},\"id\":\"1647\",\"type\":\"ColumnDataSource\"},{\"attributes\":{\"factors\":[[\"2001\",\"other_house\"],[\"2001\",\"apartment_five_storeys_less\"],[\"2001\",\"duplex\"],[\"2001\",\"row_house\"],[\"2001\",\"semi_detached_house\"],[\"2001\",\"movable_dwelling\"],[\"2001\",\"apartment_five_storeys_plus\"],[\"2001\",\"single_detached_house\"],[\"2006\",\"other_house\"],[\"2006\",\"apartment_five_storeys_less\"],[\"2006\",\"duplex\"],[\"2006\",\"row_house\"],[\"2006\",\"semi_detached_house\"],[\"2006\",\"movable_dwelling\"],[\"2006\",\"apartment_five_storeys_plus\"],[\"2006\",\"single_detached_house\"],[\"2011\",\"other_house\"],[\"2011\",\"apartment_five_storeys_less\"],[\"2011\",\"duplex\"],[\"2011\",\"row_house\"],[\"2011\",\"semi_detached_house\"],[\"2011\",\"movable_dwelling\"],[\"2011\",\"apartment_five_storeys_plus\"],[\"2011\",\"single_detached_house\"],[\"2016\",\"other_house\"],[\"2016\",\"apartment_five_storeys_less\"],[\"2016\",\"duplex\"],[\"2016\",\"row_house\"],[\"2016\",\"semi_detached_house\"],[\"2016\",\"movable_dwelling\"],[\"2016\",\"apartment_five_storeys_plus\"],[\"2016\",\"single_detached_house\"]],\"tags\":[[[\"year\",\"year\",null],[\"Variable\",\"Variable\",null]]]},\"id\":\"1614\",\"type\":\"FactorRange\"},{\"attributes\":{\"margin\":[5,5,5,5],\"name\":\"VSpacer02749\",\"sizing_mode\":\"stretch_height\"},\"id\":\"1690\",\"type\":\"Spacer\"},{\"attributes\":{\"end\":4086.5,\"reset_end\":4086.5,\"reset_start\":0.0,\"tags\":[[[\"value\",\"value\",null]]]},\"id\":\"1615\",\"type\":\"Range1d\"},{\"attributes\":{\"source\":{\"id\":\"1647\"}},\"id\":\"1654\",\"type\":\"CDSView\"},{\"attributes\":{\"children\":[{\"id\":\"1690\"},{\"id\":\"1691\"},{\"id\":\"1693\"}],\"margin\":[0,0,0,0],\"name\":\"Column02751\"},\"id\":\"1689\",\"type\":\"Column\"},{\"attributes\":{\"margin\":[5,5,5,5],\"name\":\"VSpacer02750\",\"sizing_mode\":\"stretch_height\"},\"id\":\"1693\",\"type\":\"Spacer\"},{\"attributes\":{},\"id\":\"1622\",\"type\":\"CategoricalScale\"},{\"attributes\":{},\"id\":\"1658\",\"type\":\"AllLabels\"},{\"attributes\":{},\"id\":\"1633\",\"type\":\"SaveTool\"},{\"attributes\":{},\"id\":\"1675\",\"type\":\"UnionRenderers\"},{\"attributes\":{\"children\":[{\"id\":\"1613\"},{\"id\":\"1617\"},{\"id\":\"1688\"},{\"id\":\"1689\"}],\"margin\":[0,0,0,0],\"name\":\"Row02743\"},\"id\":\"1612\",\"type\":\"Row\"},{\"attributes\":{},\"id\":\"1634\",\"type\":\"PanTool\"}],\"root_ids\":[\"1612\",\"1724\"]},\"title\":\"Bokeh Application\",\"version\":\"2.4.2\"}};\n",
       "    var render_items = [{\"docid\":\"00f12cef-0ac5-4d0b-a917-242c5feb6ef1\",\"root_ids\":[\"1612\"],\"roots\":{\"1612\":\"07011043-350f-415f-b06b-d8bc3053b07d\"}}];\n",
       "    root.Bokeh.embed.embed_items_notebook(docs_json, render_items);\n",
       "  }\n",
       "  if (root.Bokeh !== undefined && root.Bokeh.Panel !== undefined && ( root['Plotly'] !== undefined)) {\n",
       "    embed_document(root);\n",
       "  } else {\n",
       "    var attempts = 0;\n",
       "    var timer = setInterval(function(root) {\n",
       "      if (root.Bokeh !== undefined && root.Bokeh.Panel !== undefined && (root['Plotly'] !== undefined)) {\n",
       "        clearInterval(timer);\n",
       "        embed_document(root);\n",
       "      } else if (document.readyState == \"complete\") {\n",
       "        attempts++;\n",
       "        if (attempts > 200) {\n",
       "          clearInterval(timer);\n",
       "          console.log(\"Bokeh: ERROR: Unable to run BokehJS code because BokehJS library is missing\");\n",
       "        }\n",
       "      }\n",
       "    }, 25, root)\n",
       "  }\n",
       "})(window);</script>"
      ],
      "text/plain": [
       ":DynamicMap   [neighbourhood]\n",
       "   :Bars   [year,Variable]   (value)"
      ]
     },
     "execution_count": 73,
     "metadata": {
      "application/vnd.holoviews_exec.v0+json": {
       "id": "1612"
      }
     },
     "output_type": "execute_result"
    }
   ],
   "source": [
    "dwelling= to_data.groupby([to_data.index,\"neighbourhood\"]).mean()\n",
    "dwelling.hvplot(\n",
    "         x='year',y=[\"single_detached_house\", \"apartment_five_storeys_plus\", \"movable_dwelling\", \"semi_detached_house\", \"row_house\",\n",
    "                     \"duplex\", \"apartment_five_storeys_less\", \"other_house\"],\n",
    "            groupby='neighbourhood', kind='bar',rot=90, height=400)"
   ]
  },
  {
   "cell_type": "code",
   "execution_count": null,
   "metadata": {},
   "outputs": [],
   "source": []
  },
  {
   "cell_type": "markdown",
   "metadata": {},
   "source": [
    "- - - "
   ]
  },
  {
   "cell_type": "markdown",
   "metadata": {},
   "source": [
    "## The Top 10 Most Expensive Neighbourhoods\n",
    "\n",
    "In this section, you will need to calculate the house value for each neighbourhood and then sort the values to obtain the top 10 most expensive neighbourhoods on average. Plot the results as a bar chart."
   ]
  },
  {
   "cell_type": "code",
   "execution_count": 74,
   "metadata": {},
   "outputs": [
    {
     "data": {
      "text/html": [
       "<div>\n",
       "<style scoped>\n",
       "    .dataframe tbody tr th:only-of-type {\n",
       "        vertical-align: middle;\n",
       "    }\n",
       "\n",
       "    .dataframe tbody tr th {\n",
       "        vertical-align: top;\n",
       "    }\n",
       "\n",
       "    .dataframe thead th {\n",
       "        text-align: right;\n",
       "    }\n",
       "</style>\n",
       "<table border=\"1\" class=\"dataframe\">\n",
       "  <thead>\n",
       "    <tr style=\"text-align: right;\">\n",
       "      <th></th>\n",
       "      <th>neighbourhood</th>\n",
       "      <th>single_detached_house</th>\n",
       "      <th>apartment_five_storeys_plus</th>\n",
       "      <th>movable_dwelling</th>\n",
       "      <th>semi_detached_house</th>\n",
       "      <th>row_house</th>\n",
       "      <th>duplex</th>\n",
       "      <th>apartment_five_storeys_less</th>\n",
       "      <th>other_house</th>\n",
       "      <th>average_house_value</th>\n",
       "      <th>shelter_costs_owned</th>\n",
       "      <th>shelter_costs_rented</th>\n",
       "    </tr>\n",
       "    <tr>\n",
       "      <th>year</th>\n",
       "      <th></th>\n",
       "      <th></th>\n",
       "      <th></th>\n",
       "      <th></th>\n",
       "      <th></th>\n",
       "      <th></th>\n",
       "      <th></th>\n",
       "      <th></th>\n",
       "      <th></th>\n",
       "      <th></th>\n",
       "      <th></th>\n",
       "      <th></th>\n",
       "    </tr>\n",
       "  </thead>\n",
       "  <tbody>\n",
       "    <tr>\n",
       "      <th>2016</th>\n",
       "      <td>Bridle Path-Sunnybrook-York Mills</td>\n",
       "      <td>2275</td>\n",
       "      <td>590</td>\n",
       "      <td>0</td>\n",
       "      <td>40</td>\n",
       "      <td>230</td>\n",
       "      <td>30</td>\n",
       "      <td>80</td>\n",
       "      <td>0</td>\n",
       "      <td>2124653</td>\n",
       "      <td>2903</td>\n",
       "      <td>2942</td>\n",
       "    </tr>\n",
       "    <tr>\n",
       "      <th>2011</th>\n",
       "      <td>Bridle Path-Sunnybrook-York Mills</td>\n",
       "      <td>2285</td>\n",
       "      <td>480</td>\n",
       "      <td>0</td>\n",
       "      <td>45</td>\n",
       "      <td>100</td>\n",
       "      <td>30</td>\n",
       "      <td>50</td>\n",
       "      <td>0</td>\n",
       "      <td>1697067</td>\n",
       "      <td>2387</td>\n",
       "      <td>2388</td>\n",
       "    </tr>\n",
       "    <tr>\n",
       "      <th>2016</th>\n",
       "      <td>Forest Hill South</td>\n",
       "      <td>1685</td>\n",
       "      <td>2025</td>\n",
       "      <td>0</td>\n",
       "      <td>65</td>\n",
       "      <td>40</td>\n",
       "      <td>70</td>\n",
       "      <td>1050</td>\n",
       "      <td>0</td>\n",
       "      <td>1664653</td>\n",
       "      <td>2383</td>\n",
       "      <td>1486</td>\n",
       "    </tr>\n",
       "    <tr>\n",
       "      <th>2016</th>\n",
       "      <td>Lawrence Park South</td>\n",
       "      <td>3420</td>\n",
       "      <td>925</td>\n",
       "      <td>0</td>\n",
       "      <td>110</td>\n",
       "      <td>35</td>\n",
       "      <td>230</td>\n",
       "      <td>1015</td>\n",
       "      <td>5</td>\n",
       "      <td>1522732</td>\n",
       "      <td>2644</td>\n",
       "      <td>1515</td>\n",
       "    </tr>\n",
       "    <tr>\n",
       "      <th>2016</th>\n",
       "      <td>Rosedale-Moore Park</td>\n",
       "      <td>2450</td>\n",
       "      <td>4990</td>\n",
       "      <td>0</td>\n",
       "      <td>485</td>\n",
       "      <td>260</td>\n",
       "      <td>345</td>\n",
       "      <td>1505</td>\n",
       "      <td>5</td>\n",
       "      <td>1522193</td>\n",
       "      <td>2498</td>\n",
       "      <td>1809</td>\n",
       "    </tr>\n",
       "    <tr>\n",
       "      <th>2016</th>\n",
       "      <td>St.Andrew-Windfields</td>\n",
       "      <td>3245</td>\n",
       "      <td>1745</td>\n",
       "      <td>0</td>\n",
       "      <td>175</td>\n",
       "      <td>540</td>\n",
       "      <td>120</td>\n",
       "      <td>595</td>\n",
       "      <td>5</td>\n",
       "      <td>1390616</td>\n",
       "      <td>2516</td>\n",
       "      <td>1565</td>\n",
       "    </tr>\n",
       "    <tr>\n",
       "      <th>2016</th>\n",
       "      <td>Casa Loma</td>\n",
       "      <td>875</td>\n",
       "      <td>2680</td>\n",
       "      <td>0</td>\n",
       "      <td>265</td>\n",
       "      <td>200</td>\n",
       "      <td>155</td>\n",
       "      <td>1225</td>\n",
       "      <td>0</td>\n",
       "      <td>1365503</td>\n",
       "      <td>2434</td>\n",
       "      <td>1841</td>\n",
       "    </tr>\n",
       "    <tr>\n",
       "      <th>2006</th>\n",
       "      <td>Bridle Path-Sunnybrook-York Mills</td>\n",
       "      <td>2205</td>\n",
       "      <td>145</td>\n",
       "      <td>0</td>\n",
       "      <td>35</td>\n",
       "      <td>15</td>\n",
       "      <td>30</td>\n",
       "      <td>10</td>\n",
       "      <td>0</td>\n",
       "      <td>1356757</td>\n",
       "      <td>2170</td>\n",
       "      <td>2167</td>\n",
       "    </tr>\n",
       "    <tr>\n",
       "      <th>2011</th>\n",
       "      <td>Forest Hill South</td>\n",
       "      <td>1730</td>\n",
       "      <td>1825</td>\n",
       "      <td>0</td>\n",
       "      <td>65</td>\n",
       "      <td>45</td>\n",
       "      <td>75</td>\n",
       "      <td>1035</td>\n",
       "      <td>0</td>\n",
       "      <td>1329642</td>\n",
       "      <td>1959</td>\n",
       "      <td>1206</td>\n",
       "    </tr>\n",
       "    <tr>\n",
       "      <th>2016</th>\n",
       "      <td>Bedford Park-Nortown</td>\n",
       "      <td>4820</td>\n",
       "      <td>1995</td>\n",
       "      <td>0</td>\n",
       "      <td>45</td>\n",
       "      <td>65</td>\n",
       "      <td>315</td>\n",
       "      <td>1260</td>\n",
       "      <td>115</td>\n",
       "      <td>1295007</td>\n",
       "      <td>2418</td>\n",
       "      <td>1385</td>\n",
       "    </tr>\n",
       "  </tbody>\n",
       "</table>\n",
       "</div>"
      ],
      "text/plain": [
       "                          neighbourhood  single_detached_house  \\\n",
       "year                                                             \n",
       "2016  Bridle Path-Sunnybrook-York Mills                   2275   \n",
       "2011  Bridle Path-Sunnybrook-York Mills                   2285   \n",
       "2016                  Forest Hill South                   1685   \n",
       "2016                Lawrence Park South                   3420   \n",
       "2016                Rosedale-Moore Park                   2450   \n",
       "2016               St.Andrew-Windfields                   3245   \n",
       "2016                          Casa Loma                    875   \n",
       "2006  Bridle Path-Sunnybrook-York Mills                   2205   \n",
       "2011                  Forest Hill South                   1730   \n",
       "2016               Bedford Park-Nortown                   4820   \n",
       "\n",
       "      apartment_five_storeys_plus  movable_dwelling  semi_detached_house  \\\n",
       "year                                                                       \n",
       "2016                          590                 0                   40   \n",
       "2011                          480                 0                   45   \n",
       "2016                         2025                 0                   65   \n",
       "2016                          925                 0                  110   \n",
       "2016                         4990                 0                  485   \n",
       "2016                         1745                 0                  175   \n",
       "2016                         2680                 0                  265   \n",
       "2006                          145                 0                   35   \n",
       "2011                         1825                 0                   65   \n",
       "2016                         1995                 0                   45   \n",
       "\n",
       "      row_house  duplex  apartment_five_storeys_less  other_house  \\\n",
       "year                                                                \n",
       "2016        230      30                           80            0   \n",
       "2011        100      30                           50            0   \n",
       "2016         40      70                         1050            0   \n",
       "2016         35     230                         1015            5   \n",
       "2016        260     345                         1505            5   \n",
       "2016        540     120                          595            5   \n",
       "2016        200     155                         1225            0   \n",
       "2006         15      30                           10            0   \n",
       "2011         45      75                         1035            0   \n",
       "2016         65     315                         1260          115   \n",
       "\n",
       "      average_house_value  shelter_costs_owned  shelter_costs_rented  \n",
       "year                                                                  \n",
       "2016              2124653                 2903                  2942  \n",
       "2011              1697067                 2387                  2388  \n",
       "2016              1664653                 2383                  1486  \n",
       "2016              1522732                 2644                  1515  \n",
       "2016              1522193                 2498                  1809  \n",
       "2016              1390616                 2516                  1565  \n",
       "2016              1365503                 2434                  1841  \n",
       "2006              1356757                 2170                  2167  \n",
       "2011              1329642                 1959                  1206  \n",
       "2016              1295007                 2418                  1385  "
      ]
     },
     "execution_count": 74,
     "metadata": {},
     "output_type": "execute_result"
    }
   ],
   "source": [
    "# Getting the data from the top 10 expensive neighbourhoods\n",
    "av=to_data.sort_values(by=\"average_house_value\",ascending= False).head(10)\n",
    "av\n",
    "                                                "
   ]
  },
  {
   "cell_type": "code",
   "execution_count": null,
   "metadata": {},
   "outputs": [],
   "source": []
  },
  {
   "cell_type": "code",
   "execution_count": 75,
   "metadata": {},
   "outputs": [
    {
     "data": {},
     "metadata": {},
     "output_type": "display_data"
    },
    {
     "data": {
      "application/vnd.holoviews_exec.v0+json": "",
      "text/html": [
       "<div id='1775'>\n",
       "\n",
       "\n",
       "\n",
       "\n",
       "\n",
       "  <div class=\"bk-root\" id=\"66aef135-9282-4fc2-becf-114c3d55419a\" data-root-id=\"1775\"></div>\n",
       "</div>\n",
       "<script type=\"application/javascript\">(function(root) {\n",
       "  function embed_document(root) {\n",
       "    var docs_json = {\"e85db273-a860-4ac1-a12a-db68e4a69ab6\":{\"defs\":[{\"extends\":null,\"module\":null,\"name\":\"ReactiveHTML1\",\"overrides\":[],\"properties\":[]},{\"extends\":null,\"module\":null,\"name\":\"FlexBox1\",\"overrides\":[],\"properties\":[{\"default\":\"flex-start\",\"kind\":null,\"name\":\"align_content\"},{\"default\":\"flex-start\",\"kind\":null,\"name\":\"align_items\"},{\"default\":\"row\",\"kind\":null,\"name\":\"flex_direction\"},{\"default\":\"wrap\",\"kind\":null,\"name\":\"flex_wrap\"},{\"default\":\"flex-start\",\"kind\":null,\"name\":\"justify_content\"}]},{\"extends\":null,\"module\":null,\"name\":\"TemplateActions1\",\"overrides\":[],\"properties\":[{\"default\":0,\"kind\":null,\"name\":\"open_modal\"},{\"default\":0,\"kind\":null,\"name\":\"close_modal\"}]},{\"extends\":null,\"module\":null,\"name\":\"MaterialTemplateActions1\",\"overrides\":[],\"properties\":[{\"default\":0,\"kind\":null,\"name\":\"open_modal\"},{\"default\":0,\"kind\":null,\"name\":\"close_modal\"}]}],\"roots\":{\"references\":[{\"attributes\":{},\"id\":\"1810\",\"type\":\"Selection\"},{\"attributes\":{\"callback\":null,\"renderers\":[{\"id\":\"1815\"}],\"tags\":[\"hv_created\"],\"tooltips\":[[\"neighbourhood\",\"@{neighbourhood}\"],[\"average_house_value\",\"@{average_house_value}\"]]},\"id\":\"1779\",\"type\":\"HoverTool\"},{\"attributes\":{},\"id\":\"1798\",\"type\":\"WheelZoomTool\"},{\"attributes\":{\"margin\":[5,5,5,5],\"name\":\"HSpacer03287\",\"sizing_mode\":\"stretch_width\"},\"id\":\"1844\",\"type\":\"Spacer\"},{\"attributes\":{\"tools\":[{\"id\":\"1779\"},{\"id\":\"1796\"},{\"id\":\"1797\"},{\"id\":\"1798\"},{\"id\":\"1799\"},{\"id\":\"1800\"}]},\"id\":\"1802\",\"type\":\"Toolbar\"},{\"attributes\":{\"data\":{\"average_house_value\":[2124653,1697067,1664653,1522732,1522193,1390616,1365503,1356757,1329642,1295007],\"neighbourhood\":[\"Bridle Path-Sunnybrook-York Mills\",\"Bridle Path-Sunnybrook-York Mills\",\"Forest Hill South\",\"Lawrence Park South\",\"Rosedale-Moore Park\",\"St.Andrew-Windfields\",\"Casa Loma\",\"Bridle Path-Sunnybrook-York Mills\",\"Forest Hill South\",\"Bedford Park-Nortown\"]},\"selected\":{\"id\":\"1810\"},\"selection_policy\":{\"id\":\"1831\"}},\"id\":\"1809\",\"type\":\"ColumnDataSource\"},{\"attributes\":{\"overlay\":{\"id\":\"1801\"}},\"id\":\"1799\",\"type\":\"BoxZoomTool\"},{\"attributes\":{},\"id\":\"1820\",\"type\":\"AllLabels\"},{\"attributes\":{\"factors\":[\"Bridle Path-Sunnybrook-York Mills\",\"Forest Hill South\",\"Lawrence Park South\",\"Rosedale-Moore Park\",\"St.Andrew-Windfields\",\"Casa Loma\",\"Bedford Park-Nortown\"],\"tags\":[[[\"neighbourhood\",\"neighbourhood\",null]]]},\"id\":\"1777\",\"type\":\"FactorRange\"},{\"attributes\":{},\"id\":\"1831\",\"type\":\"UnionRenderers\"},{\"attributes\":{\"fill_color\":{\"value\":\"#30a2da\"},\"hatch_color\":{\"value\":\"#30a2da\"},\"top\":{\"field\":\"average_house_value\"},\"width\":{\"value\":0.8},\"x\":{\"field\":\"neighbourhood\"}},\"id\":\"1812\",\"type\":\"VBar\"},{\"attributes\":{},\"id\":\"1800\",\"type\":\"ResetTool\"},{\"attributes\":{},\"id\":\"1785\",\"type\":\"CategoricalScale\"},{\"attributes\":{},\"id\":\"1790\",\"type\":\"CategoricalTicker\"},{\"attributes\":{\"bottom_units\":\"screen\",\"coordinates\":null,\"fill_alpha\":0.5,\"fill_color\":\"lightgrey\",\"group\":null,\"left_units\":\"screen\",\"level\":\"overlay\",\"line_alpha\":1.0,\"line_color\":\"black\",\"line_dash\":[4,4],\"line_width\":2,\"right_units\":\"screen\",\"syncable\":false,\"top_units\":\"screen\"},\"id\":\"1801\",\"type\":\"BoxAnnotation\"},{\"attributes\":{\"axis\":{\"id\":\"1792\"},\"coordinates\":null,\"dimension\":1,\"grid_line_color\":null,\"group\":null,\"ticker\":null},\"id\":\"1795\",\"type\":\"Grid\"},{\"attributes\":{\"bottom\":{\"value\":0},\"fill_alpha\":{\"value\":1.0},\"fill_color\":{\"value\":\"#30a2da\"},\"hatch_alpha\":{\"value\":1.0},\"hatch_color\":{\"value\":\"#30a2da\"},\"hatch_scale\":{\"value\":12.0},\"hatch_weight\":{\"value\":1.0},\"line_alpha\":{\"value\":1.0},\"line_cap\":{\"value\":\"butt\"},\"line_color\":{\"value\":\"black\"},\"line_dash\":{\"value\":[]},\"line_dash_offset\":{\"value\":0},\"line_join\":{\"value\":\"bevel\"},\"line_width\":{\"value\":1},\"top\":{\"field\":\"average_house_value\"},\"width\":{\"value\":0.8},\"x\":{\"field\":\"neighbourhood\"}},\"id\":\"1817\",\"type\":\"VBar\"},{\"attributes\":{\"below\":[{\"id\":\"1789\"}],\"center\":[{\"id\":\"1791\"},{\"id\":\"1795\"}],\"height\":500,\"left\":[{\"id\":\"1792\"}],\"margin\":[5,5,5,5],\"min_border_bottom\":10,\"min_border_left\":10,\"min_border_right\":10,\"min_border_top\":10,\"renderers\":[{\"id\":\"1815\"}],\"sizing_mode\":\"fixed\",\"title\":{\"id\":\"1781\"},\"toolbar\":{\"id\":\"1802\"},\"width\":700,\"x_range\":{\"id\":\"1777\"},\"x_scale\":{\"id\":\"1785\"},\"y_range\":{\"id\":\"1778\"},\"y_scale\":{\"id\":\"1787\"}},\"id\":\"1780\",\"subtype\":\"Figure\",\"type\":\"Plot\"},{\"attributes\":{},\"id\":\"1797\",\"type\":\"PanTool\"},{\"attributes\":{\"axis\":{\"id\":\"1789\"},\"coordinates\":null,\"grid_line_color\":null,\"group\":null,\"ticker\":null},\"id\":\"1791\",\"type\":\"Grid\"},{\"attributes\":{},\"id\":\"1822\",\"type\":\"BasicTickFormatter\"},{\"attributes\":{},\"id\":\"1793\",\"type\":\"BasicTicker\"},{\"attributes\":{\"axis_label\":\"average_house_value\",\"coordinates\":null,\"formatter\":{\"id\":\"1822\"},\"group\":null,\"major_label_policy\":{\"id\":\"1823\"},\"ticker\":{\"id\":\"1793\"}},\"id\":\"1792\",\"type\":\"LinearAxis\"},{\"attributes\":{},\"id\":\"1823\",\"type\":\"AllLabels\"},{\"attributes\":{\"source\":{\"id\":\"1809\"}},\"id\":\"1816\",\"type\":\"CDSView\"},{\"attributes\":{\"margin\":[5,5,5,5],\"name\":\"HSpacer03286\",\"sizing_mode\":\"stretch_width\"},\"id\":\"1776\",\"type\":\"Spacer\"},{\"attributes\":{\"fill_alpha\":{\"value\":0.2},\"fill_color\":{\"value\":\"#30a2da\"},\"hatch_alpha\":{\"value\":0.2},\"hatch_color\":{\"value\":\"#30a2da\"},\"line_alpha\":{\"value\":0.2},\"top\":{\"field\":\"average_house_value\"},\"width\":{\"value\":0.8},\"x\":{\"field\":\"neighbourhood\"}},\"id\":\"1814\",\"type\":\"VBar\"},{\"attributes\":{\"coordinates\":null,\"data_source\":{\"id\":\"1809\"},\"glyph\":{\"id\":\"1812\"},\"group\":null,\"hover_glyph\":null,\"muted_glyph\":{\"id\":\"1814\"},\"nonselection_glyph\":{\"id\":\"1813\"},\"selection_glyph\":{\"id\":\"1817\"},\"view\":{\"id\":\"1816\"}},\"id\":\"1815\",\"type\":\"GlyphRenderer\"},{\"attributes\":{\"children\":[{\"id\":\"1776\"},{\"id\":\"1780\"},{\"id\":\"1844\"}],\"margin\":[0,0,0,0],\"name\":\"Row03282\",\"tags\":[\"embedded\"]},\"id\":\"1775\",\"type\":\"Row\"},{\"attributes\":{},\"id\":\"1819\",\"type\":\"CategoricalTickFormatter\"},{\"attributes\":{},\"id\":\"1787\",\"type\":\"LinearScale\"},{\"attributes\":{\"fill_alpha\":{\"value\":0.1},\"fill_color\":{\"value\":\"#30a2da\"},\"hatch_alpha\":{\"value\":0.1},\"hatch_color\":{\"value\":\"#30a2da\"},\"line_alpha\":{\"value\":0.1},\"top\":{\"field\":\"average_house_value\"},\"width\":{\"value\":0.8},\"x\":{\"field\":\"neighbourhood\"}},\"id\":\"1813\",\"type\":\"VBar\"},{\"attributes\":{\"coordinates\":null,\"group\":null,\"text_color\":\"black\",\"text_font_size\":\"12pt\"},\"id\":\"1781\",\"type\":\"Title\"},{\"attributes\":{},\"id\":\"1796\",\"type\":\"SaveTool\"},{\"attributes\":{\"end\":2207617.6,\"reset_end\":2207617.6,\"reset_start\":0.0,\"tags\":[[[\"average_house_value\",\"average_house_value\",null]]]},\"id\":\"1778\",\"type\":\"Range1d\"},{\"attributes\":{\"axis_label\":\"neighbourhood\",\"coordinates\":null,\"formatter\":{\"id\":\"1819\"},\"group\":null,\"major_label_orientation\":1.5707963267948966,\"major_label_policy\":{\"id\":\"1820\"},\"ticker\":{\"id\":\"1790\"}},\"id\":\"1789\",\"type\":\"CategoricalAxis\"}],\"root_ids\":[\"1775\"]},\"title\":\"Bokeh Application\",\"version\":\"2.4.2\"}};\n",
       "    var render_items = [{\"docid\":\"e85db273-a860-4ac1-a12a-db68e4a69ab6\",\"root_ids\":[\"1775\"],\"roots\":{\"1775\":\"66aef135-9282-4fc2-becf-114c3d55419a\"}}];\n",
       "    root.Bokeh.embed.embed_items_notebook(docs_json, render_items);\n",
       "  }\n",
       "  if (root.Bokeh !== undefined && root.Bokeh.Panel !== undefined && ( root['Plotly'] !== undefined)) {\n",
       "    embed_document(root);\n",
       "  } else {\n",
       "    var attempts = 0;\n",
       "    var timer = setInterval(function(root) {\n",
       "      if (root.Bokeh !== undefined && root.Bokeh.Panel !== undefined && (root['Plotly'] !== undefined)) {\n",
       "        clearInterval(timer);\n",
       "        embed_document(root);\n",
       "      } else if (document.readyState == \"complete\") {\n",
       "        attempts++;\n",
       "        if (attempts > 200) {\n",
       "          clearInterval(timer);\n",
       "          console.log(\"Bokeh: ERROR: Unable to run BokehJS code because BokehJS library is missing\");\n",
       "        }\n",
       "      }\n",
       "    }, 25, root)\n",
       "  }\n",
       "})(window);</script>"
      ],
      "text/plain": [
       ":Bars   [neighbourhood]   (average_house_value)"
      ]
     },
     "execution_count": 75,
     "metadata": {
      "application/vnd.holoviews_exec.v0+json": {
       "id": "1775"
      }
     },
     "output_type": "execute_result"
    }
   ],
   "source": [
    "# Plotting the data from the top 10 expensive neighbourhoods \n",
    "av.hvplot.bar(x='neighbourhood',y='average_house_value',rot=90,height= 500)\n"
   ]
  },
  {
   "cell_type": "markdown",
   "metadata": {},
   "source": [
    "- - - "
   ]
  },
  {
   "cell_type": "markdown",
   "metadata": {},
   "source": [
    "## Neighbourhood Map\n",
    "\n",
    "In this section, you will read in neighbourhoods location data and build an interactive map with the average house value per neighbourhood. Use a `scatter_mapbox` from Plotly express to create the visualization. Remember, you will need your Mapbox API key for this."
   ]
  },
  {
   "cell_type": "markdown",
   "metadata": {},
   "source": [
    "### Load Location Data"
   ]
  },
  {
   "cell_type": "code",
   "execution_count": 76,
   "metadata": {},
   "outputs": [
    {
     "data": {
      "text/html": [
       "<div>\n",
       "<style scoped>\n",
       "    .dataframe tbody tr th:only-of-type {\n",
       "        vertical-align: middle;\n",
       "    }\n",
       "\n",
       "    .dataframe tbody tr th {\n",
       "        vertical-align: top;\n",
       "    }\n",
       "\n",
       "    .dataframe thead th {\n",
       "        text-align: right;\n",
       "    }\n",
       "</style>\n",
       "<table border=\"1\" class=\"dataframe\">\n",
       "  <thead>\n",
       "    <tr style=\"text-align: right;\">\n",
       "      <th></th>\n",
       "      <th>neighbourhood</th>\n",
       "      <th>lat</th>\n",
       "      <th>lon</th>\n",
       "    </tr>\n",
       "  </thead>\n",
       "  <tbody>\n",
       "    <tr>\n",
       "      <th>0</th>\n",
       "      <td>Agincourt North</td>\n",
       "      <td>43.805441</td>\n",
       "      <td>-79.266712</td>\n",
       "    </tr>\n",
       "    <tr>\n",
       "      <th>1</th>\n",
       "      <td>Agincourt South-Malvern West</td>\n",
       "      <td>43.788658</td>\n",
       "      <td>-79.265612</td>\n",
       "    </tr>\n",
       "    <tr>\n",
       "      <th>2</th>\n",
       "      <td>Alderwood</td>\n",
       "      <td>43.604937</td>\n",
       "      <td>-79.541611</td>\n",
       "    </tr>\n",
       "    <tr>\n",
       "      <th>3</th>\n",
       "      <td>Annex</td>\n",
       "      <td>43.671585</td>\n",
       "      <td>-79.404001</td>\n",
       "    </tr>\n",
       "    <tr>\n",
       "      <th>4</th>\n",
       "      <td>Banbury-Don Mills</td>\n",
       "      <td>43.737657</td>\n",
       "      <td>-79.349718</td>\n",
       "    </tr>\n",
       "  </tbody>\n",
       "</table>\n",
       "</div>"
      ],
      "text/plain": [
       "                  neighbourhood        lat        lon\n",
       "0               Agincourt North  43.805441 -79.266712\n",
       "1  Agincourt South-Malvern West  43.788658 -79.265612\n",
       "2                     Alderwood  43.604937 -79.541611\n",
       "3                         Annex  43.671585 -79.404001\n",
       "4             Banbury-Don Mills  43.737657 -79.349718"
      ]
     },
     "execution_count": 76,
     "metadata": {},
     "output_type": "execute_result"
    }
   ],
   "source": [
    "# Load neighbourhoods coordinates data\n",
    "file_path = Path(\"toronto_neighbourhoods_coordinates.csv\")\n",
    "df_neighbourhood_locations = pd.read_csv(file_path)\n",
    "df_neighbourhood_locations.head()"
   ]
  },
  {
   "cell_type": "markdown",
   "metadata": {},
   "source": [
    "### Data Preparation\n",
    "\n",
    "You will need to join the location data with the mean values per neighbourhood.\n",
    "\n",
    "1. Calculate the mean values for each neighbourhood.\n",
    "\n",
    "2. Join the average values with the neighbourhood locations."
   ]
  },
  {
   "cell_type": "code",
   "execution_count": 77,
   "metadata": {},
   "outputs": [
    {
     "data": {
      "text/html": [
       "<div>\n",
       "<style scoped>\n",
       "    .dataframe tbody tr th:only-of-type {\n",
       "        vertical-align: middle;\n",
       "    }\n",
       "\n",
       "    .dataframe tbody tr th {\n",
       "        vertical-align: top;\n",
       "    }\n",
       "\n",
       "    .dataframe thead th {\n",
       "        text-align: right;\n",
       "    }\n",
       "</style>\n",
       "<table border=\"1\" class=\"dataframe\">\n",
       "  <thead>\n",
       "    <tr style=\"text-align: right;\">\n",
       "      <th></th>\n",
       "      <th>neighbourhood</th>\n",
       "      <th>average_house_value</th>\n",
       "    </tr>\n",
       "    <tr>\n",
       "      <th>year</th>\n",
       "      <th></th>\n",
       "      <th></th>\n",
       "    </tr>\n",
       "  </thead>\n",
       "  <tbody>\n",
       "    <tr>\n",
       "      <th>2001</th>\n",
       "      <td>Agincourt North</td>\n",
       "      <td>200388</td>\n",
       "    </tr>\n",
       "    <tr>\n",
       "      <th>2001</th>\n",
       "      <td>Agincourt South-Malvern West</td>\n",
       "      <td>203047</td>\n",
       "    </tr>\n",
       "    <tr>\n",
       "      <th>2001</th>\n",
       "      <td>Alderwood</td>\n",
       "      <td>259998</td>\n",
       "    </tr>\n",
       "    <tr>\n",
       "      <th>2001</th>\n",
       "      <td>Annex</td>\n",
       "      <td>453850</td>\n",
       "    </tr>\n",
       "    <tr>\n",
       "      <th>2001</th>\n",
       "      <td>Banbury-Don Mills</td>\n",
       "      <td>371864</td>\n",
       "    </tr>\n",
       "    <tr>\n",
       "      <th>...</th>\n",
       "      <td>...</td>\n",
       "      <td>...</td>\n",
       "    </tr>\n",
       "    <tr>\n",
       "      <th>2016</th>\n",
       "      <td>Wychwood</td>\n",
       "      <td>787760</td>\n",
       "    </tr>\n",
       "    <tr>\n",
       "      <th>2016</th>\n",
       "      <td>Yonge-Eglinton</td>\n",
       "      <td>1127052</td>\n",
       "    </tr>\n",
       "    <tr>\n",
       "      <th>2016</th>\n",
       "      <td>Yonge-St.Clair</td>\n",
       "      <td>1131888</td>\n",
       "    </tr>\n",
       "    <tr>\n",
       "      <th>2016</th>\n",
       "      <td>York University Heights</td>\n",
       "      <td>425769</td>\n",
       "    </tr>\n",
       "    <tr>\n",
       "      <th>2016</th>\n",
       "      <td>Yorkdale-Glen Park</td>\n",
       "      <td>599698</td>\n",
       "    </tr>\n",
       "  </tbody>\n",
       "</table>\n",
       "<p>560 rows × 2 columns</p>\n",
       "</div>"
      ],
      "text/plain": [
       "                     neighbourhood  average_house_value\n",
       "year                                                   \n",
       "2001               Agincourt North               200388\n",
       "2001  Agincourt South-Malvern West               203047\n",
       "2001                     Alderwood               259998\n",
       "2001                         Annex               453850\n",
       "2001             Banbury-Don Mills               371864\n",
       "...                            ...                  ...\n",
       "2016                      Wychwood               787760\n",
       "2016                Yonge-Eglinton              1127052\n",
       "2016                Yonge-St.Clair              1131888\n",
       "2016       York University Heights               425769\n",
       "2016            Yorkdale-Glen Park               599698\n",
       "\n",
       "[560 rows x 2 columns]"
      ]
     },
     "execution_count": 77,
     "metadata": {},
     "output_type": "execute_result"
    }
   ],
   "source": [
    "# Calculate the mean values for each neighborhood\n",
    "Av_b_n1.reset_index()\n",
    "Av_b_n1"
   ]
  },
  {
   "cell_type": "code",
   "execution_count": 78,
   "metadata": {},
   "outputs": [
    {
     "data": {
      "text/html": [
       "<div>\n",
       "<style scoped>\n",
       "    .dataframe tbody tr th:only-of-type {\n",
       "        vertical-align: middle;\n",
       "    }\n",
       "\n",
       "    .dataframe tbody tr th {\n",
       "        vertical-align: top;\n",
       "    }\n",
       "\n",
       "    .dataframe thead th {\n",
       "        text-align: right;\n",
       "    }\n",
       "</style>\n",
       "<table border=\"1\" class=\"dataframe\">\n",
       "  <thead>\n",
       "    <tr style=\"text-align: right;\">\n",
       "      <th></th>\n",
       "      <th>neighbourhood</th>\n",
       "      <th>average_house_value</th>\n",
       "      <th>lat</th>\n",
       "      <th>lon</th>\n",
       "    </tr>\n",
       "  </thead>\n",
       "  <tbody>\n",
       "    <tr>\n",
       "      <th>0</th>\n",
       "      <td>Agincourt North</td>\n",
       "      <td>200388</td>\n",
       "      <td>43.805441</td>\n",
       "      <td>-79.266712</td>\n",
       "    </tr>\n",
       "    <tr>\n",
       "      <th>1</th>\n",
       "      <td>Agincourt North</td>\n",
       "      <td>293140</td>\n",
       "      <td>43.805441</td>\n",
       "      <td>-79.266712</td>\n",
       "    </tr>\n",
       "    <tr>\n",
       "      <th>2</th>\n",
       "      <td>Agincourt North</td>\n",
       "      <td>366667</td>\n",
       "      <td>43.805441</td>\n",
       "      <td>-79.266712</td>\n",
       "    </tr>\n",
       "    <tr>\n",
       "      <th>3</th>\n",
       "      <td>Agincourt North</td>\n",
       "      <td>459051</td>\n",
       "      <td>43.805441</td>\n",
       "      <td>-79.266712</td>\n",
       "    </tr>\n",
       "    <tr>\n",
       "      <th>4</th>\n",
       "      <td>Agincourt South-Malvern West</td>\n",
       "      <td>203047</td>\n",
       "      <td>43.788658</td>\n",
       "      <td>-79.265612</td>\n",
       "    </tr>\n",
       "  </tbody>\n",
       "</table>\n",
       "</div>"
      ],
      "text/plain": [
       "                  neighbourhood  average_house_value        lat        lon\n",
       "0               Agincourt North               200388  43.805441 -79.266712\n",
       "1               Agincourt North               293140  43.805441 -79.266712\n",
       "2               Agincourt North               366667  43.805441 -79.266712\n",
       "3               Agincourt North               459051  43.805441 -79.266712\n",
       "4  Agincourt South-Malvern West               203047  43.788658 -79.265612"
      ]
     },
     "execution_count": 78,
     "metadata": {},
     "output_type": "execute_result"
    }
   ],
   "source": [
    "# Join the average values with the neighbourhood locations\n",
    "altogether = (\n",
    "    pd.merge(Av_b_n1, df_neighbourhood_locations,on='neighbourhood' )\n",
    ")\n",
    "altogether.head()"
   ]
  },
  {
   "cell_type": "code",
   "execution_count": 79,
   "metadata": {},
   "outputs": [],
   "source": [
    "map_box_api= \"pk.eyJ1Ijoia3JvbWFpbjgzIiwiYSI6ImNreHBmdjEzOTd0ZDgydXEzNTYwbWx2N2gifQ.s8JkOOHCjH5pt7n05YDjDQ\""
   ]
  },
  {
   "cell_type": "markdown",
   "metadata": {},
   "source": [
    "### Mapbox Visualization\n",
    "\n",
    "Plot the average values per neighbourhood using a Plotly express `scatter_mapbox` visualization."
   ]
  },
  {
   "cell_type": "code",
   "execution_count": 87,
   "metadata": {},
   "outputs": [
    {
     "data": {
      "application/vnd.plotly.v1+json": {
       "config": {
        "plotlyServerURL": "https://plot.ly"
       },
       "data": [
        {
         "hovertemplate": "lat=%{lat}<br>lon=%{lon}<extra></extra>",
         "lat": [
          43.80544058,
          43.80544058,
          43.80544058,
          43.80544058,
          43.78865755,
          43.78865755,
          43.78865755,
          43.78865755,
          43.6049369,
          43.6049369,
          43.6049369,
          43.6049369,
          43.67158544,
          43.67158544,
          43.67158544,
          43.67158544,
          43.737657,
          43.737657,
          43.737657,
          43.737657,
          43.76481331,
          43.76481331,
          43.76481331,
          43.76481331,
          43.65751135,
          43.65751135,
          43.65751135,
          43.65751135,
          43.77636052,
          43.77636052,
          43.77636052,
          43.77636052,
          43.79680187,
          43.79680187,
          43.79680187,
          43.79680187,
          43.73148623,
          43.73148623,
          43.73148623,
          43.73148623,
          43.69321649,
          43.69321649,
          43.69321649,
          43.69321649,
          43.76036631,
          43.76036631,
          43.76036631,
          43.76036631,
          43.69468198,
          43.69468198,
          43.69468198,
          43.69468198,
          43.76489025,
          43.76489025,
          43.76489025,
          43.76489025,
          43.67617288,
          43.67617288,
          43.67617288,
          43.67617288,
          43.69902438,
          43.69902438,
          43.69902438,
          43.69902438,
          43.73101314,
          43.73101314,
          43.73101314,
          43.73101314,
          43.68882512,
          43.68882512,
          43.68882512,
          43.68882512,
          43.70132631,
          43.70132631,
          43.70132631,
          43.70132631,
          43.66764773,
          43.66764773,
          43.66764773,
          43.66764773,
          43.68856865,
          43.68856865,
          43.68856865,
          43.68856865,
          43.6818521,
          43.6818521,
          43.6818521,
          43.6818521,
          43.7823765,
          43.7823765,
          43.7823765,
          43.7823765,
          43.65964886,
          43.65964886,
          43.65964886,
          43.65964886,
          43.71359238,
          43.71359238,
          43.71359238,
          43.71359238,
          43.74197843,
          43.74197843,
          43.74197843,
          43.74197843,
          43.72112117,
          43.72112117,
          43.72112117,
          43.72112117,
          43.67766091,
          43.67766091,
          43.67766091,
          43.67766091,
          43.68402547,
          43.68402547,
          43.68402547,
          43.68402547,
          43.68946809,
          43.68946809,
          43.68946809,
          43.68946809,
          43.78329369,
          43.78329369,
          43.78329369,
          43.78329369,
          43.75927437,
          43.75927437,
          43.75927437,
          43.75927437,
          43.66567693,
          43.66567693,
          43.66567693,
          43.66567693,
          43.73329235,
          43.73329235,
          43.73329235,
          43.73329235,
          43.65542833,
          43.65542833,
          43.65542833,
          43.65542833,
          43.68417388,
          43.68417388,
          43.68417388,
          43.68417388,
          43.67088591,
          43.67088591,
          43.67088591,
          43.67088591,
          43.7409223,
          43.7409223,
          43.7409223,
          43.7409223,
          43.72151887,
          43.72151887,
          43.72151887,
          43.72151887,
          43.72034467,
          43.72034467,
          43.72034467,
          43.72034467,
          43.65801676,
          43.65801676,
          43.65801676,
          43.65801676,
          43.64506262,
          43.64506262,
          43.64506262,
          43.64506262,
          43.71592975,
          43.71592975,
          43.71592975,
          43.71592975,
          43.70421756,
          43.70421756,
          43.70421756,
          43.70421756,
          43.69452576,
          43.69452576,
          43.69452576,
          43.69452576,
          43.74563575,
          43.74563575,
          43.74563575,
          43.74563575,
          43.67261231,
          43.67261231,
          43.67261231,
          43.67261231,
          43.74882934,
          43.74882934,
          43.74882934,
          43.74882934,
          43.77114414,
          43.77114414,
          43.77114414,
          43.77114414,
          43.65756491,
          43.65756491,
          43.65756491,
          43.65756491,
          43.64506458,
          43.64506458,
          43.64506458,
          43.64506458,
          43.79077477,
          43.79077477,
          43.79077477,
          43.79077477,
          43.80298783,
          43.80298783,
          43.80298783,
          43.80298783,
          43.6922328,
          43.6922328,
          43.6922328,
          43.6922328,
          43.75891975,
          43.75891975,
          43.75891975,
          43.75891975,
          43.74342952,
          43.74342952,
          43.74342952,
          43.74342952,
          43.69136981,
          43.69136981,
          43.69136981,
          43.69136981,
          43.73536441,
          43.73536441,
          43.73536441,
          43.73536441,
          43.63346335,
          43.63346335,
          43.63346335,
          43.63346335,
          43.66788977,
          43.66788977,
          43.66788977,
          43.66788977,
          43.68572747,
          43.68572747,
          43.68572747,
          43.68572747,
          43.72555572,
          43.72555572,
          43.72555572,
          43.72555572,
          43.65355413,
          43.65355413,
          43.65355413,
          43.65355413,
          43.69899257,
          43.69899257,
          43.69899257,
          43.69899257,
          43.65352043,
          43.65352043,
          43.65352043,
          43.65352043,
          43.79571603,
          43.79571603,
          43.79571603,
          43.79571603,
          43.65742013,
          43.65742013,
          43.65742013,
          43.65742013,
          43.75427115,
          43.75427115,
          43.75427115,
          43.75427115,
          43.73006017,
          43.73006017,
          43.73006017,
          43.73006017,
          43.7172117,
          43.7172117,
          43.7172117,
          43.7172117,
          43.70379663,
          43.70379663,
          43.70379663,
          43.70379663,
          43.64753593,
          43.64753593,
          43.64753593,
          43.64753593,
          43.59236169,
          43.59236169,
          43.59236169,
          43.59236169,
          43.8036582,
          43.8036582,
          43.8036582,
          43.8036582,
          43.71557394,
          43.71557394,
          43.71557394,
          43.71557394,
          43.63354175,
          43.63354175,
          43.63354175,
          43.63354175,
          43.82069079,
          43.82069079,
          43.82069079,
          43.82069079,
          43.61592386,
          43.61592386,
          43.61592386,
          43.61592386,
          43.78239861,
          43.78239861,
          43.78239861,
          43.78239861,
          43.65651762,
          43.65651762,
          43.65651762,
          43.65651762,
          43.68814409,
          43.68814409,
          43.68814409,
          43.68814409,
          43.7468678,
          43.7468678,
          43.7468678,
          43.7468678,
          43.70485217,
          43.70485217,
          43.70485217,
          43.70485217,
          43.70443517,
          43.70443517,
          43.70443517,
          43.70443517,
          43.6005886,
          43.6005886,
          43.6005886,
          43.6005886,
          43.79153579,
          43.79153579,
          43.79153579,
          43.79153579,
          43.78582994,
          43.78582994,
          43.78582994,
          43.78582994,
          43.63668088,
          43.63668088,
          43.63668088,
          43.63668088,
          43.67199515,
          43.67199515,
          43.67199515,
          43.67199515,
          43.66962341,
          43.66962341,
          43.66962341,
          43.66962341,
          43.70680049,
          43.70680049,
          43.70680049,
          43.70680049,
          43.69740813,
          43.69740813,
          43.69740813,
          43.69740813,
          43.68856556,
          43.68856556,
          43.68856556,
          43.68856556,
          43.69678127,
          43.69678127,
          43.69678127,
          43.69678127,
          43.6591571,
          43.6591571,
          43.6591571,
          43.6591571,
          43.75503347,
          43.75503347,
          43.75503347,
          43.75503347,
          43.7175146,
          43.7175146,
          43.7175146,
          43.7175146,
          43.67970047,
          43.67970047,
          43.67970047,
          43.67970047,
          43.78698176,
          43.78698176,
          43.78698176,
          43.78698176,
          43.6660506,
          43.6660506,
          43.6660506,
          43.6660506,
          43.65999214,
          43.65999214,
          43.65999214,
          43.65999214,
          43.72372548,
          43.72372548,
          43.72372548,
          43.72372548,
          43.67479045,
          43.67479045,
          43.67479045,
          43.67479045,
          43.64612299,
          43.64612299,
          43.64612299,
          43.64612299,
          43.68282043,
          43.68282043,
          43.68282043,
          43.68282043,
          43.82120126,
          43.82120126,
          43.82120126,
          43.82120126,
          43.65926882,
          43.65926882,
          43.65926882,
          43.65926882,
          43.71160912,
          43.71160912,
          43.71160912,
          43.71160912,
          43.73865186,
          43.73865186,
          43.73865186,
          43.73865186,
          43.63669952,
          43.63669952,
          43.63669952,
          43.63669952,
          43.64929206,
          43.64929206,
          43.64929206,
          43.64929206,
          43.75624583,
          43.75624583,
          43.75624583,
          43.75624583,
          43.81295883,
          43.81295883,
          43.81295883,
          43.81295883,
          43.63551813,
          43.63551813,
          43.63551813,
          43.63551813,
          43.78012985,
          43.78012985,
          43.78012985,
          43.78012985,
          43.69499819,
          43.69499819,
          43.69499819,
          43.69499819,
          43.67104999,
          43.67104999,
          43.67104999,
          43.67104999,
          43.73798792,
          43.73798792,
          43.73798792,
          43.73798792,
          43.70774921,
          43.70774921,
          43.70774921,
          43.70774921,
          43.6501763,
          43.6501763,
          43.6501763,
          43.6501763,
          43.6625062,
          43.6625062,
          43.6625062,
          43.6625062,
          43.72848902,
          43.72848902,
          43.72848902,
          43.72848902,
          43.63388036,
          43.63388036,
          43.63388036,
          43.63388036,
          43.76749026,
          43.76749026,
          43.76749026,
          43.76749026,
          43.7161804,
          43.7161804,
          43.7161804,
          43.7161804,
          43.77881322,
          43.77881322,
          43.77881322,
          43.77881322,
          43.70271605,
          43.70271605,
          43.70271605,
          43.70271605,
          43.67396204,
          43.67396204,
          43.67396204,
          43.67396204,
          43.74857214,
          43.74857214,
          43.74857214,
          43.74857214,
          43.77060226,
          43.77060226,
          43.77060226,
          43.77060226,
          43.77121049,
          43.77121049,
          43.77121049,
          43.77121049,
          43.68364496,
          43.68364496,
          43.68364496,
          43.68364496,
          43.76674024,
          43.76674024,
          43.76674024,
          43.76674024,
          43.67677292,
          43.67677292,
          43.67677292,
          43.67677292,
          43.69410674,
          43.69410674,
          43.69410674,
          43.69410674,
          43.67691927,
          43.67691927,
          43.67691927,
          43.67691927,
          43.70468937,
          43.70468937,
          43.70468937,
          43.70468937,
          43.68785887,
          43.68785887,
          43.68785887,
          43.68785887,
          43.76573649,
          43.76573649,
          43.76573649,
          43.76573649,
          43.71467153,
          43.71467153,
          43.71467153,
          43.71467153
         ],
         "legendgroup": "",
         "lon": [
          -79.26671217,
          -79.26671217,
          -79.26671217,
          -79.26671217,
          -79.2656118,
          -79.2656118,
          -79.2656118,
          -79.2656118,
          -79.54161093,
          -79.54161093,
          -79.54161093,
          -79.54161093,
          -79.40400062,
          -79.40400062,
          -79.40400062,
          -79.40400062,
          -79.34971798,
          -79.34971798,
          -79.34971798,
          -79.34971798,
          -79.45605516,
          -79.45605516,
          -79.45605516,
          -79.45605516,
          -79.38572125,
          -79.38572125,
          -79.38572125,
          -79.38572125,
          -79.37711686,
          -79.37711686,
          -79.37711686,
          -79.37711686,
          -79.38211795,
          -79.38211795,
          -79.38211795,
          -79.38211795,
          -79.42022735,
          -79.42022735,
          -79.42022735,
          -79.42022735,
          -79.47947251,
          -79.47947251,
          -79.47947251,
          -79.47947251,
          -79.25740037,
          -79.25740037,
          -79.25740037,
          -79.25740037,
          -79.26509259,
          -79.26509259,
          -79.26509259,
          -79.26509259,
          -79.52197932,
          -79.52197932,
          -79.52197932,
          -79.52197932,
          -79.33739417,
          -79.33739417,
          -79.33739417,
          -79.33739417,
          -79.4528513,
          -79.4528513,
          -79.4528513,
          -79.4528513,
          -79.37890418,
          -79.37890418,
          -79.37890418,
          -79.37890418,
          -79.35562951,
          -79.35562951,
          -79.35562951,
          -79.35562951,
          -79.48558926,
          -79.48558926,
          -79.48558926,
          -79.48558926,
          -79.36610666,
          -79.36610666,
          -79.36610666,
          -79.36610666,
          -79.45521208,
          -79.45521208,
          -79.45521208,
          -79.45521208,
          -79.40800665,
          -79.40800665,
          -79.40800665,
          -79.40800665,
          -79.15084327,
          -79.15084327,
          -79.15084327,
          -79.15084327,
          -79.37901717,
          -79.37901717,
          -79.37901717,
          -79.37901717,
          -79.28138178,
          -79.28138178,
          -79.28138178,
          -79.28138178,
          -79.44630258,
          -79.44630258,
          -79.44630258,
          -79.44630258,
          -79.23552957,
          -79.23552957,
          -79.23552957,
          -79.23552957,
          -79.44746933,
          -79.44746933,
          -79.44746933,
          -79.44746933,
          -79.32981941,
          -79.32981941,
          -79.32981941,
          -79.32981941,
          -79.33140338,
          -79.33140338,
          -79.33140338,
          -79.33140338,
          -79.35364413,
          -79.35364413,
          -79.35364413,
          -79.35364413,
          -79.27890794,
          -79.27890794,
          -79.27890794,
          -79.27890794,
          -79.4385407,
          -79.4385407,
          -79.4385407,
          -79.4385407,
          -79.49049735,
          -79.49049735,
          -79.49049735,
          -79.49049735,
          -79.43734104,
          -79.43734104,
          -79.43734104,
          -79.43734104,
          -79.29935867,
          -79.29935867,
          -79.29935867,
          -79.29935867,
          -79.52245776,
          -79.52245776,
          -79.52245776,
          -79.52245776,
          -79.24559804,
          -79.24559804,
          -79.24559804,
          -79.24559804,
          -79.54898272,
          -79.54898272,
          -79.54898272,
          -79.54898272,
          -79.43740855,
          -79.43740855,
          -79.43740855,
          -79.43740855,
          -79.58044524,
          -79.58044524,
          -79.58044524,
          -79.58044524,
          -79.56893877,
          -79.56893877,
          -79.56893877,
          -79.56893877,
          -79.33264597,
          -79.33264597,
          -79.33264597,
          -79.33264597,
          -79.42814316,
          -79.42814316,
          -79.42814316,
          -79.42814316,
          -79.41431786,
          -79.41431786,
          -79.41431786,
          -79.41431786,
          -79.51346532,
          -79.51346532,
          -79.51346532,
          -79.51346532,
          -79.32431802,
          -79.32431802,
          -79.32431802,
          -79.32431802,
          -79.19505535,
          -79.19505535,
          -79.19505535,
          -79.19505535,
          -79.34124067,
          -79.34124067,
          -79.34124067,
          -79.34124067,
          -79.46630217,
          -79.46630217,
          -79.46630217,
          -79.46630217,
          -79.46787222,
          -79.46787222,
          -79.46787222,
          -79.46787222,
          -79.17747247,
          -79.17747247,
          -79.17747247,
          -79.17747247,
          -79.354804,
          -79.354804,
          -79.354804,
          -79.354804,
          -79.5224162,
          -79.5224162,
          -79.5224162,
          -79.5224162,
          -79.55617474,
          -79.55617474,
          -79.55617474,
          -79.55617474,
          -79.54236712,
          -79.54236712,
          -79.54236712,
          -79.54236712,
          -79.42768335,
          -79.42768335,
          -79.42768335,
          -79.42768335,
          -79.27247049,
          -79.27247049,
          -79.27247049,
          -79.27247049,
          -79.54331654,
          -79.54331654,
          -79.54331654,
          -79.54331654,
          -79.47143987,
          -79.47143987,
          -79.47143987,
          -79.47143987,
          -79.47143711,
          -79.47143711,
          -79.47143711,
          -79.47143711,
          -79.26038221,
          -79.26038221,
          -79.26038221,
          -79.26038221,
          -79.39723988,
          -79.39723988,
          -79.39723988,
          -79.39723988,
          -79.54786331,
          -79.54786331,
          -79.54786331,
          -79.54786331,
          -79.5105768,
          -79.5105768,
          -79.5105768,
          -79.5105768,
          -79.31408424,
          -79.31408424,
          -79.31408424,
          -79.31408424,
          -79.49604526,
          -79.49604526,
          -79.49604526,
          -79.49604526,
          -79.42474772,
          -79.42474772,
          -79.42474772,
          -79.42474772,
          -79.40397836,
          -79.40397836,
          -79.40397836,
          -79.40397836,
          -79.40603941,
          -79.40603941,
          -79.40603941,
          -79.40603941,
          -79.36607234,
          -79.36607234,
          -79.36607234,
          -79.36607234,
          -79.43032271,
          -79.43032271,
          -79.43032271,
          -79.43032271,
          -79.53334545,
          -79.53334545,
          -79.53334545,
          -79.53334545,
          -79.22251662,
          -79.22251662,
          -79.22251662,
          -79.22251662,
          -79.48075802,
          -79.48075802,
          -79.48075802,
          -79.48075802,
          -79.57343155,
          -79.57343155,
          -79.57343155,
          -79.57343155,
          -79.27500892,
          -79.27500892,
          -79.27500892,
          -79.27500892,
          -79.50013664,
          -79.50013664,
          -79.50013664,
          -79.50013664,
          -79.20704119,
          -79.20704119,
          -79.20704119,
          -79.20704119,
          -79.36729703,
          -79.36729703,
          -79.36729703,
          -79.36729703,
          -79.49998906,
          -79.49998906,
          -79.49998906,
          -79.49998906,
          -79.58725926,
          -79.58725926,
          -79.58725926,
          -79.58725926,
          -79.38492395,
          -79.38492395,
          -79.38492395,
          -79.38492395,
          -79.39335955,
          -79.39335955,
          -79.39335955,
          -79.39335955,
          -79.51035809,
          -79.51035809,
          -79.51035809,
          -79.51035809,
          -79.40593745,
          -79.40593745,
          -79.40593745,
          -79.40593745,
          -79.43142151,
          -79.43142151,
          -79.43142151,
          -79.43142151,
          -79.4124204,
          -79.4124204,
          -79.4124204,
          -79.4124204,
          -79.35126041,
          -79.35126041,
          -79.35126041,
          -79.35126041,
          -79.37524658,
          -79.37524658,
          -79.37524658,
          -79.37524658,
          -79.31222777,
          -79.31222777,
          -79.31222777,
          -79.31222777,
          -79.27970834,
          -79.27970834,
          -79.27970834,
          -79.27970834,
          -79.43978548,
          -79.43978548,
          -79.43978548,
          -79.43978548,
          -79.33548836,
          -79.33548836,
          -79.33548836,
          -79.33548836,
          -79.41840873,
          -79.41840873,
          -79.41840873,
          -79.41840873,
          -79.33017952,
          -79.33017952,
          -79.33017952,
          -79.33017952,
          -79.5282822,
          -79.5282822,
          -79.5282822,
          -79.5282822,
          -79.35488729,
          -79.35488729,
          -79.35488729,
          -79.35488729,
          -79.33494843,
          -79.33494843,
          -79.33494843,
          -79.33494843,
          -79.54455929,
          -79.54455929,
          -79.54455929,
          -79.54455929,
          -79.36050881,
          -79.36050881,
          -79.36050881,
          -79.36050881,
          -79.56622841,
          -79.56622841,
          -79.56622841,
          -79.56622841,
          -79.49442045,
          -79.49442045,
          -79.49442045,
          -79.49442045,
          -79.44299245,
          -79.44299245,
          -79.44299245,
          -79.44299245,
          -79.3796694,
          -79.3796694,
          -79.3796694,
          -79.3796694,
          -79.18634345,
          -79.18634345,
          -79.18634345,
          -79.18634345,
          -79.48570818,
          -79.48570818,
          -79.48570818,
          -79.48570818,
          -79.49809147,
          -79.49809147,
          -79.49809147,
          -79.49809147,
          -79.21681262,
          -79.21681262,
          -79.21681262,
          -79.21681262,
          -79.43933783,
          -79.43933783,
          -79.43933783,
          -79.43933783,
          -79.33565132,
          -79.33565132,
          -79.33565132,
          -79.33565132,
          -79.37903709,
          -79.37903709,
          -79.37903709,
          -79.37903709,
          -79.32120701,
          -79.32120701,
          -79.32120701,
          -79.32120701,
          -79.50112821,
          -79.50112821,
          -79.50112821,
          -79.50112821,
          -79.30291871,
          -79.30291871,
          -79.30291871,
          -79.30291871,
          -79.29590112,
          -79.29590112,
          -79.29590112,
          -79.29590112,
          -79.2996013,
          -79.2996013,
          -79.2996013,
          -79.2996013,
          -79.56349102,
          -79.56349102,
          -79.56349102,
          -79.56349102,
          -79.34998361,
          -79.34998361,
          -79.34998361,
          -79.34998361,
          -79.41534216,
          -79.41534216,
          -79.41534216,
          -79.41534216,
          -79.40117975,
          -79.40117975,
          -79.40117975,
          -79.40117975,
          -79.31487383,
          -79.31487383,
          -79.31487383,
          -79.31487383,
          -79.37720231,
          -79.37720231,
          -79.37720231,
          -79.37720231,
          -79.17667603,
          -79.17667603,
          -79.17667603,
          -79.17667603,
          -79.59635645,
          -79.59635645,
          -79.59635645,
          -79.59635645,
          -79.45241823,
          -79.45241823,
          -79.45241823,
          -79.45241823,
          -79.51572255,
          -79.51572255,
          -79.51572255,
          -79.51572255,
          -79.46024391,
          -79.46024391,
          -79.46024391,
          -79.46024391,
          -79.29863657,
          -79.29863657,
          -79.29863657,
          -79.29863657,
          -79.40148379,
          -79.40148379,
          -79.40148379,
          -79.40148379,
          -79.4275578,
          -79.4275578,
          -79.4275578,
          -79.4275578,
          -79.55422105,
          -79.55422105,
          -79.55422105,
          -79.55422105,
          -79.22858577,
          -79.22858577,
          -79.22858577,
          -79.22858577,
          -79.31540738,
          -79.31540738,
          -79.31540738,
          -79.31540738,
          -79.31116353,
          -79.31116353,
          -79.31116353,
          -79.31116353,
          -79.42551495,
          -79.42551495,
          -79.42551495,
          -79.42551495,
          -79.40359017,
          -79.40359017,
          -79.40359017,
          -79.40359017,
          -79.39787077,
          -79.39787077,
          -79.39787077,
          -79.39787077,
          -79.48888293,
          -79.48888293,
          -79.48888293,
          -79.48888293,
          -79.45710807,
          -79.45710807,
          -79.45710807,
          -79.45710807
         ],
         "marker": {
          "color": "#636efa"
         },
         "mode": "markers",
         "name": "",
         "showlegend": false,
         "subplot": "mapbox",
         "type": "scattermapbox"
        }
       ],
       "layout": {
        "legend": {
         "tracegroupgap": 0
        },
        "mapbox": {
         "accesstoken": "mapbox",
         "center": {
          "lat": 43.70884057764286,
          "lon": -79.40018550349994
         },
         "domain": {
          "x": [
           0,
           1
          ],
          "y": [
           0,
           1
          ]
         },
         "zoom": 8
        },
        "margin": {
         "t": 60
        },
        "template": {
         "data": {
          "bar": [
           {
            "error_x": {
             "color": "#2a3f5f"
            },
            "error_y": {
             "color": "#2a3f5f"
            },
            "marker": {
             "line": {
              "color": "#E5ECF6",
              "width": 0.5
             },
             "pattern": {
              "fillmode": "overlay",
              "size": 10,
              "solidity": 0.2
             }
            },
            "type": "bar"
           }
          ],
          "barpolar": [
           {
            "marker": {
             "line": {
              "color": "#E5ECF6",
              "width": 0.5
             },
             "pattern": {
              "fillmode": "overlay",
              "size": 10,
              "solidity": 0.2
             }
            },
            "type": "barpolar"
           }
          ],
          "carpet": [
           {
            "aaxis": {
             "endlinecolor": "#2a3f5f",
             "gridcolor": "white",
             "linecolor": "white",
             "minorgridcolor": "white",
             "startlinecolor": "#2a3f5f"
            },
            "baxis": {
             "endlinecolor": "#2a3f5f",
             "gridcolor": "white",
             "linecolor": "white",
             "minorgridcolor": "white",
             "startlinecolor": "#2a3f5f"
            },
            "type": "carpet"
           }
          ],
          "choropleth": [
           {
            "colorbar": {
             "outlinewidth": 0,
             "ticks": ""
            },
            "type": "choropleth"
           }
          ],
          "contour": [
           {
            "colorbar": {
             "outlinewidth": 0,
             "ticks": ""
            },
            "colorscale": [
             [
              0,
              "#0d0887"
             ],
             [
              0.1111111111111111,
              "#46039f"
             ],
             [
              0.2222222222222222,
              "#7201a8"
             ],
             [
              0.3333333333333333,
              "#9c179e"
             ],
             [
              0.4444444444444444,
              "#bd3786"
             ],
             [
              0.5555555555555556,
              "#d8576b"
             ],
             [
              0.6666666666666666,
              "#ed7953"
             ],
             [
              0.7777777777777778,
              "#fb9f3a"
             ],
             [
              0.8888888888888888,
              "#fdca26"
             ],
             [
              1,
              "#f0f921"
             ]
            ],
            "type": "contour"
           }
          ],
          "contourcarpet": [
           {
            "colorbar": {
             "outlinewidth": 0,
             "ticks": ""
            },
            "type": "contourcarpet"
           }
          ],
          "heatmap": [
           {
            "colorbar": {
             "outlinewidth": 0,
             "ticks": ""
            },
            "colorscale": [
             [
              0,
              "#0d0887"
             ],
             [
              0.1111111111111111,
              "#46039f"
             ],
             [
              0.2222222222222222,
              "#7201a8"
             ],
             [
              0.3333333333333333,
              "#9c179e"
             ],
             [
              0.4444444444444444,
              "#bd3786"
             ],
             [
              0.5555555555555556,
              "#d8576b"
             ],
             [
              0.6666666666666666,
              "#ed7953"
             ],
             [
              0.7777777777777778,
              "#fb9f3a"
             ],
             [
              0.8888888888888888,
              "#fdca26"
             ],
             [
              1,
              "#f0f921"
             ]
            ],
            "type": "heatmap"
           }
          ],
          "heatmapgl": [
           {
            "colorbar": {
             "outlinewidth": 0,
             "ticks": ""
            },
            "colorscale": [
             [
              0,
              "#0d0887"
             ],
             [
              0.1111111111111111,
              "#46039f"
             ],
             [
              0.2222222222222222,
              "#7201a8"
             ],
             [
              0.3333333333333333,
              "#9c179e"
             ],
             [
              0.4444444444444444,
              "#bd3786"
             ],
             [
              0.5555555555555556,
              "#d8576b"
             ],
             [
              0.6666666666666666,
              "#ed7953"
             ],
             [
              0.7777777777777778,
              "#fb9f3a"
             ],
             [
              0.8888888888888888,
              "#fdca26"
             ],
             [
              1,
              "#f0f921"
             ]
            ],
            "type": "heatmapgl"
           }
          ],
          "histogram": [
           {
            "marker": {
             "pattern": {
              "fillmode": "overlay",
              "size": 10,
              "solidity": 0.2
             }
            },
            "type": "histogram"
           }
          ],
          "histogram2d": [
           {
            "colorbar": {
             "outlinewidth": 0,
             "ticks": ""
            },
            "colorscale": [
             [
              0,
              "#0d0887"
             ],
             [
              0.1111111111111111,
              "#46039f"
             ],
             [
              0.2222222222222222,
              "#7201a8"
             ],
             [
              0.3333333333333333,
              "#9c179e"
             ],
             [
              0.4444444444444444,
              "#bd3786"
             ],
             [
              0.5555555555555556,
              "#d8576b"
             ],
             [
              0.6666666666666666,
              "#ed7953"
             ],
             [
              0.7777777777777778,
              "#fb9f3a"
             ],
             [
              0.8888888888888888,
              "#fdca26"
             ],
             [
              1,
              "#f0f921"
             ]
            ],
            "type": "histogram2d"
           }
          ],
          "histogram2dcontour": [
           {
            "colorbar": {
             "outlinewidth": 0,
             "ticks": ""
            },
            "colorscale": [
             [
              0,
              "#0d0887"
             ],
             [
              0.1111111111111111,
              "#46039f"
             ],
             [
              0.2222222222222222,
              "#7201a8"
             ],
             [
              0.3333333333333333,
              "#9c179e"
             ],
             [
              0.4444444444444444,
              "#bd3786"
             ],
             [
              0.5555555555555556,
              "#d8576b"
             ],
             [
              0.6666666666666666,
              "#ed7953"
             ],
             [
              0.7777777777777778,
              "#fb9f3a"
             ],
             [
              0.8888888888888888,
              "#fdca26"
             ],
             [
              1,
              "#f0f921"
             ]
            ],
            "type": "histogram2dcontour"
           }
          ],
          "mesh3d": [
           {
            "colorbar": {
             "outlinewidth": 0,
             "ticks": ""
            },
            "type": "mesh3d"
           }
          ],
          "parcoords": [
           {
            "line": {
             "colorbar": {
              "outlinewidth": 0,
              "ticks": ""
             }
            },
            "type": "parcoords"
           }
          ],
          "pie": [
           {
            "automargin": true,
            "type": "pie"
           }
          ],
          "scatter": [
           {
            "marker": {
             "colorbar": {
              "outlinewidth": 0,
              "ticks": ""
             }
            },
            "type": "scatter"
           }
          ],
          "scatter3d": [
           {
            "line": {
             "colorbar": {
              "outlinewidth": 0,
              "ticks": ""
             }
            },
            "marker": {
             "colorbar": {
              "outlinewidth": 0,
              "ticks": ""
             }
            },
            "type": "scatter3d"
           }
          ],
          "scattercarpet": [
           {
            "marker": {
             "colorbar": {
              "outlinewidth": 0,
              "ticks": ""
             }
            },
            "type": "scattercarpet"
           }
          ],
          "scattergeo": [
           {
            "marker": {
             "colorbar": {
              "outlinewidth": 0,
              "ticks": ""
             }
            },
            "type": "scattergeo"
           }
          ],
          "scattergl": [
           {
            "marker": {
             "colorbar": {
              "outlinewidth": 0,
              "ticks": ""
             }
            },
            "type": "scattergl"
           }
          ],
          "scattermapbox": [
           {
            "marker": {
             "colorbar": {
              "outlinewidth": 0,
              "ticks": ""
             }
            },
            "type": "scattermapbox"
           }
          ],
          "scatterpolar": [
           {
            "marker": {
             "colorbar": {
              "outlinewidth": 0,
              "ticks": ""
             }
            },
            "type": "scatterpolar"
           }
          ],
          "scatterpolargl": [
           {
            "marker": {
             "colorbar": {
              "outlinewidth": 0,
              "ticks": ""
             }
            },
            "type": "scatterpolargl"
           }
          ],
          "scatterternary": [
           {
            "marker": {
             "colorbar": {
              "outlinewidth": 0,
              "ticks": ""
             }
            },
            "type": "scatterternary"
           }
          ],
          "surface": [
           {
            "colorbar": {
             "outlinewidth": 0,
             "ticks": ""
            },
            "colorscale": [
             [
              0,
              "#0d0887"
             ],
             [
              0.1111111111111111,
              "#46039f"
             ],
             [
              0.2222222222222222,
              "#7201a8"
             ],
             [
              0.3333333333333333,
              "#9c179e"
             ],
             [
              0.4444444444444444,
              "#bd3786"
             ],
             [
              0.5555555555555556,
              "#d8576b"
             ],
             [
              0.6666666666666666,
              "#ed7953"
             ],
             [
              0.7777777777777778,
              "#fb9f3a"
             ],
             [
              0.8888888888888888,
              "#fdca26"
             ],
             [
              1,
              "#f0f921"
             ]
            ],
            "type": "surface"
           }
          ],
          "table": [
           {
            "cells": {
             "fill": {
              "color": "#EBF0F8"
             },
             "line": {
              "color": "white"
             }
            },
            "header": {
             "fill": {
              "color": "#C8D4E3"
             },
             "line": {
              "color": "white"
             }
            },
            "type": "table"
           }
          ]
         },
         "layout": {
          "annotationdefaults": {
           "arrowcolor": "#2a3f5f",
           "arrowhead": 0,
           "arrowwidth": 1
          },
          "autotypenumbers": "strict",
          "coloraxis": {
           "colorbar": {
            "outlinewidth": 0,
            "ticks": ""
           }
          },
          "colorscale": {
           "diverging": [
            [
             0,
             "#8e0152"
            ],
            [
             0.1,
             "#c51b7d"
            ],
            [
             0.2,
             "#de77ae"
            ],
            [
             0.3,
             "#f1b6da"
            ],
            [
             0.4,
             "#fde0ef"
            ],
            [
             0.5,
             "#f7f7f7"
            ],
            [
             0.6,
             "#e6f5d0"
            ],
            [
             0.7,
             "#b8e186"
            ],
            [
             0.8,
             "#7fbc41"
            ],
            [
             0.9,
             "#4d9221"
            ],
            [
             1,
             "#276419"
            ]
           ],
           "sequential": [
            [
             0,
             "#0d0887"
            ],
            [
             0.1111111111111111,
             "#46039f"
            ],
            [
             0.2222222222222222,
             "#7201a8"
            ],
            [
             0.3333333333333333,
             "#9c179e"
            ],
            [
             0.4444444444444444,
             "#bd3786"
            ],
            [
             0.5555555555555556,
             "#d8576b"
            ],
            [
             0.6666666666666666,
             "#ed7953"
            ],
            [
             0.7777777777777778,
             "#fb9f3a"
            ],
            [
             0.8888888888888888,
             "#fdca26"
            ],
            [
             1,
             "#f0f921"
            ]
           ],
           "sequentialminus": [
            [
             0,
             "#0d0887"
            ],
            [
             0.1111111111111111,
             "#46039f"
            ],
            [
             0.2222222222222222,
             "#7201a8"
            ],
            [
             0.3333333333333333,
             "#9c179e"
            ],
            [
             0.4444444444444444,
             "#bd3786"
            ],
            [
             0.5555555555555556,
             "#d8576b"
            ],
            [
             0.6666666666666666,
             "#ed7953"
            ],
            [
             0.7777777777777778,
             "#fb9f3a"
            ],
            [
             0.8888888888888888,
             "#fdca26"
            ],
            [
             1,
             "#f0f921"
            ]
           ]
          },
          "colorway": [
           "#636efa",
           "#EF553B",
           "#00cc96",
           "#ab63fa",
           "#FFA15A",
           "#19d3f3",
           "#FF6692",
           "#B6E880",
           "#FF97FF",
           "#FECB52"
          ],
          "font": {
           "color": "#2a3f5f"
          },
          "geo": {
           "bgcolor": "white",
           "lakecolor": "white",
           "landcolor": "#E5ECF6",
           "showlakes": true,
           "showland": true,
           "subunitcolor": "white"
          },
          "hoverlabel": {
           "align": "left"
          },
          "hovermode": "closest",
          "mapbox": {
           "style": "light"
          },
          "paper_bgcolor": "white",
          "plot_bgcolor": "#E5ECF6",
          "polar": {
           "angularaxis": {
            "gridcolor": "white",
            "linecolor": "white",
            "ticks": ""
           },
           "bgcolor": "#E5ECF6",
           "radialaxis": {
            "gridcolor": "white",
            "linecolor": "white",
            "ticks": ""
           }
          },
          "scene": {
           "xaxis": {
            "backgroundcolor": "#E5ECF6",
            "gridcolor": "white",
            "gridwidth": 2,
            "linecolor": "white",
            "showbackground": true,
            "ticks": "",
            "zerolinecolor": "white"
           },
           "yaxis": {
            "backgroundcolor": "#E5ECF6",
            "gridcolor": "white",
            "gridwidth": 2,
            "linecolor": "white",
            "showbackground": true,
            "ticks": "",
            "zerolinecolor": "white"
           },
           "zaxis": {
            "backgroundcolor": "#E5ECF6",
            "gridcolor": "white",
            "gridwidth": 2,
            "linecolor": "white",
            "showbackground": true,
            "ticks": "",
            "zerolinecolor": "white"
           }
          },
          "shapedefaults": {
           "line": {
            "color": "#2a3f5f"
           }
          },
          "ternary": {
           "aaxis": {
            "gridcolor": "white",
            "linecolor": "white",
            "ticks": ""
           },
           "baxis": {
            "gridcolor": "white",
            "linecolor": "white",
            "ticks": ""
           },
           "bgcolor": "#E5ECF6",
           "caxis": {
            "gridcolor": "white",
            "linecolor": "white",
            "ticks": ""
           }
          },
          "title": {
           "x": 0.05
          },
          "xaxis": {
           "automargin": true,
           "gridcolor": "white",
           "linecolor": "white",
           "ticks": "",
           "title": {
            "standoff": 15
           },
           "zerolinecolor": "white",
           "zerolinewidth": 2
          },
          "yaxis": {
           "automargin": true,
           "gridcolor": "white",
           "linecolor": "white",
           "ticks": "",
           "title": {
            "standoff": 15
           },
           "zerolinecolor": "white",
           "zerolinewidth": 2
          }
         }
        }
       }
      },
      "text/html": [
       "<div>                            <div id=\"b4e6cb90-edb7-4035-b044-3d34210f1e88\" class=\"plotly-graph-div\" style=\"height:525px; width:100%;\"></div>            <script type=\"text/javascript\">                require([\"plotly\"], function(Plotly) {                    window.PLOTLYENV=window.PLOTLYENV || {};                                    if (document.getElementById(\"b4e6cb90-edb7-4035-b044-3d34210f1e88\")) {                    Plotly.newPlot(                        \"b4e6cb90-edb7-4035-b044-3d34210f1e88\",                        [{\"hovertemplate\":\"lat=%{lat}<br>lon=%{lon}<extra></extra>\",\"lat\":[43.80544058,43.80544058,43.80544058,43.80544058,43.78865755,43.78865755,43.78865755,43.78865755,43.6049369,43.6049369,43.6049369,43.6049369,43.67158544,43.67158544,43.67158544,43.67158544,43.737657,43.737657,43.737657,43.737657,43.76481331,43.76481331,43.76481331,43.76481331,43.65751135,43.65751135,43.65751135,43.65751135,43.77636052,43.77636052,43.77636052,43.77636052,43.79680187,43.79680187,43.79680187,43.79680187,43.73148623,43.73148623,43.73148623,43.73148623,43.69321649,43.69321649,43.69321649,43.69321649,43.76036631,43.76036631,43.76036631,43.76036631,43.69468198,43.69468198,43.69468198,43.69468198,43.76489025,43.76489025,43.76489025,43.76489025,43.67617288,43.67617288,43.67617288,43.67617288,43.69902438,43.69902438,43.69902438,43.69902438,43.73101314,43.73101314,43.73101314,43.73101314,43.68882512,43.68882512,43.68882512,43.68882512,43.70132631,43.70132631,43.70132631,43.70132631,43.66764773,43.66764773,43.66764773,43.66764773,43.68856865,43.68856865,43.68856865,43.68856865,43.6818521,43.6818521,43.6818521,43.6818521,43.7823765,43.7823765,43.7823765,43.7823765,43.65964886,43.65964886,43.65964886,43.65964886,43.71359238,43.71359238,43.71359238,43.71359238,43.74197843,43.74197843,43.74197843,43.74197843,43.72112117,43.72112117,43.72112117,43.72112117,43.67766091,43.67766091,43.67766091,43.67766091,43.68402547,43.68402547,43.68402547,43.68402547,43.68946809,43.68946809,43.68946809,43.68946809,43.78329369,43.78329369,43.78329369,43.78329369,43.75927437,43.75927437,43.75927437,43.75927437,43.66567693,43.66567693,43.66567693,43.66567693,43.73329235,43.73329235,43.73329235,43.73329235,43.65542833,43.65542833,43.65542833,43.65542833,43.68417388,43.68417388,43.68417388,43.68417388,43.67088591,43.67088591,43.67088591,43.67088591,43.7409223,43.7409223,43.7409223,43.7409223,43.72151887,43.72151887,43.72151887,43.72151887,43.72034467,43.72034467,43.72034467,43.72034467,43.65801676,43.65801676,43.65801676,43.65801676,43.64506262,43.64506262,43.64506262,43.64506262,43.71592975,43.71592975,43.71592975,43.71592975,43.70421756,43.70421756,43.70421756,43.70421756,43.69452576,43.69452576,43.69452576,43.69452576,43.74563575,43.74563575,43.74563575,43.74563575,43.67261231,43.67261231,43.67261231,43.67261231,43.74882934,43.74882934,43.74882934,43.74882934,43.77114414,43.77114414,43.77114414,43.77114414,43.65756491,43.65756491,43.65756491,43.65756491,43.64506458,43.64506458,43.64506458,43.64506458,43.79077477,43.79077477,43.79077477,43.79077477,43.80298783,43.80298783,43.80298783,43.80298783,43.6922328,43.6922328,43.6922328,43.6922328,43.75891975,43.75891975,43.75891975,43.75891975,43.74342952,43.74342952,43.74342952,43.74342952,43.69136981,43.69136981,43.69136981,43.69136981,43.73536441,43.73536441,43.73536441,43.73536441,43.63346335,43.63346335,43.63346335,43.63346335,43.66788977,43.66788977,43.66788977,43.66788977,43.68572747,43.68572747,43.68572747,43.68572747,43.72555572,43.72555572,43.72555572,43.72555572,43.65355413,43.65355413,43.65355413,43.65355413,43.69899257,43.69899257,43.69899257,43.69899257,43.65352043,43.65352043,43.65352043,43.65352043,43.79571603,43.79571603,43.79571603,43.79571603,43.65742013,43.65742013,43.65742013,43.65742013,43.75427115,43.75427115,43.75427115,43.75427115,43.73006017,43.73006017,43.73006017,43.73006017,43.7172117,43.7172117,43.7172117,43.7172117,43.70379663,43.70379663,43.70379663,43.70379663,43.64753593,43.64753593,43.64753593,43.64753593,43.59236169,43.59236169,43.59236169,43.59236169,43.8036582,43.8036582,43.8036582,43.8036582,43.71557394,43.71557394,43.71557394,43.71557394,43.63354175,43.63354175,43.63354175,43.63354175,43.82069079,43.82069079,43.82069079,43.82069079,43.61592386,43.61592386,43.61592386,43.61592386,43.78239861,43.78239861,43.78239861,43.78239861,43.65651762,43.65651762,43.65651762,43.65651762,43.68814409,43.68814409,43.68814409,43.68814409,43.7468678,43.7468678,43.7468678,43.7468678,43.70485217,43.70485217,43.70485217,43.70485217,43.70443517,43.70443517,43.70443517,43.70443517,43.6005886,43.6005886,43.6005886,43.6005886,43.79153579,43.79153579,43.79153579,43.79153579,43.78582994,43.78582994,43.78582994,43.78582994,43.63668088,43.63668088,43.63668088,43.63668088,43.67199515,43.67199515,43.67199515,43.67199515,43.66962341,43.66962341,43.66962341,43.66962341,43.70680049,43.70680049,43.70680049,43.70680049,43.69740813,43.69740813,43.69740813,43.69740813,43.68856556,43.68856556,43.68856556,43.68856556,43.69678127,43.69678127,43.69678127,43.69678127,43.6591571,43.6591571,43.6591571,43.6591571,43.75503347,43.75503347,43.75503347,43.75503347,43.7175146,43.7175146,43.7175146,43.7175146,43.67970047,43.67970047,43.67970047,43.67970047,43.78698176,43.78698176,43.78698176,43.78698176,43.6660506,43.6660506,43.6660506,43.6660506,43.65999214,43.65999214,43.65999214,43.65999214,43.72372548,43.72372548,43.72372548,43.72372548,43.67479045,43.67479045,43.67479045,43.67479045,43.64612299,43.64612299,43.64612299,43.64612299,43.68282043,43.68282043,43.68282043,43.68282043,43.82120126,43.82120126,43.82120126,43.82120126,43.65926882,43.65926882,43.65926882,43.65926882,43.71160912,43.71160912,43.71160912,43.71160912,43.73865186,43.73865186,43.73865186,43.73865186,43.63669952,43.63669952,43.63669952,43.63669952,43.64929206,43.64929206,43.64929206,43.64929206,43.75624583,43.75624583,43.75624583,43.75624583,43.81295883,43.81295883,43.81295883,43.81295883,43.63551813,43.63551813,43.63551813,43.63551813,43.78012985,43.78012985,43.78012985,43.78012985,43.69499819,43.69499819,43.69499819,43.69499819,43.67104999,43.67104999,43.67104999,43.67104999,43.73798792,43.73798792,43.73798792,43.73798792,43.70774921,43.70774921,43.70774921,43.70774921,43.6501763,43.6501763,43.6501763,43.6501763,43.6625062,43.6625062,43.6625062,43.6625062,43.72848902,43.72848902,43.72848902,43.72848902,43.63388036,43.63388036,43.63388036,43.63388036,43.76749026,43.76749026,43.76749026,43.76749026,43.7161804,43.7161804,43.7161804,43.7161804,43.77881322,43.77881322,43.77881322,43.77881322,43.70271605,43.70271605,43.70271605,43.70271605,43.67396204,43.67396204,43.67396204,43.67396204,43.74857214,43.74857214,43.74857214,43.74857214,43.77060226,43.77060226,43.77060226,43.77060226,43.77121049,43.77121049,43.77121049,43.77121049,43.68364496,43.68364496,43.68364496,43.68364496,43.76674024,43.76674024,43.76674024,43.76674024,43.67677292,43.67677292,43.67677292,43.67677292,43.69410674,43.69410674,43.69410674,43.69410674,43.67691927,43.67691927,43.67691927,43.67691927,43.70468937,43.70468937,43.70468937,43.70468937,43.68785887,43.68785887,43.68785887,43.68785887,43.76573649,43.76573649,43.76573649,43.76573649,43.71467153,43.71467153,43.71467153,43.71467153],\"legendgroup\":\"\",\"lon\":[-79.26671217,-79.26671217,-79.26671217,-79.26671217,-79.2656118,-79.2656118,-79.2656118,-79.2656118,-79.54161093,-79.54161093,-79.54161093,-79.54161093,-79.40400062,-79.40400062,-79.40400062,-79.40400062,-79.34971798,-79.34971798,-79.34971798,-79.34971798,-79.45605516,-79.45605516,-79.45605516,-79.45605516,-79.38572125,-79.38572125,-79.38572125,-79.38572125,-79.37711686,-79.37711686,-79.37711686,-79.37711686,-79.38211795,-79.38211795,-79.38211795,-79.38211795,-79.42022735,-79.42022735,-79.42022735,-79.42022735,-79.47947251,-79.47947251,-79.47947251,-79.47947251,-79.25740037,-79.25740037,-79.25740037,-79.25740037,-79.26509259,-79.26509259,-79.26509259,-79.26509259,-79.52197932,-79.52197932,-79.52197932,-79.52197932,-79.33739417,-79.33739417,-79.33739417,-79.33739417,-79.4528513,-79.4528513,-79.4528513,-79.4528513,-79.37890418,-79.37890418,-79.37890418,-79.37890418,-79.35562951,-79.35562951,-79.35562951,-79.35562951,-79.48558926,-79.48558926,-79.48558926,-79.48558926,-79.36610666,-79.36610666,-79.36610666,-79.36610666,-79.45521208,-79.45521208,-79.45521208,-79.45521208,-79.40800665,-79.40800665,-79.40800665,-79.40800665,-79.15084327,-79.15084327,-79.15084327,-79.15084327,-79.37901717,-79.37901717,-79.37901717,-79.37901717,-79.28138178,-79.28138178,-79.28138178,-79.28138178,-79.44630258,-79.44630258,-79.44630258,-79.44630258,-79.23552957,-79.23552957,-79.23552957,-79.23552957,-79.44746933,-79.44746933,-79.44746933,-79.44746933,-79.32981941,-79.32981941,-79.32981941,-79.32981941,-79.33140338,-79.33140338,-79.33140338,-79.33140338,-79.35364413,-79.35364413,-79.35364413,-79.35364413,-79.27890794,-79.27890794,-79.27890794,-79.27890794,-79.4385407,-79.4385407,-79.4385407,-79.4385407,-79.49049735,-79.49049735,-79.49049735,-79.49049735,-79.43734104,-79.43734104,-79.43734104,-79.43734104,-79.29935867,-79.29935867,-79.29935867,-79.29935867,-79.52245776,-79.52245776,-79.52245776,-79.52245776,-79.24559804,-79.24559804,-79.24559804,-79.24559804,-79.54898272,-79.54898272,-79.54898272,-79.54898272,-79.43740855,-79.43740855,-79.43740855,-79.43740855,-79.58044524,-79.58044524,-79.58044524,-79.58044524,-79.56893877,-79.56893877,-79.56893877,-79.56893877,-79.33264597,-79.33264597,-79.33264597,-79.33264597,-79.42814316,-79.42814316,-79.42814316,-79.42814316,-79.41431786,-79.41431786,-79.41431786,-79.41431786,-79.51346532,-79.51346532,-79.51346532,-79.51346532,-79.32431802,-79.32431802,-79.32431802,-79.32431802,-79.19505535,-79.19505535,-79.19505535,-79.19505535,-79.34124067,-79.34124067,-79.34124067,-79.34124067,-79.46630217,-79.46630217,-79.46630217,-79.46630217,-79.46787222,-79.46787222,-79.46787222,-79.46787222,-79.17747247,-79.17747247,-79.17747247,-79.17747247,-79.354804,-79.354804,-79.354804,-79.354804,-79.5224162,-79.5224162,-79.5224162,-79.5224162,-79.55617474,-79.55617474,-79.55617474,-79.55617474,-79.54236712,-79.54236712,-79.54236712,-79.54236712,-79.42768335,-79.42768335,-79.42768335,-79.42768335,-79.27247049,-79.27247049,-79.27247049,-79.27247049,-79.54331654,-79.54331654,-79.54331654,-79.54331654,-79.47143987,-79.47143987,-79.47143987,-79.47143987,-79.47143711,-79.47143711,-79.47143711,-79.47143711,-79.26038221,-79.26038221,-79.26038221,-79.26038221,-79.39723988,-79.39723988,-79.39723988,-79.39723988,-79.54786331,-79.54786331,-79.54786331,-79.54786331,-79.5105768,-79.5105768,-79.5105768,-79.5105768,-79.31408424,-79.31408424,-79.31408424,-79.31408424,-79.49604526,-79.49604526,-79.49604526,-79.49604526,-79.42474772,-79.42474772,-79.42474772,-79.42474772,-79.40397836,-79.40397836,-79.40397836,-79.40397836,-79.40603941,-79.40603941,-79.40603941,-79.40603941,-79.36607234,-79.36607234,-79.36607234,-79.36607234,-79.43032271,-79.43032271,-79.43032271,-79.43032271,-79.53334545,-79.53334545,-79.53334545,-79.53334545,-79.22251662,-79.22251662,-79.22251662,-79.22251662,-79.48075802,-79.48075802,-79.48075802,-79.48075802,-79.57343155,-79.57343155,-79.57343155,-79.57343155,-79.27500892,-79.27500892,-79.27500892,-79.27500892,-79.50013664,-79.50013664,-79.50013664,-79.50013664,-79.20704119,-79.20704119,-79.20704119,-79.20704119,-79.36729703,-79.36729703,-79.36729703,-79.36729703,-79.49998906,-79.49998906,-79.49998906,-79.49998906,-79.58725926,-79.58725926,-79.58725926,-79.58725926,-79.38492395,-79.38492395,-79.38492395,-79.38492395,-79.39335955,-79.39335955,-79.39335955,-79.39335955,-79.51035809,-79.51035809,-79.51035809,-79.51035809,-79.40593745,-79.40593745,-79.40593745,-79.40593745,-79.43142151,-79.43142151,-79.43142151,-79.43142151,-79.4124204,-79.4124204,-79.4124204,-79.4124204,-79.35126041,-79.35126041,-79.35126041,-79.35126041,-79.37524658,-79.37524658,-79.37524658,-79.37524658,-79.31222777,-79.31222777,-79.31222777,-79.31222777,-79.27970834,-79.27970834,-79.27970834,-79.27970834,-79.43978548,-79.43978548,-79.43978548,-79.43978548,-79.33548836,-79.33548836,-79.33548836,-79.33548836,-79.41840873,-79.41840873,-79.41840873,-79.41840873,-79.33017952,-79.33017952,-79.33017952,-79.33017952,-79.5282822,-79.5282822,-79.5282822,-79.5282822,-79.35488729,-79.35488729,-79.35488729,-79.35488729,-79.33494843,-79.33494843,-79.33494843,-79.33494843,-79.54455929,-79.54455929,-79.54455929,-79.54455929,-79.36050881,-79.36050881,-79.36050881,-79.36050881,-79.56622841,-79.56622841,-79.56622841,-79.56622841,-79.49442045,-79.49442045,-79.49442045,-79.49442045,-79.44299245,-79.44299245,-79.44299245,-79.44299245,-79.3796694,-79.3796694,-79.3796694,-79.3796694,-79.18634345,-79.18634345,-79.18634345,-79.18634345,-79.48570818,-79.48570818,-79.48570818,-79.48570818,-79.49809147,-79.49809147,-79.49809147,-79.49809147,-79.21681262,-79.21681262,-79.21681262,-79.21681262,-79.43933783,-79.43933783,-79.43933783,-79.43933783,-79.33565132,-79.33565132,-79.33565132,-79.33565132,-79.37903709,-79.37903709,-79.37903709,-79.37903709,-79.32120701,-79.32120701,-79.32120701,-79.32120701,-79.50112821,-79.50112821,-79.50112821,-79.50112821,-79.30291871,-79.30291871,-79.30291871,-79.30291871,-79.29590112,-79.29590112,-79.29590112,-79.29590112,-79.2996013,-79.2996013,-79.2996013,-79.2996013,-79.56349102,-79.56349102,-79.56349102,-79.56349102,-79.34998361,-79.34998361,-79.34998361,-79.34998361,-79.41534216,-79.41534216,-79.41534216,-79.41534216,-79.40117975,-79.40117975,-79.40117975,-79.40117975,-79.31487383,-79.31487383,-79.31487383,-79.31487383,-79.37720231,-79.37720231,-79.37720231,-79.37720231,-79.17667603,-79.17667603,-79.17667603,-79.17667603,-79.59635645,-79.59635645,-79.59635645,-79.59635645,-79.45241823,-79.45241823,-79.45241823,-79.45241823,-79.51572255,-79.51572255,-79.51572255,-79.51572255,-79.46024391,-79.46024391,-79.46024391,-79.46024391,-79.29863657,-79.29863657,-79.29863657,-79.29863657,-79.40148379,-79.40148379,-79.40148379,-79.40148379,-79.4275578,-79.4275578,-79.4275578,-79.4275578,-79.55422105,-79.55422105,-79.55422105,-79.55422105,-79.22858577,-79.22858577,-79.22858577,-79.22858577,-79.31540738,-79.31540738,-79.31540738,-79.31540738,-79.31116353,-79.31116353,-79.31116353,-79.31116353,-79.42551495,-79.42551495,-79.42551495,-79.42551495,-79.40359017,-79.40359017,-79.40359017,-79.40359017,-79.39787077,-79.39787077,-79.39787077,-79.39787077,-79.48888293,-79.48888293,-79.48888293,-79.48888293,-79.45710807,-79.45710807,-79.45710807,-79.45710807],\"marker\":{\"color\":\"#636efa\"},\"mode\":\"markers\",\"name\":\"\",\"showlegend\":false,\"subplot\":\"mapbox\",\"type\":\"scattermapbox\"}],                        {\"template\":{\"data\":{\"bar\":[{\"error_x\":{\"color\":\"#2a3f5f\"},\"error_y\":{\"color\":\"#2a3f5f\"},\"marker\":{\"line\":{\"color\":\"#E5ECF6\",\"width\":0.5},\"pattern\":{\"fillmode\":\"overlay\",\"size\":10,\"solidity\":0.2}},\"type\":\"bar\"}],\"barpolar\":[{\"marker\":{\"line\":{\"color\":\"#E5ECF6\",\"width\":0.5},\"pattern\":{\"fillmode\":\"overlay\",\"size\":10,\"solidity\":0.2}},\"type\":\"barpolar\"}],\"carpet\":[{\"aaxis\":{\"endlinecolor\":\"#2a3f5f\",\"gridcolor\":\"white\",\"linecolor\":\"white\",\"minorgridcolor\":\"white\",\"startlinecolor\":\"#2a3f5f\"},\"baxis\":{\"endlinecolor\":\"#2a3f5f\",\"gridcolor\":\"white\",\"linecolor\":\"white\",\"minorgridcolor\":\"white\",\"startlinecolor\":\"#2a3f5f\"},\"type\":\"carpet\"}],\"choropleth\":[{\"colorbar\":{\"outlinewidth\":0,\"ticks\":\"\"},\"type\":\"choropleth\"}],\"contour\":[{\"colorbar\":{\"outlinewidth\":0,\"ticks\":\"\"},\"colorscale\":[[0.0,\"#0d0887\"],[0.1111111111111111,\"#46039f\"],[0.2222222222222222,\"#7201a8\"],[0.3333333333333333,\"#9c179e\"],[0.4444444444444444,\"#bd3786\"],[0.5555555555555556,\"#d8576b\"],[0.6666666666666666,\"#ed7953\"],[0.7777777777777778,\"#fb9f3a\"],[0.8888888888888888,\"#fdca26\"],[1.0,\"#f0f921\"]],\"type\":\"contour\"}],\"contourcarpet\":[{\"colorbar\":{\"outlinewidth\":0,\"ticks\":\"\"},\"type\":\"contourcarpet\"}],\"heatmap\":[{\"colorbar\":{\"outlinewidth\":0,\"ticks\":\"\"},\"colorscale\":[[0.0,\"#0d0887\"],[0.1111111111111111,\"#46039f\"],[0.2222222222222222,\"#7201a8\"],[0.3333333333333333,\"#9c179e\"],[0.4444444444444444,\"#bd3786\"],[0.5555555555555556,\"#d8576b\"],[0.6666666666666666,\"#ed7953\"],[0.7777777777777778,\"#fb9f3a\"],[0.8888888888888888,\"#fdca26\"],[1.0,\"#f0f921\"]],\"type\":\"heatmap\"}],\"heatmapgl\":[{\"colorbar\":{\"outlinewidth\":0,\"ticks\":\"\"},\"colorscale\":[[0.0,\"#0d0887\"],[0.1111111111111111,\"#46039f\"],[0.2222222222222222,\"#7201a8\"],[0.3333333333333333,\"#9c179e\"],[0.4444444444444444,\"#bd3786\"],[0.5555555555555556,\"#d8576b\"],[0.6666666666666666,\"#ed7953\"],[0.7777777777777778,\"#fb9f3a\"],[0.8888888888888888,\"#fdca26\"],[1.0,\"#f0f921\"]],\"type\":\"heatmapgl\"}],\"histogram\":[{\"marker\":{\"pattern\":{\"fillmode\":\"overlay\",\"size\":10,\"solidity\":0.2}},\"type\":\"histogram\"}],\"histogram2d\":[{\"colorbar\":{\"outlinewidth\":0,\"ticks\":\"\"},\"colorscale\":[[0.0,\"#0d0887\"],[0.1111111111111111,\"#46039f\"],[0.2222222222222222,\"#7201a8\"],[0.3333333333333333,\"#9c179e\"],[0.4444444444444444,\"#bd3786\"],[0.5555555555555556,\"#d8576b\"],[0.6666666666666666,\"#ed7953\"],[0.7777777777777778,\"#fb9f3a\"],[0.8888888888888888,\"#fdca26\"],[1.0,\"#f0f921\"]],\"type\":\"histogram2d\"}],\"histogram2dcontour\":[{\"colorbar\":{\"outlinewidth\":0,\"ticks\":\"\"},\"colorscale\":[[0.0,\"#0d0887\"],[0.1111111111111111,\"#46039f\"],[0.2222222222222222,\"#7201a8\"],[0.3333333333333333,\"#9c179e\"],[0.4444444444444444,\"#bd3786\"],[0.5555555555555556,\"#d8576b\"],[0.6666666666666666,\"#ed7953\"],[0.7777777777777778,\"#fb9f3a\"],[0.8888888888888888,\"#fdca26\"],[1.0,\"#f0f921\"]],\"type\":\"histogram2dcontour\"}],\"mesh3d\":[{\"colorbar\":{\"outlinewidth\":0,\"ticks\":\"\"},\"type\":\"mesh3d\"}],\"parcoords\":[{\"line\":{\"colorbar\":{\"outlinewidth\":0,\"ticks\":\"\"}},\"type\":\"parcoords\"}],\"pie\":[{\"automargin\":true,\"type\":\"pie\"}],\"scatter\":[{\"marker\":{\"colorbar\":{\"outlinewidth\":0,\"ticks\":\"\"}},\"type\":\"scatter\"}],\"scatter3d\":[{\"line\":{\"colorbar\":{\"outlinewidth\":0,\"ticks\":\"\"}},\"marker\":{\"colorbar\":{\"outlinewidth\":0,\"ticks\":\"\"}},\"type\":\"scatter3d\"}],\"scattercarpet\":[{\"marker\":{\"colorbar\":{\"outlinewidth\":0,\"ticks\":\"\"}},\"type\":\"scattercarpet\"}],\"scattergeo\":[{\"marker\":{\"colorbar\":{\"outlinewidth\":0,\"ticks\":\"\"}},\"type\":\"scattergeo\"}],\"scattergl\":[{\"marker\":{\"colorbar\":{\"outlinewidth\":0,\"ticks\":\"\"}},\"type\":\"scattergl\"}],\"scattermapbox\":[{\"marker\":{\"colorbar\":{\"outlinewidth\":0,\"ticks\":\"\"}},\"type\":\"scattermapbox\"}],\"scatterpolar\":[{\"marker\":{\"colorbar\":{\"outlinewidth\":0,\"ticks\":\"\"}},\"type\":\"scatterpolar\"}],\"scatterpolargl\":[{\"marker\":{\"colorbar\":{\"outlinewidth\":0,\"ticks\":\"\"}},\"type\":\"scatterpolargl\"}],\"scatterternary\":[{\"marker\":{\"colorbar\":{\"outlinewidth\":0,\"ticks\":\"\"}},\"type\":\"scatterternary\"}],\"surface\":[{\"colorbar\":{\"outlinewidth\":0,\"ticks\":\"\"},\"colorscale\":[[0.0,\"#0d0887\"],[0.1111111111111111,\"#46039f\"],[0.2222222222222222,\"#7201a8\"],[0.3333333333333333,\"#9c179e\"],[0.4444444444444444,\"#bd3786\"],[0.5555555555555556,\"#d8576b\"],[0.6666666666666666,\"#ed7953\"],[0.7777777777777778,\"#fb9f3a\"],[0.8888888888888888,\"#fdca26\"],[1.0,\"#f0f921\"]],\"type\":\"surface\"}],\"table\":[{\"cells\":{\"fill\":{\"color\":\"#EBF0F8\"},\"line\":{\"color\":\"white\"}},\"header\":{\"fill\":{\"color\":\"#C8D4E3\"},\"line\":{\"color\":\"white\"}},\"type\":\"table\"}]},\"layout\":{\"annotationdefaults\":{\"arrowcolor\":\"#2a3f5f\",\"arrowhead\":0,\"arrowwidth\":1},\"autotypenumbers\":\"strict\",\"coloraxis\":{\"colorbar\":{\"outlinewidth\":0,\"ticks\":\"\"}},\"colorscale\":{\"diverging\":[[0,\"#8e0152\"],[0.1,\"#c51b7d\"],[0.2,\"#de77ae\"],[0.3,\"#f1b6da\"],[0.4,\"#fde0ef\"],[0.5,\"#f7f7f7\"],[0.6,\"#e6f5d0\"],[0.7,\"#b8e186\"],[0.8,\"#7fbc41\"],[0.9,\"#4d9221\"],[1,\"#276419\"]],\"sequential\":[[0.0,\"#0d0887\"],[0.1111111111111111,\"#46039f\"],[0.2222222222222222,\"#7201a8\"],[0.3333333333333333,\"#9c179e\"],[0.4444444444444444,\"#bd3786\"],[0.5555555555555556,\"#d8576b\"],[0.6666666666666666,\"#ed7953\"],[0.7777777777777778,\"#fb9f3a\"],[0.8888888888888888,\"#fdca26\"],[1.0,\"#f0f921\"]],\"sequentialminus\":[[0.0,\"#0d0887\"],[0.1111111111111111,\"#46039f\"],[0.2222222222222222,\"#7201a8\"],[0.3333333333333333,\"#9c179e\"],[0.4444444444444444,\"#bd3786\"],[0.5555555555555556,\"#d8576b\"],[0.6666666666666666,\"#ed7953\"],[0.7777777777777778,\"#fb9f3a\"],[0.8888888888888888,\"#fdca26\"],[1.0,\"#f0f921\"]]},\"colorway\":[\"#636efa\",\"#EF553B\",\"#00cc96\",\"#ab63fa\",\"#FFA15A\",\"#19d3f3\",\"#FF6692\",\"#B6E880\",\"#FF97FF\",\"#FECB52\"],\"font\":{\"color\":\"#2a3f5f\"},\"geo\":{\"bgcolor\":\"white\",\"lakecolor\":\"white\",\"landcolor\":\"#E5ECF6\",\"showlakes\":true,\"showland\":true,\"subunitcolor\":\"white\"},\"hoverlabel\":{\"align\":\"left\"},\"hovermode\":\"closest\",\"mapbox\":{\"style\":\"light\"},\"paper_bgcolor\":\"white\",\"plot_bgcolor\":\"#E5ECF6\",\"polar\":{\"angularaxis\":{\"gridcolor\":\"white\",\"linecolor\":\"white\",\"ticks\":\"\"},\"bgcolor\":\"#E5ECF6\",\"radialaxis\":{\"gridcolor\":\"white\",\"linecolor\":\"white\",\"ticks\":\"\"}},\"scene\":{\"xaxis\":{\"backgroundcolor\":\"#E5ECF6\",\"gridcolor\":\"white\",\"gridwidth\":2,\"linecolor\":\"white\",\"showbackground\":true,\"ticks\":\"\",\"zerolinecolor\":\"white\"},\"yaxis\":{\"backgroundcolor\":\"#E5ECF6\",\"gridcolor\":\"white\",\"gridwidth\":2,\"linecolor\":\"white\",\"showbackground\":true,\"ticks\":\"\",\"zerolinecolor\":\"white\"},\"zaxis\":{\"backgroundcolor\":\"#E5ECF6\",\"gridcolor\":\"white\",\"gridwidth\":2,\"linecolor\":\"white\",\"showbackground\":true,\"ticks\":\"\",\"zerolinecolor\":\"white\"}},\"shapedefaults\":{\"line\":{\"color\":\"#2a3f5f\"}},\"ternary\":{\"aaxis\":{\"gridcolor\":\"white\",\"linecolor\":\"white\",\"ticks\":\"\"},\"baxis\":{\"gridcolor\":\"white\",\"linecolor\":\"white\",\"ticks\":\"\"},\"bgcolor\":\"#E5ECF6\",\"caxis\":{\"gridcolor\":\"white\",\"linecolor\":\"white\",\"ticks\":\"\"}},\"title\":{\"x\":0.05},\"xaxis\":{\"automargin\":true,\"gridcolor\":\"white\",\"linecolor\":\"white\",\"ticks\":\"\",\"title\":{\"standoff\":15},\"zerolinecolor\":\"white\",\"zerolinewidth\":2},\"yaxis\":{\"automargin\":true,\"gridcolor\":\"white\",\"linecolor\":\"white\",\"ticks\":\"\",\"title\":{\"standoff\":15},\"zerolinecolor\":\"white\",\"zerolinewidth\":2}}},\"mapbox\":{\"domain\":{\"x\":[0.0,1.0],\"y\":[0.0,1.0]},\"center\":{\"lat\":43.70884057764286,\"lon\":-79.40018550349994},\"accesstoken\":\"mapbox\",\"zoom\":8},\"legend\":{\"tracegroupgap\":0},\"margin\":{\"t\":60}},                        {\"responsive\": true}                    ).then(function(){\n",
       "                            \n",
       "var gd = document.getElementById('b4e6cb90-edb7-4035-b044-3d34210f1e88');\n",
       "var x = new MutationObserver(function (mutations, observer) {{\n",
       "        var display = window.getComputedStyle(gd).display;\n",
       "        if (!display || display === 'none') {{\n",
       "            console.log([gd, 'removed!']);\n",
       "            Plotly.purge(gd);\n",
       "            observer.disconnect();\n",
       "        }}\n",
       "}});\n",
       "\n",
       "// Listen for the removal of the full notebook cells\n",
       "var notebookContainer = gd.closest('#notebook-container');\n",
       "if (notebookContainer) {{\n",
       "    x.observe(notebookContainer, {childList: true});\n",
       "}}\n",
       "\n",
       "// Listen for the clearing of the current output cell\n",
       "var outputEl = gd.closest('.output');\n",
       "if (outputEl) {{\n",
       "    x.observe(outputEl, {childList: true});\n",
       "}}\n",
       "\n",
       "                        })                };                });            </script>        </div>"
      ]
     },
     "metadata": {},
     "output_type": "display_data"
    }
   ],
   "source": [
    "# Create a scatter mapbox to analyze neighbourhood info\n",
    "\n",
    "map_4= px.scatter_mapbox(\n",
    "    altogether,\n",
    "    lat=\"lat\",\n",
    "    lon=\"lon\"\n",
    ")\n",
    "map_4.show()"
   ]
  },
  {
   "cell_type": "markdown",
   "metadata": {},
   "source": [
    "- - -"
   ]
  },
  {
   "cell_type": "markdown",
   "metadata": {},
   "source": [
    "## Cost Analysis - Optional Challenge\n",
    "\n",
    "In this section, you will use Plotly express to a couple of plots that investors can interactively filter and explore various factors related to the house value of the Toronto's neighbourhoods. \n",
    "\n",
    "### Create a bar chart row facet to plot the average house values for all Toronto's neighbourhoods per year"
   ]
  },
  {
   "cell_type": "code",
   "execution_count": 82,
   "metadata": {},
   "outputs": [],
   "source": [
    "# YOUR CODE HERE!"
   ]
  },
  {
   "cell_type": "markdown",
   "metadata": {},
   "source": [
    "### Create a sunburst chart to conduct a costs analysis of most expensive neighbourhoods in Toronto per year"
   ]
  },
  {
   "cell_type": "code",
   "execution_count": null,
   "metadata": {},
   "outputs": [],
   "source": [
    "# Fetch the data from all expensive neighbourhoods per year.\n",
    "# YOUR CODE HERE!\n",
    "av=to_data.sort_values(by=\"average_house_value\",ascending= False).head(10)\n",
    "av"
   ]
  },
  {
   "cell_type": "code",
   "execution_count": 92,
   "metadata": {},
   "outputs": [
    {
     "data": {
      "application/vnd.plotly.v1+json": {
       "config": {
        "plotlyServerURL": "https://plot.ly"
       },
       "data": [
        {
         "branchvalues": "total",
         "domain": {
          "x": [
           0,
           1
          ],
          "y": [
           0,
           1
          ]
         },
         "hovertemplate": "labels=%{label}<br>average_house_value=%{value}<br>parent=%{parent}<br>id=%{id}<extra></extra>",
         "ids": [
          "Bedford Park-Nortown",
          "Bridle Path-Sunnybrook-York Mills",
          "Casa Loma",
          "Forest Hill South",
          "Lawrence Park South",
          "Rosedale-Moore Park",
          "St.Andrew-Windfields"
         ],
         "labels": [
          "Bedford Park-Nortown",
          "Bridle Path-Sunnybrook-York Mills",
          "Casa Loma",
          "Forest Hill South",
          "Lawrence Park South",
          "Rosedale-Moore Park",
          "St.Andrew-Windfields"
         ],
         "name": "",
         "parents": [
          "",
          "",
          "",
          "",
          "",
          "",
          ""
         ],
         "type": "sunburst",
         "values": [
          1295007,
          5178477,
          1365503,
          2994295,
          1522732,
          1522193,
          1390616
         ]
        }
       ],
       "layout": {
        "legend": {
         "tracegroupgap": 0
        },
        "margin": {
         "t": 60
        },
        "template": {
         "data": {
          "bar": [
           {
            "error_x": {
             "color": "#2a3f5f"
            },
            "error_y": {
             "color": "#2a3f5f"
            },
            "marker": {
             "line": {
              "color": "#E5ECF6",
              "width": 0.5
             },
             "pattern": {
              "fillmode": "overlay",
              "size": 10,
              "solidity": 0.2
             }
            },
            "type": "bar"
           }
          ],
          "barpolar": [
           {
            "marker": {
             "line": {
              "color": "#E5ECF6",
              "width": 0.5
             },
             "pattern": {
              "fillmode": "overlay",
              "size": 10,
              "solidity": 0.2
             }
            },
            "type": "barpolar"
           }
          ],
          "carpet": [
           {
            "aaxis": {
             "endlinecolor": "#2a3f5f",
             "gridcolor": "white",
             "linecolor": "white",
             "minorgridcolor": "white",
             "startlinecolor": "#2a3f5f"
            },
            "baxis": {
             "endlinecolor": "#2a3f5f",
             "gridcolor": "white",
             "linecolor": "white",
             "minorgridcolor": "white",
             "startlinecolor": "#2a3f5f"
            },
            "type": "carpet"
           }
          ],
          "choropleth": [
           {
            "colorbar": {
             "outlinewidth": 0,
             "ticks": ""
            },
            "type": "choropleth"
           }
          ],
          "contour": [
           {
            "colorbar": {
             "outlinewidth": 0,
             "ticks": ""
            },
            "colorscale": [
             [
              0,
              "#0d0887"
             ],
             [
              0.1111111111111111,
              "#46039f"
             ],
             [
              0.2222222222222222,
              "#7201a8"
             ],
             [
              0.3333333333333333,
              "#9c179e"
             ],
             [
              0.4444444444444444,
              "#bd3786"
             ],
             [
              0.5555555555555556,
              "#d8576b"
             ],
             [
              0.6666666666666666,
              "#ed7953"
             ],
             [
              0.7777777777777778,
              "#fb9f3a"
             ],
             [
              0.8888888888888888,
              "#fdca26"
             ],
             [
              1,
              "#f0f921"
             ]
            ],
            "type": "contour"
           }
          ],
          "contourcarpet": [
           {
            "colorbar": {
             "outlinewidth": 0,
             "ticks": ""
            },
            "type": "contourcarpet"
           }
          ],
          "heatmap": [
           {
            "colorbar": {
             "outlinewidth": 0,
             "ticks": ""
            },
            "colorscale": [
             [
              0,
              "#0d0887"
             ],
             [
              0.1111111111111111,
              "#46039f"
             ],
             [
              0.2222222222222222,
              "#7201a8"
             ],
             [
              0.3333333333333333,
              "#9c179e"
             ],
             [
              0.4444444444444444,
              "#bd3786"
             ],
             [
              0.5555555555555556,
              "#d8576b"
             ],
             [
              0.6666666666666666,
              "#ed7953"
             ],
             [
              0.7777777777777778,
              "#fb9f3a"
             ],
             [
              0.8888888888888888,
              "#fdca26"
             ],
             [
              1,
              "#f0f921"
             ]
            ],
            "type": "heatmap"
           }
          ],
          "heatmapgl": [
           {
            "colorbar": {
             "outlinewidth": 0,
             "ticks": ""
            },
            "colorscale": [
             [
              0,
              "#0d0887"
             ],
             [
              0.1111111111111111,
              "#46039f"
             ],
             [
              0.2222222222222222,
              "#7201a8"
             ],
             [
              0.3333333333333333,
              "#9c179e"
             ],
             [
              0.4444444444444444,
              "#bd3786"
             ],
             [
              0.5555555555555556,
              "#d8576b"
             ],
             [
              0.6666666666666666,
              "#ed7953"
             ],
             [
              0.7777777777777778,
              "#fb9f3a"
             ],
             [
              0.8888888888888888,
              "#fdca26"
             ],
             [
              1,
              "#f0f921"
             ]
            ],
            "type": "heatmapgl"
           }
          ],
          "histogram": [
           {
            "marker": {
             "pattern": {
              "fillmode": "overlay",
              "size": 10,
              "solidity": 0.2
             }
            },
            "type": "histogram"
           }
          ],
          "histogram2d": [
           {
            "colorbar": {
             "outlinewidth": 0,
             "ticks": ""
            },
            "colorscale": [
             [
              0,
              "#0d0887"
             ],
             [
              0.1111111111111111,
              "#46039f"
             ],
             [
              0.2222222222222222,
              "#7201a8"
             ],
             [
              0.3333333333333333,
              "#9c179e"
             ],
             [
              0.4444444444444444,
              "#bd3786"
             ],
             [
              0.5555555555555556,
              "#d8576b"
             ],
             [
              0.6666666666666666,
              "#ed7953"
             ],
             [
              0.7777777777777778,
              "#fb9f3a"
             ],
             [
              0.8888888888888888,
              "#fdca26"
             ],
             [
              1,
              "#f0f921"
             ]
            ],
            "type": "histogram2d"
           }
          ],
          "histogram2dcontour": [
           {
            "colorbar": {
             "outlinewidth": 0,
             "ticks": ""
            },
            "colorscale": [
             [
              0,
              "#0d0887"
             ],
             [
              0.1111111111111111,
              "#46039f"
             ],
             [
              0.2222222222222222,
              "#7201a8"
             ],
             [
              0.3333333333333333,
              "#9c179e"
             ],
             [
              0.4444444444444444,
              "#bd3786"
             ],
             [
              0.5555555555555556,
              "#d8576b"
             ],
             [
              0.6666666666666666,
              "#ed7953"
             ],
             [
              0.7777777777777778,
              "#fb9f3a"
             ],
             [
              0.8888888888888888,
              "#fdca26"
             ],
             [
              1,
              "#f0f921"
             ]
            ],
            "type": "histogram2dcontour"
           }
          ],
          "mesh3d": [
           {
            "colorbar": {
             "outlinewidth": 0,
             "ticks": ""
            },
            "type": "mesh3d"
           }
          ],
          "parcoords": [
           {
            "line": {
             "colorbar": {
              "outlinewidth": 0,
              "ticks": ""
             }
            },
            "type": "parcoords"
           }
          ],
          "pie": [
           {
            "automargin": true,
            "type": "pie"
           }
          ],
          "scatter": [
           {
            "marker": {
             "colorbar": {
              "outlinewidth": 0,
              "ticks": ""
             }
            },
            "type": "scatter"
           }
          ],
          "scatter3d": [
           {
            "line": {
             "colorbar": {
              "outlinewidth": 0,
              "ticks": ""
             }
            },
            "marker": {
             "colorbar": {
              "outlinewidth": 0,
              "ticks": ""
             }
            },
            "type": "scatter3d"
           }
          ],
          "scattercarpet": [
           {
            "marker": {
             "colorbar": {
              "outlinewidth": 0,
              "ticks": ""
             }
            },
            "type": "scattercarpet"
           }
          ],
          "scattergeo": [
           {
            "marker": {
             "colorbar": {
              "outlinewidth": 0,
              "ticks": ""
             }
            },
            "type": "scattergeo"
           }
          ],
          "scattergl": [
           {
            "marker": {
             "colorbar": {
              "outlinewidth": 0,
              "ticks": ""
             }
            },
            "type": "scattergl"
           }
          ],
          "scattermapbox": [
           {
            "marker": {
             "colorbar": {
              "outlinewidth": 0,
              "ticks": ""
             }
            },
            "type": "scattermapbox"
           }
          ],
          "scatterpolar": [
           {
            "marker": {
             "colorbar": {
              "outlinewidth": 0,
              "ticks": ""
             }
            },
            "type": "scatterpolar"
           }
          ],
          "scatterpolargl": [
           {
            "marker": {
             "colorbar": {
              "outlinewidth": 0,
              "ticks": ""
             }
            },
            "type": "scatterpolargl"
           }
          ],
          "scatterternary": [
           {
            "marker": {
             "colorbar": {
              "outlinewidth": 0,
              "ticks": ""
             }
            },
            "type": "scatterternary"
           }
          ],
          "surface": [
           {
            "colorbar": {
             "outlinewidth": 0,
             "ticks": ""
            },
            "colorscale": [
             [
              0,
              "#0d0887"
             ],
             [
              0.1111111111111111,
              "#46039f"
             ],
             [
              0.2222222222222222,
              "#7201a8"
             ],
             [
              0.3333333333333333,
              "#9c179e"
             ],
             [
              0.4444444444444444,
              "#bd3786"
             ],
             [
              0.5555555555555556,
              "#d8576b"
             ],
             [
              0.6666666666666666,
              "#ed7953"
             ],
             [
              0.7777777777777778,
              "#fb9f3a"
             ],
             [
              0.8888888888888888,
              "#fdca26"
             ],
             [
              1,
              "#f0f921"
             ]
            ],
            "type": "surface"
           }
          ],
          "table": [
           {
            "cells": {
             "fill": {
              "color": "#EBF0F8"
             },
             "line": {
              "color": "white"
             }
            },
            "header": {
             "fill": {
              "color": "#C8D4E3"
             },
             "line": {
              "color": "white"
             }
            },
            "type": "table"
           }
          ]
         },
         "layout": {
          "annotationdefaults": {
           "arrowcolor": "#2a3f5f",
           "arrowhead": 0,
           "arrowwidth": 1
          },
          "autotypenumbers": "strict",
          "coloraxis": {
           "colorbar": {
            "outlinewidth": 0,
            "ticks": ""
           }
          },
          "colorscale": {
           "diverging": [
            [
             0,
             "#8e0152"
            ],
            [
             0.1,
             "#c51b7d"
            ],
            [
             0.2,
             "#de77ae"
            ],
            [
             0.3,
             "#f1b6da"
            ],
            [
             0.4,
             "#fde0ef"
            ],
            [
             0.5,
             "#f7f7f7"
            ],
            [
             0.6,
             "#e6f5d0"
            ],
            [
             0.7,
             "#b8e186"
            ],
            [
             0.8,
             "#7fbc41"
            ],
            [
             0.9,
             "#4d9221"
            ],
            [
             1,
             "#276419"
            ]
           ],
           "sequential": [
            [
             0,
             "#0d0887"
            ],
            [
             0.1111111111111111,
             "#46039f"
            ],
            [
             0.2222222222222222,
             "#7201a8"
            ],
            [
             0.3333333333333333,
             "#9c179e"
            ],
            [
             0.4444444444444444,
             "#bd3786"
            ],
            [
             0.5555555555555556,
             "#d8576b"
            ],
            [
             0.6666666666666666,
             "#ed7953"
            ],
            [
             0.7777777777777778,
             "#fb9f3a"
            ],
            [
             0.8888888888888888,
             "#fdca26"
            ],
            [
             1,
             "#f0f921"
            ]
           ],
           "sequentialminus": [
            [
             0,
             "#0d0887"
            ],
            [
             0.1111111111111111,
             "#46039f"
            ],
            [
             0.2222222222222222,
             "#7201a8"
            ],
            [
             0.3333333333333333,
             "#9c179e"
            ],
            [
             0.4444444444444444,
             "#bd3786"
            ],
            [
             0.5555555555555556,
             "#d8576b"
            ],
            [
             0.6666666666666666,
             "#ed7953"
            ],
            [
             0.7777777777777778,
             "#fb9f3a"
            ],
            [
             0.8888888888888888,
             "#fdca26"
            ],
            [
             1,
             "#f0f921"
            ]
           ]
          },
          "colorway": [
           "#636efa",
           "#EF553B",
           "#00cc96",
           "#ab63fa",
           "#FFA15A",
           "#19d3f3",
           "#FF6692",
           "#B6E880",
           "#FF97FF",
           "#FECB52"
          ],
          "font": {
           "color": "#2a3f5f"
          },
          "geo": {
           "bgcolor": "white",
           "lakecolor": "white",
           "landcolor": "#E5ECF6",
           "showlakes": true,
           "showland": true,
           "subunitcolor": "white"
          },
          "hoverlabel": {
           "align": "left"
          },
          "hovermode": "closest",
          "mapbox": {
           "style": "light"
          },
          "paper_bgcolor": "white",
          "plot_bgcolor": "#E5ECF6",
          "polar": {
           "angularaxis": {
            "gridcolor": "white",
            "linecolor": "white",
            "ticks": ""
           },
           "bgcolor": "#E5ECF6",
           "radialaxis": {
            "gridcolor": "white",
            "linecolor": "white",
            "ticks": ""
           }
          },
          "scene": {
           "xaxis": {
            "backgroundcolor": "#E5ECF6",
            "gridcolor": "white",
            "gridwidth": 2,
            "linecolor": "white",
            "showbackground": true,
            "ticks": "",
            "zerolinecolor": "white"
           },
           "yaxis": {
            "backgroundcolor": "#E5ECF6",
            "gridcolor": "white",
            "gridwidth": 2,
            "linecolor": "white",
            "showbackground": true,
            "ticks": "",
            "zerolinecolor": "white"
           },
           "zaxis": {
            "backgroundcolor": "#E5ECF6",
            "gridcolor": "white",
            "gridwidth": 2,
            "linecolor": "white",
            "showbackground": true,
            "ticks": "",
            "zerolinecolor": "white"
           }
          },
          "shapedefaults": {
           "line": {
            "color": "#2a3f5f"
           }
          },
          "ternary": {
           "aaxis": {
            "gridcolor": "white",
            "linecolor": "white",
            "ticks": ""
           },
           "baxis": {
            "gridcolor": "white",
            "linecolor": "white",
            "ticks": ""
           },
           "bgcolor": "#E5ECF6",
           "caxis": {
            "gridcolor": "white",
            "linecolor": "white",
            "ticks": ""
           }
          },
          "title": {
           "x": 0.05
          },
          "xaxis": {
           "automargin": true,
           "gridcolor": "white",
           "linecolor": "white",
           "ticks": "",
           "title": {
            "standoff": 15
           },
           "zerolinecolor": "white",
           "zerolinewidth": 2
          },
          "yaxis": {
           "automargin": true,
           "gridcolor": "white",
           "linecolor": "white",
           "ticks": "",
           "title": {
            "standoff": 15
           },
           "zerolinecolor": "white",
           "zerolinewidth": 2
          }
         }
        }
       }
      },
      "text/html": [
       "<div>                            <div id=\"c8dc1438-5c6a-4bde-a62a-171d2b07fc67\" class=\"plotly-graph-div\" style=\"height:525px; width:100%;\"></div>            <script type=\"text/javascript\">                require([\"plotly\"], function(Plotly) {                    window.PLOTLYENV=window.PLOTLYENV || {};                                    if (document.getElementById(\"c8dc1438-5c6a-4bde-a62a-171d2b07fc67\")) {                    Plotly.newPlot(                        \"c8dc1438-5c6a-4bde-a62a-171d2b07fc67\",                        [{\"branchvalues\":\"total\",\"domain\":{\"x\":[0.0,1.0],\"y\":[0.0,1.0]},\"hovertemplate\":\"labels=%{label}<br>average_house_value=%{value}<br>parent=%{parent}<br>id=%{id}<extra></extra>\",\"ids\":[\"Bedford Park-Nortown\",\"Bridle Path-Sunnybrook-York Mills\",\"Casa Loma\",\"Forest Hill South\",\"Lawrence Park South\",\"Rosedale-Moore Park\",\"St.Andrew-Windfields\"],\"labels\":[\"Bedford Park-Nortown\",\"Bridle Path-Sunnybrook-York Mills\",\"Casa Loma\",\"Forest Hill South\",\"Lawrence Park South\",\"Rosedale-Moore Park\",\"St.Andrew-Windfields\"],\"name\":\"\",\"parents\":[\"\",\"\",\"\",\"\",\"\",\"\",\"\"],\"values\":[1295007,5178477,1365503,2994295,1522732,1522193,1390616],\"type\":\"sunburst\"}],                        {\"template\":{\"data\":{\"bar\":[{\"error_x\":{\"color\":\"#2a3f5f\"},\"error_y\":{\"color\":\"#2a3f5f\"},\"marker\":{\"line\":{\"color\":\"#E5ECF6\",\"width\":0.5},\"pattern\":{\"fillmode\":\"overlay\",\"size\":10,\"solidity\":0.2}},\"type\":\"bar\"}],\"barpolar\":[{\"marker\":{\"line\":{\"color\":\"#E5ECF6\",\"width\":0.5},\"pattern\":{\"fillmode\":\"overlay\",\"size\":10,\"solidity\":0.2}},\"type\":\"barpolar\"}],\"carpet\":[{\"aaxis\":{\"endlinecolor\":\"#2a3f5f\",\"gridcolor\":\"white\",\"linecolor\":\"white\",\"minorgridcolor\":\"white\",\"startlinecolor\":\"#2a3f5f\"},\"baxis\":{\"endlinecolor\":\"#2a3f5f\",\"gridcolor\":\"white\",\"linecolor\":\"white\",\"minorgridcolor\":\"white\",\"startlinecolor\":\"#2a3f5f\"},\"type\":\"carpet\"}],\"choropleth\":[{\"colorbar\":{\"outlinewidth\":0,\"ticks\":\"\"},\"type\":\"choropleth\"}],\"contour\":[{\"colorbar\":{\"outlinewidth\":0,\"ticks\":\"\"},\"colorscale\":[[0.0,\"#0d0887\"],[0.1111111111111111,\"#46039f\"],[0.2222222222222222,\"#7201a8\"],[0.3333333333333333,\"#9c179e\"],[0.4444444444444444,\"#bd3786\"],[0.5555555555555556,\"#d8576b\"],[0.6666666666666666,\"#ed7953\"],[0.7777777777777778,\"#fb9f3a\"],[0.8888888888888888,\"#fdca26\"],[1.0,\"#f0f921\"]],\"type\":\"contour\"}],\"contourcarpet\":[{\"colorbar\":{\"outlinewidth\":0,\"ticks\":\"\"},\"type\":\"contourcarpet\"}],\"heatmap\":[{\"colorbar\":{\"outlinewidth\":0,\"ticks\":\"\"},\"colorscale\":[[0.0,\"#0d0887\"],[0.1111111111111111,\"#46039f\"],[0.2222222222222222,\"#7201a8\"],[0.3333333333333333,\"#9c179e\"],[0.4444444444444444,\"#bd3786\"],[0.5555555555555556,\"#d8576b\"],[0.6666666666666666,\"#ed7953\"],[0.7777777777777778,\"#fb9f3a\"],[0.8888888888888888,\"#fdca26\"],[1.0,\"#f0f921\"]],\"type\":\"heatmap\"}],\"heatmapgl\":[{\"colorbar\":{\"outlinewidth\":0,\"ticks\":\"\"},\"colorscale\":[[0.0,\"#0d0887\"],[0.1111111111111111,\"#46039f\"],[0.2222222222222222,\"#7201a8\"],[0.3333333333333333,\"#9c179e\"],[0.4444444444444444,\"#bd3786\"],[0.5555555555555556,\"#d8576b\"],[0.6666666666666666,\"#ed7953\"],[0.7777777777777778,\"#fb9f3a\"],[0.8888888888888888,\"#fdca26\"],[1.0,\"#f0f921\"]],\"type\":\"heatmapgl\"}],\"histogram\":[{\"marker\":{\"pattern\":{\"fillmode\":\"overlay\",\"size\":10,\"solidity\":0.2}},\"type\":\"histogram\"}],\"histogram2d\":[{\"colorbar\":{\"outlinewidth\":0,\"ticks\":\"\"},\"colorscale\":[[0.0,\"#0d0887\"],[0.1111111111111111,\"#46039f\"],[0.2222222222222222,\"#7201a8\"],[0.3333333333333333,\"#9c179e\"],[0.4444444444444444,\"#bd3786\"],[0.5555555555555556,\"#d8576b\"],[0.6666666666666666,\"#ed7953\"],[0.7777777777777778,\"#fb9f3a\"],[0.8888888888888888,\"#fdca26\"],[1.0,\"#f0f921\"]],\"type\":\"histogram2d\"}],\"histogram2dcontour\":[{\"colorbar\":{\"outlinewidth\":0,\"ticks\":\"\"},\"colorscale\":[[0.0,\"#0d0887\"],[0.1111111111111111,\"#46039f\"],[0.2222222222222222,\"#7201a8\"],[0.3333333333333333,\"#9c179e\"],[0.4444444444444444,\"#bd3786\"],[0.5555555555555556,\"#d8576b\"],[0.6666666666666666,\"#ed7953\"],[0.7777777777777778,\"#fb9f3a\"],[0.8888888888888888,\"#fdca26\"],[1.0,\"#f0f921\"]],\"type\":\"histogram2dcontour\"}],\"mesh3d\":[{\"colorbar\":{\"outlinewidth\":0,\"ticks\":\"\"},\"type\":\"mesh3d\"}],\"parcoords\":[{\"line\":{\"colorbar\":{\"outlinewidth\":0,\"ticks\":\"\"}},\"type\":\"parcoords\"}],\"pie\":[{\"automargin\":true,\"type\":\"pie\"}],\"scatter\":[{\"marker\":{\"colorbar\":{\"outlinewidth\":0,\"ticks\":\"\"}},\"type\":\"scatter\"}],\"scatter3d\":[{\"line\":{\"colorbar\":{\"outlinewidth\":0,\"ticks\":\"\"}},\"marker\":{\"colorbar\":{\"outlinewidth\":0,\"ticks\":\"\"}},\"type\":\"scatter3d\"}],\"scattercarpet\":[{\"marker\":{\"colorbar\":{\"outlinewidth\":0,\"ticks\":\"\"}},\"type\":\"scattercarpet\"}],\"scattergeo\":[{\"marker\":{\"colorbar\":{\"outlinewidth\":0,\"ticks\":\"\"}},\"type\":\"scattergeo\"}],\"scattergl\":[{\"marker\":{\"colorbar\":{\"outlinewidth\":0,\"ticks\":\"\"}},\"type\":\"scattergl\"}],\"scattermapbox\":[{\"marker\":{\"colorbar\":{\"outlinewidth\":0,\"ticks\":\"\"}},\"type\":\"scattermapbox\"}],\"scatterpolar\":[{\"marker\":{\"colorbar\":{\"outlinewidth\":0,\"ticks\":\"\"}},\"type\":\"scatterpolar\"}],\"scatterpolargl\":[{\"marker\":{\"colorbar\":{\"outlinewidth\":0,\"ticks\":\"\"}},\"type\":\"scatterpolargl\"}],\"scatterternary\":[{\"marker\":{\"colorbar\":{\"outlinewidth\":0,\"ticks\":\"\"}},\"type\":\"scatterternary\"}],\"surface\":[{\"colorbar\":{\"outlinewidth\":0,\"ticks\":\"\"},\"colorscale\":[[0.0,\"#0d0887\"],[0.1111111111111111,\"#46039f\"],[0.2222222222222222,\"#7201a8\"],[0.3333333333333333,\"#9c179e\"],[0.4444444444444444,\"#bd3786\"],[0.5555555555555556,\"#d8576b\"],[0.6666666666666666,\"#ed7953\"],[0.7777777777777778,\"#fb9f3a\"],[0.8888888888888888,\"#fdca26\"],[1.0,\"#f0f921\"]],\"type\":\"surface\"}],\"table\":[{\"cells\":{\"fill\":{\"color\":\"#EBF0F8\"},\"line\":{\"color\":\"white\"}},\"header\":{\"fill\":{\"color\":\"#C8D4E3\"},\"line\":{\"color\":\"white\"}},\"type\":\"table\"}]},\"layout\":{\"annotationdefaults\":{\"arrowcolor\":\"#2a3f5f\",\"arrowhead\":0,\"arrowwidth\":1},\"autotypenumbers\":\"strict\",\"coloraxis\":{\"colorbar\":{\"outlinewidth\":0,\"ticks\":\"\"}},\"colorscale\":{\"diverging\":[[0,\"#8e0152\"],[0.1,\"#c51b7d\"],[0.2,\"#de77ae\"],[0.3,\"#f1b6da\"],[0.4,\"#fde0ef\"],[0.5,\"#f7f7f7\"],[0.6,\"#e6f5d0\"],[0.7,\"#b8e186\"],[0.8,\"#7fbc41\"],[0.9,\"#4d9221\"],[1,\"#276419\"]],\"sequential\":[[0.0,\"#0d0887\"],[0.1111111111111111,\"#46039f\"],[0.2222222222222222,\"#7201a8\"],[0.3333333333333333,\"#9c179e\"],[0.4444444444444444,\"#bd3786\"],[0.5555555555555556,\"#d8576b\"],[0.6666666666666666,\"#ed7953\"],[0.7777777777777778,\"#fb9f3a\"],[0.8888888888888888,\"#fdca26\"],[1.0,\"#f0f921\"]],\"sequentialminus\":[[0.0,\"#0d0887\"],[0.1111111111111111,\"#46039f\"],[0.2222222222222222,\"#7201a8\"],[0.3333333333333333,\"#9c179e\"],[0.4444444444444444,\"#bd3786\"],[0.5555555555555556,\"#d8576b\"],[0.6666666666666666,\"#ed7953\"],[0.7777777777777778,\"#fb9f3a\"],[0.8888888888888888,\"#fdca26\"],[1.0,\"#f0f921\"]]},\"colorway\":[\"#636efa\",\"#EF553B\",\"#00cc96\",\"#ab63fa\",\"#FFA15A\",\"#19d3f3\",\"#FF6692\",\"#B6E880\",\"#FF97FF\",\"#FECB52\"],\"font\":{\"color\":\"#2a3f5f\"},\"geo\":{\"bgcolor\":\"white\",\"lakecolor\":\"white\",\"landcolor\":\"#E5ECF6\",\"showlakes\":true,\"showland\":true,\"subunitcolor\":\"white\"},\"hoverlabel\":{\"align\":\"left\"},\"hovermode\":\"closest\",\"mapbox\":{\"style\":\"light\"},\"paper_bgcolor\":\"white\",\"plot_bgcolor\":\"#E5ECF6\",\"polar\":{\"angularaxis\":{\"gridcolor\":\"white\",\"linecolor\":\"white\",\"ticks\":\"\"},\"bgcolor\":\"#E5ECF6\",\"radialaxis\":{\"gridcolor\":\"white\",\"linecolor\":\"white\",\"ticks\":\"\"}},\"scene\":{\"xaxis\":{\"backgroundcolor\":\"#E5ECF6\",\"gridcolor\":\"white\",\"gridwidth\":2,\"linecolor\":\"white\",\"showbackground\":true,\"ticks\":\"\",\"zerolinecolor\":\"white\"},\"yaxis\":{\"backgroundcolor\":\"#E5ECF6\",\"gridcolor\":\"white\",\"gridwidth\":2,\"linecolor\":\"white\",\"showbackground\":true,\"ticks\":\"\",\"zerolinecolor\":\"white\"},\"zaxis\":{\"backgroundcolor\":\"#E5ECF6\",\"gridcolor\":\"white\",\"gridwidth\":2,\"linecolor\":\"white\",\"showbackground\":true,\"ticks\":\"\",\"zerolinecolor\":\"white\"}},\"shapedefaults\":{\"line\":{\"color\":\"#2a3f5f\"}},\"ternary\":{\"aaxis\":{\"gridcolor\":\"white\",\"linecolor\":\"white\",\"ticks\":\"\"},\"baxis\":{\"gridcolor\":\"white\",\"linecolor\":\"white\",\"ticks\":\"\"},\"bgcolor\":\"#E5ECF6\",\"caxis\":{\"gridcolor\":\"white\",\"linecolor\":\"white\",\"ticks\":\"\"}},\"title\":{\"x\":0.05},\"xaxis\":{\"automargin\":true,\"gridcolor\":\"white\",\"linecolor\":\"white\",\"ticks\":\"\",\"title\":{\"standoff\":15},\"zerolinecolor\":\"white\",\"zerolinewidth\":2},\"yaxis\":{\"automargin\":true,\"gridcolor\":\"white\",\"linecolor\":\"white\",\"ticks\":\"\",\"title\":{\"standoff\":15},\"zerolinecolor\":\"white\",\"zerolinewidth\":2}}},\"legend\":{\"tracegroupgap\":0},\"margin\":{\"t\":60}},                        {\"responsive\": true}                    ).then(function(){\n",
       "                            \n",
       "var gd = document.getElementById('c8dc1438-5c6a-4bde-a62a-171d2b07fc67');\n",
       "var x = new MutationObserver(function (mutations, observer) {{\n",
       "        var display = window.getComputedStyle(gd).display;\n",
       "        if (!display || display === 'none') {{\n",
       "            console.log([gd, 'removed!']);\n",
       "            Plotly.purge(gd);\n",
       "            observer.disconnect();\n",
       "        }}\n",
       "}});\n",
       "\n",
       "// Listen for the removal of the full notebook cells\n",
       "var notebookContainer = gd.closest('#notebook-container');\n",
       "if (notebookContainer) {{\n",
       "    x.observe(notebookContainer, {childList: true});\n",
       "}}\n",
       "\n",
       "// Listen for the clearing of the current output cell\n",
       "var outputEl = gd.closest('.output');\n",
       "if (outputEl) {{\n",
       "    x.observe(outputEl, {childList: true});\n",
       "}}\n",
       "\n",
       "                        })                };                });            </script>        </div>"
      ]
     },
     "metadata": {},
     "output_type": "display_data"
    }
   ],
   "source": [
    "# Create the sunburst chart\n",
    "# YOUR CODE HERE!\n",
    "fig = px.sunburst(av, path=['neighbourhood'], values='average_house_value')\n",
    "fig.show()"
   ]
  },
  {
   "cell_type": "code",
   "execution_count": null,
   "metadata": {},
   "outputs": [],
   "source": []
  }
 ],
 "metadata": {
  "file_extension": ".py",
  "kernelspec": {
   "display_name": "Python [conda env:pyvizenv]",
   "language": "python",
   "name": "conda-env-pyvizenv-py"
  },
  "language_info": {
   "codemirror_mode": {
    "name": "ipython",
    "version": 3
   },
   "file_extension": ".py",
   "mimetype": "text/x-python",
   "name": "python",
   "nbconvert_exporter": "python",
   "pygments_lexer": "ipython3",
   "version": "3.7.11"
  },
  "mimetype": "text/x-python",
  "name": "python",
  "npconvert_exporter": "python",
  "pygments_lexer": "ipython3",
  "version": 3
 },
 "nbformat": 4,
 "nbformat_minor": 4
}
